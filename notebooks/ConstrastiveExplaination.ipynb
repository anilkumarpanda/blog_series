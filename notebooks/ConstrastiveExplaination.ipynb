{
 "metadata": {
  "language_info": {
   "codemirror_mode": {
    "name": "ipython",
    "version": 3
   },
   "file_extension": ".py",
   "mimetype": "text/x-python",
   "name": "python",
   "nbconvert_exporter": "python",
   "pygments_lexer": "ipython3",
   "version": "3.6.2-final"
  },
  "orig_nbformat": 2,
  "kernelspec": {
   "name": "Python 3.6.2 64-bit ('ml_course': conda)",
   "display_name": "Python 3.6.2 64-bit ('ml_course': conda)",
   "metadata": {
    "interpreter": {
     "hash": "840a8f90bab7f8aa7aca9b581783b6d463addd3704b569b9012f434dd16204f7"
    }
   }
  }
 },
 "nbformat": 4,
 "nbformat_minor": 2,
 "cells": [
  {
   "cell_type": "code",
   "execution_count": 1,
   "metadata": {},
   "outputs": [
    {
     "output_type": "stream",
     "name": "stderr",
     "text": [
      "2020-11-01 23:25:19.207 | INFO     | blog.data.lnt_dataset:_read_data:18 - Reading data from path ../data/lnt_dataset.csv\n",
      "2020-11-01 23:25:19.949 | INFO     | blog.data.lnt_dataset:_read_data:20 - Read data with shape (233154, 41)\n",
      "2020-11-01 23:25:19.949 | INFO     | blog.data.lnt_dataset:_process_data:29 - Dropping all id columns\n",
      "2020-11-01 23:25:19.998 | INFO     | blog.data.lnt_dataset:_process_data:36 - Calculating customer age\n",
      "2020-11-01 23:25:20.534 | INFO     | blog.data.lnt_dataset:_process_data:39 - Calculating financial age of customer\n",
      "2020-11-01 23:25:21.130 | INFO     | blog.data.lnt_dataset:get_data:95 - Dropping na rows.\n",
      "2020-11-01 23:25:21.255 | INFO     | blog.data.lnt_dataset:get_data:101 - Shape of training data X :(225493, 32), y : (225493,).\n"
     ]
    }
   ],
   "source": [
    "import pandas as pd \n",
    "from loguru import logger \n",
    "from blog.data.data_cleaner_factory import DataCleanerFactory\n",
    "\n",
    "dcf = DataCleanerFactory()\n",
    "lnt_dataset  = dcf.getDataset('lnt')\n",
    "X,y = lnt_dataset.get_data(path='../data/lnt_dataset.csv')\n"
   ]
  },
  {
   "cell_type": "code",
   "execution_count": null,
   "metadata": {},
   "outputs": [],
   "source": []
  }
 ]
}