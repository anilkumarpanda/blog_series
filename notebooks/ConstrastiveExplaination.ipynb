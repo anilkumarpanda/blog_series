{
 "metadata": {
  "language_info": {
   "codemirror_mode": {
    "name": "ipython",
    "version": 3
   },
   "file_extension": ".py",
   "mimetype": "text/x-python",
   "name": "python",
   "nbconvert_exporter": "python",
   "pygments_lexer": "ipython3",
   "version": "3.6.2-final"
  },
  "orig_nbformat": 2,
  "kernelspec": {
   "name": "Python 3.6.2 64-bit ('ml_course': conda)",
   "display_name": "Python 3.6.2 64-bit ('ml_course': conda)",
   "metadata": {
    "interpreter": {
     "hash": "840a8f90bab7f8aa7aca9b581783b6d463addd3704b569b9012f434dd16204f7"
    }
   }
  }
 },
 "nbformat": 4,
 "nbformat_minor": 2,
 "cells": [
  {
   "cell_type": "code",
   "execution_count": null,
   "metadata": {},
   "outputs": [],
   "source": [
    "import pandas as pd \n",
    "from loguru import logger \n",
    "from blog.data.data_cleaner_factory import DataCleanerFactory\n",
    "\n",
    "dcf = DataCleanerFactory()\n",
    "lnt_dataset  = dcf.getDataset('lnt')\n",
    "X,y = lnt_dataset.get_data(path='../data/lnt_dataset.csv')"
   ]
  },
  {
   "cell_type": "code",
   "execution_count": null,
   "metadata": {},
   "outputs": [],
   "source": [
    "from sklearn import datasets, model_selection, ensemble\n",
    "seed = 1\n",
    "\n",
    "\n",
    "train, test, y_train, y_test = model_selection.train_test_split(X, \n",
    "                                                                y, \n",
    "                                                                train_size=0.70,random_state=seed)\n",
    "model = ensemble.RandomForestClassifier(random_state=seed)\n",
    "model.fit(train, y_train)"
   ]
  },
  {
   "cell_type": "code",
   "execution_count": null,
   "metadata": {},
   "outputs": [],
   "source": [
    "# Contrastive explanation\n",
    "import contrastive_explanation as ce\n",
    "\n",
    "dm = ce.domain_mappers.DomainMapperTabular(train, \n",
    "                                           feature_names=X.feature_names,\n",
    "\t\t\t\t\t   contrast_names=y.target_names)\n",
    "exp = ce.ContrastiveExplanation(dm, verbose=True)\n",
    "\n",
    "sample = test[0]\n",
    "exp.explain_instance_domain(model.predict_proba, sample)"
   ]
  },
  {
   "cell_type": "code",
   "execution_count": null,
   "metadata": {},
   "outputs": [],
   "source": [
    "# Read the adult data set (https://archive.ics.uci.edu/ml/datasets/Adult)\n",
    "c_file = ce.utils.download_data('https://archive.ics.uci.edu/ml/machine-learning-databases/adult/adult.data')\n",
    "c_df = pd.read_csv(c_file, header=None, skipinitialspace=True)\n",
    "c_df = c_df.drop([2, 4], axis=1)\n",
    "\n",
    "# Give descriptive names to features\n",
    "c_features    = ['age', 'workclass', 'education', 'marital-status',\n",
    "                 'occupation', 'relationship', 'race', 'sex',\n",
    "                 'capital-gain', 'capital-loss', 'hours-per-week',\n",
    "                 'native-country']\n",
    "c_categorical = ['workclass', 'education', 'marital-status', 'occupation',\n",
    "                 'relationship', 'race', 'sex', 'native-country']\n",
    "c_df.columns  = c_features + ['class']\n",
    "c_contrasts   = c_df['class'].unique()\n",
    "\n",
    "# Split into x and y (class feature is last feature)\n",
    "cx, cy = c_df.iloc[:, :-1], c_df.iloc[:, -1]\n",
    "c_df.head()"
   ]
  },
  {
   "cell_type": "code",
   "execution_count": null,
   "metadata": {},
   "outputs": [],
   "source": [
    "# Split data in a train/test set and in predictor (x) and target (y) variables\n",
    "from sklearn import datasets, model_selection, ensemble, metrics, pipeline, preprocessing\n",
    "import numpy as np \n",
    "SEED = np.random.RandomState(1994)\n",
    "cx_train, cx_test, cy_train, cy_test = model_selection.train_test_split(cx, \n",
    "                                                                        cy, \n",
    "                                                                        train_size=0.80, \n",
    "                                                                        random_state=76)\n",
    "\n",
    "# Train an AdaBoostClassifier\n",
    "c_model = pipeline.Pipeline([('label_encoder', ce.CustomLabelEncoder(c_categorical).fit(cx)),\n",
    "                             ('classifier', ensemble.AdaBoostClassifier(random_state=75, n_estimators=100))])\n",
    "c_model.fit(cx_train, cy_train)\n",
    "\n",
    "# Print out the classifier performance (F1-score)\n",
    "print('Classifier performance (F1):', metrics.f1_score(cy_test, c_model.predict(cx_test), average='weighted'))"
   ]
  },
  {
   "cell_type": "code",
   "execution_count": null,
   "metadata": {},
   "outputs": [],
   "source": [
    "# Select a sample to explain ('questioned data point') why it predicted the fact instead of the foil \n",
    "sample = cx_test.iloc[5]\n",
    "print(sample)\n",
    "\n",
    "# Create a domain mapper for the Pandas DataFrame (it will automatically infer feature names)\n",
    "c_dm = ce.domain_mappers.DomainMapperPandas(cx_train,\n",
    "                                            contrast_names=c_contrasts)\n",
    "\n",
    "# Create the contrastive explanation object (default is a Foil Tree explanator)\n",
    "c_exp = ce.ContrastiveExplanation(c_dm)\n",
    "\n",
    "# Explain the instance (sample) for the given model\n",
    "c_exp.explain_instance_domain(c_model.predict_proba, sample)"
   ]
  },
  {
   "cell_type": "code",
   "execution_count": null,
   "metadata": {},
   "outputs": [],
   "source": [
    "print(c_contrasts)"
   ]
  },
  {
   "cell_type": "code",
   "execution_count": null,
   "metadata": {},
   "outputs": [],
   "source": [
    "type(cy_train)"
   ]
  },
  {
   "cell_type": "code",
   "execution_count": null,
   "metadata": {},
   "outputs": [],
   "source": []
  }
 ]
}