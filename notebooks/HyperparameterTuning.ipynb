{
 "metadata": {
  "language_info": {
   "codemirror_mode": {
    "name": "ipython",
    "version": 3
   },
   "file_extension": ".py",
   "mimetype": "text/x-python",
   "name": "python",
   "nbconvert_exporter": "python",
   "pygments_lexer": "ipython3",
   "version": "3.6.2-final"
  },
  "orig_nbformat": 2,
  "kernelspec": {
   "name": "Python 3.6.2 64-bit ('ml_course': conda)",
   "display_name": "Python 3.6.2 64-bit ('ml_course': conda)",
   "metadata": {
    "interpreter": {
     "hash": "840a8f90bab7f8aa7aca9b581783b6d463addd3704b569b9012f434dd16204f7"
    }
   }
  }
 },
 "nbformat": 4,
 "nbformat_minor": 2,
 "cells": [
  {
   "cell_type": "markdown",
   "metadata": {},
   "source": [
    "# Hyperparameter Tuning.\n",
    "Generally in the ML , we use the grid search/random search to tune the hyperparameters.\n",
    "However I feel that is a kitchen sink approach, where we randomly put in a range of parameters and see if that works.\n",
    "In this blog post we will see if we can find a better way of doing it.\n",
    "\n",
    "Let us begin with the regularisation parameter for XGBoost.\n"
   ]
  },
  {
   "cell_type": "code",
   "execution_count": 3,
   "metadata": {},
   "outputs": [
    {
     "output_type": "stream",
     "name": "stderr",
     "text": [
      "2020-11-02 00:14:56.645 | INFO     | blog.data.lnt_dataset:_read_data:18 - Reading data from path ../data/lnt_dataset.csv\n",
      "2020-11-02 00:14:57.533 | INFO     | blog.data.lnt_dataset:_read_data:20 - Read data with shape (233154, 41)\n",
      "2020-11-02 00:14:57.533 | INFO     | blog.data.lnt_dataset:_process_data:29 - Dropping all id columns\n",
      "2020-11-02 00:14:57.587 | INFO     | blog.data.lnt_dataset:_process_data:36 - Calculating customer age\n",
      "2020-11-02 00:14:58.168 | INFO     | blog.data.lnt_dataset:_process_data:39 - Calculating financial age of customer\n",
      "2020-11-02 00:14:58.810 | INFO     | blog.data.lnt_dataset:get_data:95 - Dropping na rows.\n",
      "2020-11-02 00:14:58.944 | INFO     | blog.data.lnt_dataset:get_data:101 - Shape of training data X :(225493, 32), y : (225493,).\n"
     ]
    }
   ],
   "source": [
    "import pandas as pd \n",
    "from loguru import logger \n",
    "from blog.data.data_cleaner_factory import DataCleanerFactory\n",
    "\n",
    "dcf = DataCleanerFactory()\n",
    "lnt_dataset  = dcf.getDataset('lnt')\n",
    "X,y = lnt_dataset.get_data(path='../data/lnt_dataset.csv')\n",
    "X.drop(['Employment.Type','PERFORM_CNS.SCORE.DESCRIPTION'],axis=1,inplace=True)"
   ]
  },
  {
   "cell_type": "code",
   "execution_count": 4,
   "metadata": {},
   "outputs": [
    {
     "output_type": "stream",
     "name": "stdout",
     "text": [
      "Train shape : (169119, 30) , (169119,)\nTest shape : (56374, 30),(56374,) \n"
     ]
    }
   ],
   "source": [
    "from sklearn.model_selection import train_test_split\n",
    "X_train,X_test,y_train,y_test = train_test_split(X,y,stratify=y,random_state=65)\n",
    "print(f\"Train shape : {X_train.shape} , {y_train.shape}\")\n",
    "print(f\"Test shape : {X_test.shape},{y_test.shape} \")"
   ]
  },
  {
   "cell_type": "code",
   "execution_count": 5,
   "metadata": {},
   "outputs": [
    {
     "output_type": "stream",
     "name": "stdout",
     "text": [
      "Created a base classifier : XGBClassifier(base_score=0.5, booster='gbtree', colsample_bylevel=1,\n              colsample_bynode=1, colsample_bytree=1, gamma=0,\n              learning_rate=0.1, max_delta_step=0, max_depth=3,\n              min_child_weight=1, missing=None, n_estimators=100, n_jobs=1,\n              nthread=None, objective='binary:logistic', random_state=0,\n              reg_alpha=0, reg_lambda=1, scale_pos_weight=1, seed=None,\n              silent=None, subsample=1, verbosity=1)\n"
     ]
    }
   ],
   "source": [
    "from xgboost import XGBClassifier\n",
    "xgb_clf = XGBClassifier()\n",
    "print(f\"Created a base classifier : {xgb_clf}\")"
   ]
  },
  {
   "cell_type": "code",
   "execution_count": 6,
   "metadata": {},
   "outputs": [
    {
     "output_type": "execute_result",
     "data": {
      "text/plain": [
       "XGBClassifier(base_score=0.5, booster='gbtree', colsample_bylevel=1,\n",
       "              colsample_bynode=1, colsample_bytree=1, gamma=0,\n",
       "              learning_rate=0.1, max_delta_step=0, max_depth=3,\n",
       "              min_child_weight=1, missing=None, n_estimators=100, n_jobs=1,\n",
       "              nthread=None, objective='binary:logistic', random_state=0,\n",
       "              reg_alpha=0, reg_lambda=1, scale_pos_weight=1, seed=None,\n",
       "              silent=None, subsample=1, verbosity=1)"
      ]
     },
     "metadata": {},
     "execution_count": 6
    }
   ],
   "source": [
    "xgb_clf.fit(X_train,y_train)"
   ]
  },
  {
   "cell_type": "code",
   "execution_count": 7,
   "metadata": {},
   "outputs": [
    {
     "output_type": "execute_result",
     "data": {
      "text/plain": [
       "    Tree  Node    ID                Feature          Split   Yes    No  \\\n",
       "0      0     0   0-0       disbursed_amount   50751.000000   0-1   0-2   \n",
       "1      0     1   0-1                    ltv      73.494995   0-3   0-4   \n",
       "2      0     2   0-2      PERFORM_CNS.SCORE     644.000000   0-5   0-6   \n",
       "3      0     3   0-3      PERFORM_CNS.SCORE     708.000000   0-7   0-8   \n",
       "4      0     4   0-4      PERFORM_CNS.SCORE     660.000000   0-9  0-10   \n",
       "5      0     5   0-5                    ltv      79.434998  0-11  0-12   \n",
       "6      0     6   0-6  PRI.SANCTIONED.AMOUNT  185995.000000  0-13  0-14   \n",
       "7      0     7   0-7                   Leaf            NaN   NaN   NaN   \n",
       "8      0     8   0-8                   Leaf            NaN   NaN   NaN   \n",
       "9      0     9   0-9                   Leaf            NaN   NaN   NaN   \n",
       "10     0    10  0-10                   Leaf            NaN   NaN   NaN   \n",
       "11     0    11  0-11                   Leaf            NaN   NaN   NaN   \n",
       "12     0    12  0-12                   Leaf            NaN   NaN   NaN   \n",
       "13     0    13  0-13                   Leaf            NaN   NaN   NaN   \n",
       "14     0    14  0-14                   Leaf            NaN   NaN   NaN   \n",
       "15     1     0   1-0       disbursed_amount   50751.000000   1-1   1-2   \n",
       "16     1     1   1-1                    ltv      73.115005   1-3   1-4   \n",
       "17     1     2   1-2      PERFORM_CNS.SCORE     632.000000   1-5   1-6   \n",
       "18     1     3   1-3      PERFORM_CNS.SCORE     708.000000   1-7   1-8   \n",
       "19     1     4   1-4      PERFORM_CNS.SCORE     660.000000   1-9  1-10   \n",
       "20     1     5   1-5           VoterID_flag       1.000000  1-11  1-12   \n",
       "21     1     6   1-6        NO.OF_INQUIRIES       1.000000  1-13  1-14   \n",
       "22     1     7   1-7                   Leaf            NaN   NaN   NaN   \n",
       "23     1     8   1-8                   Leaf            NaN   NaN   NaN   \n",
       "24     1     9   1-9                   Leaf            NaN   NaN   NaN   \n",
       "25     1    10  1-10                   Leaf            NaN   NaN   NaN   \n",
       "26     1    11  1-11                   Leaf            NaN   NaN   NaN   \n",
       "27     1    12  1-12                   Leaf            NaN   NaN   NaN   \n",
       "28     1    13  1-13                   Leaf            NaN   NaN   NaN   \n",
       "29     1    14  1-14                   Leaf            NaN   NaN   NaN   \n",
       "\n",
       "   Missing        Gain        Cover  \n",
       "0      0-1  925.406250  42279.75000  \n",
       "1      0-3  336.103516  16007.50000  \n",
       "2      0-5  645.250000  26272.25000  \n",
       "3      0-7   68.816406   9752.75000  \n",
       "4      0-9  159.201172   6254.75000  \n",
       "5     0-11  157.087891  18695.25000  \n",
       "6     0-13  172.448242   7577.00000  \n",
       "7      NaN   -0.139229   7642.50000  \n",
       "8      NaN   -0.159929   2110.25000  \n",
       "9      NaN   -0.104000   4517.75000  \n",
       "10     NaN   -0.139758   1737.00000  \n",
       "11     NaN   -0.101451   8684.00000  \n",
       "12     NaN   -0.083023  10011.25000  \n",
       "13     NaN   -0.116828   5484.00000  \n",
       "14     NaN   -0.150716   2093.00000  \n",
       "15     1-1  763.035156  42138.69920  \n",
       "16     1-3  278.404297  15936.49800  \n",
       "17     1-5  531.050781  26202.20120  \n",
       "18     1-7   54.571289   9456.92969  \n",
       "19     1-9  134.894531   6479.56787  \n",
       "20    1-11  155.637695  18359.32420  \n",
       "21    1-13  155.171875   7842.87598  \n",
       "22     NaN   -0.126346   7419.23730  \n",
       "23     NaN   -0.145104   2037.69263  \n",
       "24     NaN   -0.094433   4681.20361  \n",
       "25     NaN   -0.126775   1798.36475  \n",
       "26     NaN   -0.086468  15315.66800  \n",
       "27     NaN   -0.061660   3043.65698  \n",
       "28     NaN   -0.120805   6171.53955  \n",
       "29     NaN   -0.086322   1671.33618  "
      ],
      "text/html": "<div>\n<style scoped>\n    .dataframe tbody tr th:only-of-type {\n        vertical-align: middle;\n    }\n\n    .dataframe tbody tr th {\n        vertical-align: top;\n    }\n\n    .dataframe thead th {\n        text-align: right;\n    }\n</style>\n<table border=\"1\" class=\"dataframe\">\n  <thead>\n    <tr style=\"text-align: right;\">\n      <th></th>\n      <th>Tree</th>\n      <th>Node</th>\n      <th>ID</th>\n      <th>Feature</th>\n      <th>Split</th>\n      <th>Yes</th>\n      <th>No</th>\n      <th>Missing</th>\n      <th>Gain</th>\n      <th>Cover</th>\n    </tr>\n  </thead>\n  <tbody>\n    <tr>\n      <th>0</th>\n      <td>0</td>\n      <td>0</td>\n      <td>0-0</td>\n      <td>disbursed_amount</td>\n      <td>50751.000000</td>\n      <td>0-1</td>\n      <td>0-2</td>\n      <td>0-1</td>\n      <td>925.406250</td>\n      <td>42279.75000</td>\n    </tr>\n    <tr>\n      <th>1</th>\n      <td>0</td>\n      <td>1</td>\n      <td>0-1</td>\n      <td>ltv</td>\n      <td>73.494995</td>\n      <td>0-3</td>\n      <td>0-4</td>\n      <td>0-3</td>\n      <td>336.103516</td>\n      <td>16007.50000</td>\n    </tr>\n    <tr>\n      <th>2</th>\n      <td>0</td>\n      <td>2</td>\n      <td>0-2</td>\n      <td>PERFORM_CNS.SCORE</td>\n      <td>644.000000</td>\n      <td>0-5</td>\n      <td>0-6</td>\n      <td>0-5</td>\n      <td>645.250000</td>\n      <td>26272.25000</td>\n    </tr>\n    <tr>\n      <th>3</th>\n      <td>0</td>\n      <td>3</td>\n      <td>0-3</td>\n      <td>PERFORM_CNS.SCORE</td>\n      <td>708.000000</td>\n      <td>0-7</td>\n      <td>0-8</td>\n      <td>0-7</td>\n      <td>68.816406</td>\n      <td>9752.75000</td>\n    </tr>\n    <tr>\n      <th>4</th>\n      <td>0</td>\n      <td>4</td>\n      <td>0-4</td>\n      <td>PERFORM_CNS.SCORE</td>\n      <td>660.000000</td>\n      <td>0-9</td>\n      <td>0-10</td>\n      <td>0-9</td>\n      <td>159.201172</td>\n      <td>6254.75000</td>\n    </tr>\n    <tr>\n      <th>5</th>\n      <td>0</td>\n      <td>5</td>\n      <td>0-5</td>\n      <td>ltv</td>\n      <td>79.434998</td>\n      <td>0-11</td>\n      <td>0-12</td>\n      <td>0-11</td>\n      <td>157.087891</td>\n      <td>18695.25000</td>\n    </tr>\n    <tr>\n      <th>6</th>\n      <td>0</td>\n      <td>6</td>\n      <td>0-6</td>\n      <td>PRI.SANCTIONED.AMOUNT</td>\n      <td>185995.000000</td>\n      <td>0-13</td>\n      <td>0-14</td>\n      <td>0-13</td>\n      <td>172.448242</td>\n      <td>7577.00000</td>\n    </tr>\n    <tr>\n      <th>7</th>\n      <td>0</td>\n      <td>7</td>\n      <td>0-7</td>\n      <td>Leaf</td>\n      <td>NaN</td>\n      <td>NaN</td>\n      <td>NaN</td>\n      <td>NaN</td>\n      <td>-0.139229</td>\n      <td>7642.50000</td>\n    </tr>\n    <tr>\n      <th>8</th>\n      <td>0</td>\n      <td>8</td>\n      <td>0-8</td>\n      <td>Leaf</td>\n      <td>NaN</td>\n      <td>NaN</td>\n      <td>NaN</td>\n      <td>NaN</td>\n      <td>-0.159929</td>\n      <td>2110.25000</td>\n    </tr>\n    <tr>\n      <th>9</th>\n      <td>0</td>\n      <td>9</td>\n      <td>0-9</td>\n      <td>Leaf</td>\n      <td>NaN</td>\n      <td>NaN</td>\n      <td>NaN</td>\n      <td>NaN</td>\n      <td>-0.104000</td>\n      <td>4517.75000</td>\n    </tr>\n    <tr>\n      <th>10</th>\n      <td>0</td>\n      <td>10</td>\n      <td>0-10</td>\n      <td>Leaf</td>\n      <td>NaN</td>\n      <td>NaN</td>\n      <td>NaN</td>\n      <td>NaN</td>\n      <td>-0.139758</td>\n      <td>1737.00000</td>\n    </tr>\n    <tr>\n      <th>11</th>\n      <td>0</td>\n      <td>11</td>\n      <td>0-11</td>\n      <td>Leaf</td>\n      <td>NaN</td>\n      <td>NaN</td>\n      <td>NaN</td>\n      <td>NaN</td>\n      <td>-0.101451</td>\n      <td>8684.00000</td>\n    </tr>\n    <tr>\n      <th>12</th>\n      <td>0</td>\n      <td>12</td>\n      <td>0-12</td>\n      <td>Leaf</td>\n      <td>NaN</td>\n      <td>NaN</td>\n      <td>NaN</td>\n      <td>NaN</td>\n      <td>-0.083023</td>\n      <td>10011.25000</td>\n    </tr>\n    <tr>\n      <th>13</th>\n      <td>0</td>\n      <td>13</td>\n      <td>0-13</td>\n      <td>Leaf</td>\n      <td>NaN</td>\n      <td>NaN</td>\n      <td>NaN</td>\n      <td>NaN</td>\n      <td>-0.116828</td>\n      <td>5484.00000</td>\n    </tr>\n    <tr>\n      <th>14</th>\n      <td>0</td>\n      <td>14</td>\n      <td>0-14</td>\n      <td>Leaf</td>\n      <td>NaN</td>\n      <td>NaN</td>\n      <td>NaN</td>\n      <td>NaN</td>\n      <td>-0.150716</td>\n      <td>2093.00000</td>\n    </tr>\n    <tr>\n      <th>15</th>\n      <td>1</td>\n      <td>0</td>\n      <td>1-0</td>\n      <td>disbursed_amount</td>\n      <td>50751.000000</td>\n      <td>1-1</td>\n      <td>1-2</td>\n      <td>1-1</td>\n      <td>763.035156</td>\n      <td>42138.69920</td>\n    </tr>\n    <tr>\n      <th>16</th>\n      <td>1</td>\n      <td>1</td>\n      <td>1-1</td>\n      <td>ltv</td>\n      <td>73.115005</td>\n      <td>1-3</td>\n      <td>1-4</td>\n      <td>1-3</td>\n      <td>278.404297</td>\n      <td>15936.49800</td>\n    </tr>\n    <tr>\n      <th>17</th>\n      <td>1</td>\n      <td>2</td>\n      <td>1-2</td>\n      <td>PERFORM_CNS.SCORE</td>\n      <td>632.000000</td>\n      <td>1-5</td>\n      <td>1-6</td>\n      <td>1-5</td>\n      <td>531.050781</td>\n      <td>26202.20120</td>\n    </tr>\n    <tr>\n      <th>18</th>\n      <td>1</td>\n      <td>3</td>\n      <td>1-3</td>\n      <td>PERFORM_CNS.SCORE</td>\n      <td>708.000000</td>\n      <td>1-7</td>\n      <td>1-8</td>\n      <td>1-7</td>\n      <td>54.571289</td>\n      <td>9456.92969</td>\n    </tr>\n    <tr>\n      <th>19</th>\n      <td>1</td>\n      <td>4</td>\n      <td>1-4</td>\n      <td>PERFORM_CNS.SCORE</td>\n      <td>660.000000</td>\n      <td>1-9</td>\n      <td>1-10</td>\n      <td>1-9</td>\n      <td>134.894531</td>\n      <td>6479.56787</td>\n    </tr>\n    <tr>\n      <th>20</th>\n      <td>1</td>\n      <td>5</td>\n      <td>1-5</td>\n      <td>VoterID_flag</td>\n      <td>1.000000</td>\n      <td>1-11</td>\n      <td>1-12</td>\n      <td>1-11</td>\n      <td>155.637695</td>\n      <td>18359.32420</td>\n    </tr>\n    <tr>\n      <th>21</th>\n      <td>1</td>\n      <td>6</td>\n      <td>1-6</td>\n      <td>NO.OF_INQUIRIES</td>\n      <td>1.000000</td>\n      <td>1-13</td>\n      <td>1-14</td>\n      <td>1-13</td>\n      <td>155.171875</td>\n      <td>7842.87598</td>\n    </tr>\n    <tr>\n      <th>22</th>\n      <td>1</td>\n      <td>7</td>\n      <td>1-7</td>\n      <td>Leaf</td>\n      <td>NaN</td>\n      <td>NaN</td>\n      <td>NaN</td>\n      <td>NaN</td>\n      <td>-0.126346</td>\n      <td>7419.23730</td>\n    </tr>\n    <tr>\n      <th>23</th>\n      <td>1</td>\n      <td>8</td>\n      <td>1-8</td>\n      <td>Leaf</td>\n      <td>NaN</td>\n      <td>NaN</td>\n      <td>NaN</td>\n      <td>NaN</td>\n      <td>-0.145104</td>\n      <td>2037.69263</td>\n    </tr>\n    <tr>\n      <th>24</th>\n      <td>1</td>\n      <td>9</td>\n      <td>1-9</td>\n      <td>Leaf</td>\n      <td>NaN</td>\n      <td>NaN</td>\n      <td>NaN</td>\n      <td>NaN</td>\n      <td>-0.094433</td>\n      <td>4681.20361</td>\n    </tr>\n    <tr>\n      <th>25</th>\n      <td>1</td>\n      <td>10</td>\n      <td>1-10</td>\n      <td>Leaf</td>\n      <td>NaN</td>\n      <td>NaN</td>\n      <td>NaN</td>\n      <td>NaN</td>\n      <td>-0.126775</td>\n      <td>1798.36475</td>\n    </tr>\n    <tr>\n      <th>26</th>\n      <td>1</td>\n      <td>11</td>\n      <td>1-11</td>\n      <td>Leaf</td>\n      <td>NaN</td>\n      <td>NaN</td>\n      <td>NaN</td>\n      <td>NaN</td>\n      <td>-0.086468</td>\n      <td>15315.66800</td>\n    </tr>\n    <tr>\n      <th>27</th>\n      <td>1</td>\n      <td>12</td>\n      <td>1-12</td>\n      <td>Leaf</td>\n      <td>NaN</td>\n      <td>NaN</td>\n      <td>NaN</td>\n      <td>NaN</td>\n      <td>-0.061660</td>\n      <td>3043.65698</td>\n    </tr>\n    <tr>\n      <th>28</th>\n      <td>1</td>\n      <td>13</td>\n      <td>1-13</td>\n      <td>Leaf</td>\n      <td>NaN</td>\n      <td>NaN</td>\n      <td>NaN</td>\n      <td>NaN</td>\n      <td>-0.120805</td>\n      <td>6171.53955</td>\n    </tr>\n    <tr>\n      <th>29</th>\n      <td>1</td>\n      <td>14</td>\n      <td>1-14</td>\n      <td>Leaf</td>\n      <td>NaN</td>\n      <td>NaN</td>\n      <td>NaN</td>\n      <td>NaN</td>\n      <td>-0.086322</td>\n      <td>1671.33618</td>\n    </tr>\n  </tbody>\n</table>\n</div>"
     },
     "metadata": {},
     "execution_count": 7
    }
   ],
   "source": [
    "tree_stats = (\n",
    "    xgb_clf.get_booster()\n",
    "    .trees_to_dataframe()\n",
    "    )\n",
    "tree_stats.head(30)"
   ]
  },
  {
   "cell_type": "code",
   "execution_count": null,
   "metadata": {},
   "outputs": [],
   "source": []
  }
 ]
}