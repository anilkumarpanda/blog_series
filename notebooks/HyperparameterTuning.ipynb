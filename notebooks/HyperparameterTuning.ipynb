{
 "metadata": {
  "language_info": {
   "codemirror_mode": {
    "name": "ipython",
    "version": 3
   },
   "file_extension": ".py",
   "mimetype": "text/x-python",
   "name": "python",
   "nbconvert_exporter": "python",
   "pygments_lexer": "ipython3",
   "version": "3.6.2-final"
  },
  "orig_nbformat": 2,
  "kernelspec": {
   "name": "Python 3.6.2 64-bit ('ml_course': conda)",
   "display_name": "Python 3.6.2 64-bit ('ml_course': conda)",
   "metadata": {
    "interpreter": {
     "hash": "840a8f90bab7f8aa7aca9b581783b6d463addd3704b569b9012f434dd16204f7"
    }
   }
  }
 },
 "nbformat": 4,
 "nbformat_minor": 2,
 "cells": [
  {
   "cell_type": "markdown",
   "metadata": {},
   "source": [
    "# Hyperparameter Tuning.\n",
    "Generally in the ML , we use the grid search/random search to tune the hyperparameters.\n",
    "However I feel that is a kitchen sink approach, where we randomly put in a range of parameters and see if that works.\n",
    "In this blog post we will see if we can find a better way of doing it.\n",
    "\n",
    "Let us begin with the regularisation parameter for XGBoost.\n"
   ]
  },
  {
   "cell_type": "code",
   "execution_count": 1,
   "metadata": {},
   "outputs": [
    {
     "output_type": "stream",
     "name": "stderr",
     "text": [
      "2020-11-01 23:33:50.197 | INFO     | blog.data.lnt_dataset:_read_data:18 - Reading data from path ../data/lnt_dataset.csv\n",
      "2020-11-01 23:33:51.205 | INFO     | blog.data.lnt_dataset:_read_data:20 - Read data with shape (233154, 41)\n",
      "2020-11-01 23:33:51.206 | INFO     | blog.data.lnt_dataset:_process_data:29 - Dropping all id columns\n",
      "2020-11-01 23:33:51.310 | INFO     | blog.data.lnt_dataset:_process_data:36 - Calculating customer age\n",
      "2020-11-01 23:33:51.922 | INFO     | blog.data.lnt_dataset:_process_data:39 - Calculating financial age of customer\n",
      "2020-11-01 23:33:52.623 | INFO     | blog.data.lnt_dataset:get_data:95 - Dropping na rows.\n",
      "2020-11-01 23:33:52.813 | INFO     | blog.data.lnt_dataset:get_data:101 - Shape of training data X :(225493, 32), y : (225493,).\n"
     ]
    }
   ],
   "source": [
    "import pandas as pd \n",
    "from loguru import logger \n",
    "from blog.data.data_cleaner_factory import DataCleanerFactory\n",
    "\n",
    "dcf = DataCleanerFactory()\n",
    "lnt_dataset  = dcf.getDataset('lnt')\n",
    "X,y = lnt_dataset.get_data(path='../data/lnt_dataset.csv')\n"
   ]
  },
  {
   "cell_type": "code",
   "execution_count": 2,
   "metadata": {},
   "outputs": [
    {
     "output_type": "stream",
     "name": "stdout",
     "text": [
      "Train shape : (169119, 32) , (169119,)\nTest shape : (56374, 32),(56374,) \n"
     ]
    }
   ],
   "source": [
    "from sklearn.model_selection import train_test_split\n",
    "X_train,X_test,y_train,y_test = train_test_split(X,y,stratify=y,random_state=65)\n",
    "print(f\"Train shape : {X_train.shape} , {y_train.shape}\")\n",
    "print(f\"Test shape : {X_test.shape},{y_test.shape} \")"
   ]
  },
  {
   "cell_type": "code",
   "execution_count": 3,
   "metadata": {},
   "outputs": [
    {
     "output_type": "stream",
     "name": "stdout",
     "text": [
      "Created a base classifier : XGBClassifier(base_score=0.5, booster='gbtree', colsample_bylevel=1,\n              colsample_bynode=1, colsample_bytree=1, gamma=0,\n              learning_rate=0.1, max_delta_step=0, max_depth=3,\n              min_child_weight=1, missing=None, n_estimators=100, n_jobs=1,\n              nthread=None, objective='binary:logistic', random_state=0,\n              reg_alpha=0, reg_lambda=1, scale_pos_weight=1, seed=None,\n              silent=None, subsample=1, verbosity=1)\n"
     ]
    }
   ],
   "source": [
    "from xgboost import XGBClassifier\n",
    "xgb_clf = XGBClassifier()\n",
    "print(f\"Created a base classifier : {xgb_clf}\")"
   ]
  },
  {
   "cell_type": "code",
   "execution_count": 4,
   "metadata": {},
   "outputs": [
    {
     "output_type": "error",
     "ename": "ValueError",
     "evalue": "DataFrame.dtypes for data must be int, float or bool.\n                Did not expect the data types in fields Employment.Type, PERFORM_CNS.SCORE.DESCRIPTION",
     "traceback": [
      "\u001b[0;31m---------------------------------------------------------------------------\u001b[0m",
      "\u001b[0;31mValueError\u001b[0m                                Traceback (most recent call last)",
      "\u001b[0;32m<ipython-input-4-8909690742af>\u001b[0m in \u001b[0;36m<module>\u001b[0;34m\u001b[0m\n\u001b[0;32m----> 1\u001b[0;31m \u001b[0mxgb_clf\u001b[0m\u001b[0;34m.\u001b[0m\u001b[0mfit\u001b[0m\u001b[0;34m(\u001b[0m\u001b[0mX_train\u001b[0m\u001b[0;34m,\u001b[0m\u001b[0my_train\u001b[0m\u001b[0;34m)\u001b[0m\u001b[0;34m\u001b[0m\u001b[0m\n\u001b[0m",
      "\u001b[0;32m~/SoftwareInstalls/anaconda/envs/ml_course/lib/python3.6/site-packages/xgboost/sklearn.py\u001b[0m in \u001b[0;36mfit\u001b[0;34m(self, X, y, sample_weight, eval_set, eval_metric, early_stopping_rounds, verbose, xgb_model, sample_weight_eval_set, callbacks)\u001b[0m\n\u001b[1;32m    724\u001b[0m         \u001b[0;32melse\u001b[0m\u001b[0;34m:\u001b[0m\u001b[0;34m\u001b[0m\u001b[0m\n\u001b[1;32m    725\u001b[0m             train_dmatrix = DMatrix(X, label=training_labels,\n\u001b[0;32m--> 726\u001b[0;31m                                     missing=self.missing, nthread=self.n_jobs)\n\u001b[0m\u001b[1;32m    727\u001b[0m \u001b[0;34m\u001b[0m\u001b[0m\n\u001b[1;32m    728\u001b[0m         self._Booster = train(xgb_options, train_dmatrix, self.get_num_boosting_rounds(),\n",
      "\u001b[0;32m~/SoftwareInstalls/anaconda/envs/ml_course/lib/python3.6/site-packages/xgboost/core.py\u001b[0m in \u001b[0;36m__init__\u001b[0;34m(self, data, label, missing, weight, silent, feature_names, feature_types, nthread)\u001b[0m\n\u001b[1;32m    378\u001b[0m         data, feature_names, feature_types = _maybe_pandas_data(data,\n\u001b[1;32m    379\u001b[0m                                                                 \u001b[0mfeature_names\u001b[0m\u001b[0;34m,\u001b[0m\u001b[0;34m\u001b[0m\u001b[0m\n\u001b[0;32m--> 380\u001b[0;31m                                                                 feature_types)\n\u001b[0m\u001b[1;32m    381\u001b[0m \u001b[0;34m\u001b[0m\u001b[0m\n\u001b[1;32m    382\u001b[0m         data, feature_names, feature_types = _maybe_dt_data(data,\n",
      "\u001b[0;32m~/SoftwareInstalls/anaconda/envs/ml_course/lib/python3.6/site-packages/xgboost/core.py\u001b[0m in \u001b[0;36m_maybe_pandas_data\u001b[0;34m(data, feature_names, feature_types)\u001b[0m\n\u001b[1;32m    237\u001b[0m         msg = \"\"\"DataFrame.dtypes for data must be int, float or bool.\n\u001b[1;32m    238\u001b[0m                 Did not expect the data types in fields \"\"\"\n\u001b[0;32m--> 239\u001b[0;31m         \u001b[0;32mraise\u001b[0m \u001b[0mValueError\u001b[0m\u001b[0;34m(\u001b[0m\u001b[0mmsg\u001b[0m \u001b[0;34m+\u001b[0m \u001b[0;34m', '\u001b[0m\u001b[0;34m.\u001b[0m\u001b[0mjoin\u001b[0m\u001b[0;34m(\u001b[0m\u001b[0mbad_fields\u001b[0m\u001b[0;34m)\u001b[0m\u001b[0;34m)\u001b[0m\u001b[0;34m\u001b[0m\u001b[0m\n\u001b[0m\u001b[1;32m    240\u001b[0m \u001b[0;34m\u001b[0m\u001b[0m\n\u001b[1;32m    241\u001b[0m     \u001b[0;32mif\u001b[0m \u001b[0mfeature_names\u001b[0m \u001b[0;32mis\u001b[0m \u001b[0;32mNone\u001b[0m\u001b[0;34m:\u001b[0m\u001b[0;34m\u001b[0m\u001b[0m\n",
      "\u001b[0;31mValueError\u001b[0m: DataFrame.dtypes for data must be int, float or bool.\n                Did not expect the data types in fields Employment.Type, PERFORM_CNS.SCORE.DESCRIPTION"
     ]
    }
   ],
   "source": [
    "xgb_clf.fit(X_train,y_train)"
   ]
  },
  {
   "cell_type": "code",
   "execution_count": 26,
   "metadata": {},
   "outputs": [
    {
     "output_type": "execute_result",
     "data": {
      "text/plain": [
       "    Tree  Node    ID                Feature          Split   Yes    No  \\\n",
       "0      0     0   0-0       disbursed_amount   51909.000000   0-1   0-2   \n",
       "1      0     1   0-1                    ltv      73.475006   0-3   0-4   \n",
       "2      0     2   0-2      PERFORM_CNS.SCORE     629.000000   0-5   0-6   \n",
       "3      0     3   0-3      PERFORM_CNS.SCORE     708.000000   0-7   0-8   \n",
       "4      0     4   0-4      PERFORM_CNS.SCORE     659.000000   0-9  0-10   \n",
       "5      0     5   0-5                    ltv      78.925003  0-11  0-12   \n",
       "6      0     6   0-6  PRI.SANCTIONED.AMOUNT  197495.000000  0-13  0-14   \n",
       "7      0     7   0-7                   Leaf            NaN   NaN   NaN   \n",
       "8      0     8   0-8                   Leaf            NaN   NaN   NaN   \n",
       "9      0     9   0-9                   Leaf            NaN   NaN   NaN   \n",
       "10     0    10  0-10                   Leaf            NaN   NaN   NaN   \n",
       "11     0    11  0-11                   Leaf            NaN   NaN   NaN   \n",
       "12     0    12  0-12                   Leaf            NaN   NaN   NaN   \n",
       "13     0    13  0-13                   Leaf            NaN   NaN   NaN   \n",
       "14     0    14  0-14                   Leaf            NaN   NaN   NaN   \n",
       "15     1     0   1-0                    ltv      72.934998   1-1   1-2   \n",
       "16     1     1   1-1       disbursed_amount   53641.000000   1-3   1-4   \n",
       "17     1     2   1-2      PERFORM_CNS.SCORE     632.000000   1-5   1-6   \n",
       "18     1     3   1-3      PERFORM_CNS.SCORE     681.000000   1-7   1-8   \n",
       "19     1     4   1-4            Aadhar_flag       1.000000   1-9  1-10   \n",
       "20     1     5   1-5                    ltv      78.925003  1-11  1-12   \n",
       "21     1     6   1-6  PRI.SANCTIONED.AMOUNT  204995.000000  1-13  1-14   \n",
       "22     1     7   1-7                   Leaf            NaN   NaN   NaN   \n",
       "23     1     8   1-8                   Leaf            NaN   NaN   NaN   \n",
       "24     1     9   1-9                   Leaf            NaN   NaN   NaN   \n",
       "25     1    10  1-10                   Leaf            NaN   NaN   NaN   \n",
       "26     1    11  1-11                   Leaf            NaN   NaN   NaN   \n",
       "27     1    12  1-12                   Leaf            NaN   NaN   NaN   \n",
       "28     1    13  1-13                   Leaf            NaN   NaN   NaN   \n",
       "29     1    14  1-14                   Leaf            NaN   NaN   NaN   \n",
       "\n",
       "   Missing        Gain        Cover  \n",
       "0      0-1  934.316406  43716.25000  \n",
       "1      0-3  422.601562  18428.75000  \n",
       "2      0-5  634.912109  25287.50000  \n",
       "3      0-7   65.041016  10530.50000  \n",
       "4      0-9  213.455078   7898.25000  \n",
       "5     0-11  144.809570  17775.25000  \n",
       "6     0-13  168.913086   7512.25000  \n",
       "7      NaN   -0.139301   8313.75000  \n",
       "8      NaN   -0.158877   2216.75000  \n",
       "9      NaN   -0.102518   5698.50000  \n",
       "10     NaN   -0.139293   2199.75000  \n",
       "11     NaN   -0.100757   7663.00000  \n",
       "12     NaN   -0.082481  10112.25000  \n",
       "13     NaN   -0.115765   5444.50000  \n",
       "14     NaN   -0.149486   2067.75000  \n",
       "15     1-1  782.878906  43570.23050  \n",
       "16     1-3  296.843750  15317.77730  \n",
       "17     1-5  675.820312  28252.45510  \n",
       "18     1-7   52.000000  10654.21680  \n",
       "19     1-9   67.530273   4663.56055  \n",
       "20    1-11  133.572266  19523.43550  \n",
       "21    1-13  158.270508   8729.01953  \n",
       "22     NaN   -0.125686   8134.96436  \n",
       "23     NaN   -0.142388   2519.25244  \n",
       "24     NaN   -0.079547   1274.42236  \n",
       "25     NaN   -0.106738   3389.13843  \n",
       "26     NaN   -0.093267   6838.74902  \n",
       "27     NaN   -0.075887  12684.68650  \n",
       "28     NaN   -0.107369   6428.70117  \n",
       "29     NaN   -0.138057   2300.31812  "
      ],
      "text/html": "<div>\n<style scoped>\n    .dataframe tbody tr th:only-of-type {\n        vertical-align: middle;\n    }\n\n    .dataframe tbody tr th {\n        vertical-align: top;\n    }\n\n    .dataframe thead th {\n        text-align: right;\n    }\n</style>\n<table border=\"1\" class=\"dataframe\">\n  <thead>\n    <tr style=\"text-align: right;\">\n      <th></th>\n      <th>Tree</th>\n      <th>Node</th>\n      <th>ID</th>\n      <th>Feature</th>\n      <th>Split</th>\n      <th>Yes</th>\n      <th>No</th>\n      <th>Missing</th>\n      <th>Gain</th>\n      <th>Cover</th>\n    </tr>\n  </thead>\n  <tbody>\n    <tr>\n      <th>0</th>\n      <td>0</td>\n      <td>0</td>\n      <td>0-0</td>\n      <td>disbursed_amount</td>\n      <td>51909.000000</td>\n      <td>0-1</td>\n      <td>0-2</td>\n      <td>0-1</td>\n      <td>934.316406</td>\n      <td>43716.25000</td>\n    </tr>\n    <tr>\n      <th>1</th>\n      <td>0</td>\n      <td>1</td>\n      <td>0-1</td>\n      <td>ltv</td>\n      <td>73.475006</td>\n      <td>0-3</td>\n      <td>0-4</td>\n      <td>0-3</td>\n      <td>422.601562</td>\n      <td>18428.75000</td>\n    </tr>\n    <tr>\n      <th>2</th>\n      <td>0</td>\n      <td>2</td>\n      <td>0-2</td>\n      <td>PERFORM_CNS.SCORE</td>\n      <td>629.000000</td>\n      <td>0-5</td>\n      <td>0-6</td>\n      <td>0-5</td>\n      <td>634.912109</td>\n      <td>25287.50000</td>\n    </tr>\n    <tr>\n      <th>3</th>\n      <td>0</td>\n      <td>3</td>\n      <td>0-3</td>\n      <td>PERFORM_CNS.SCORE</td>\n      <td>708.000000</td>\n      <td>0-7</td>\n      <td>0-8</td>\n      <td>0-7</td>\n      <td>65.041016</td>\n      <td>10530.50000</td>\n    </tr>\n    <tr>\n      <th>4</th>\n      <td>0</td>\n      <td>4</td>\n      <td>0-4</td>\n      <td>PERFORM_CNS.SCORE</td>\n      <td>659.000000</td>\n      <td>0-9</td>\n      <td>0-10</td>\n      <td>0-9</td>\n      <td>213.455078</td>\n      <td>7898.25000</td>\n    </tr>\n    <tr>\n      <th>5</th>\n      <td>0</td>\n      <td>5</td>\n      <td>0-5</td>\n      <td>ltv</td>\n      <td>78.925003</td>\n      <td>0-11</td>\n      <td>0-12</td>\n      <td>0-11</td>\n      <td>144.809570</td>\n      <td>17775.25000</td>\n    </tr>\n    <tr>\n      <th>6</th>\n      <td>0</td>\n      <td>6</td>\n      <td>0-6</td>\n      <td>PRI.SANCTIONED.AMOUNT</td>\n      <td>197495.000000</td>\n      <td>0-13</td>\n      <td>0-14</td>\n      <td>0-13</td>\n      <td>168.913086</td>\n      <td>7512.25000</td>\n    </tr>\n    <tr>\n      <th>7</th>\n      <td>0</td>\n      <td>7</td>\n      <td>0-7</td>\n      <td>Leaf</td>\n      <td>NaN</td>\n      <td>NaN</td>\n      <td>NaN</td>\n      <td>NaN</td>\n      <td>-0.139301</td>\n      <td>8313.75000</td>\n    </tr>\n    <tr>\n      <th>8</th>\n      <td>0</td>\n      <td>8</td>\n      <td>0-8</td>\n      <td>Leaf</td>\n      <td>NaN</td>\n      <td>NaN</td>\n      <td>NaN</td>\n      <td>NaN</td>\n      <td>-0.158877</td>\n      <td>2216.75000</td>\n    </tr>\n    <tr>\n      <th>9</th>\n      <td>0</td>\n      <td>9</td>\n      <td>0-9</td>\n      <td>Leaf</td>\n      <td>NaN</td>\n      <td>NaN</td>\n      <td>NaN</td>\n      <td>NaN</td>\n      <td>-0.102518</td>\n      <td>5698.50000</td>\n    </tr>\n    <tr>\n      <th>10</th>\n      <td>0</td>\n      <td>10</td>\n      <td>0-10</td>\n      <td>Leaf</td>\n      <td>NaN</td>\n      <td>NaN</td>\n      <td>NaN</td>\n      <td>NaN</td>\n      <td>-0.139293</td>\n      <td>2199.75000</td>\n    </tr>\n    <tr>\n      <th>11</th>\n      <td>0</td>\n      <td>11</td>\n      <td>0-11</td>\n      <td>Leaf</td>\n      <td>NaN</td>\n      <td>NaN</td>\n      <td>NaN</td>\n      <td>NaN</td>\n      <td>-0.100757</td>\n      <td>7663.00000</td>\n    </tr>\n    <tr>\n      <th>12</th>\n      <td>0</td>\n      <td>12</td>\n      <td>0-12</td>\n      <td>Leaf</td>\n      <td>NaN</td>\n      <td>NaN</td>\n      <td>NaN</td>\n      <td>NaN</td>\n      <td>-0.082481</td>\n      <td>10112.25000</td>\n    </tr>\n    <tr>\n      <th>13</th>\n      <td>0</td>\n      <td>13</td>\n      <td>0-13</td>\n      <td>Leaf</td>\n      <td>NaN</td>\n      <td>NaN</td>\n      <td>NaN</td>\n      <td>NaN</td>\n      <td>-0.115765</td>\n      <td>5444.50000</td>\n    </tr>\n    <tr>\n      <th>14</th>\n      <td>0</td>\n      <td>14</td>\n      <td>0-14</td>\n      <td>Leaf</td>\n      <td>NaN</td>\n      <td>NaN</td>\n      <td>NaN</td>\n      <td>NaN</td>\n      <td>-0.149486</td>\n      <td>2067.75000</td>\n    </tr>\n    <tr>\n      <th>15</th>\n      <td>1</td>\n      <td>0</td>\n      <td>1-0</td>\n      <td>ltv</td>\n      <td>72.934998</td>\n      <td>1-1</td>\n      <td>1-2</td>\n      <td>1-1</td>\n      <td>782.878906</td>\n      <td>43570.23050</td>\n    </tr>\n    <tr>\n      <th>16</th>\n      <td>1</td>\n      <td>1</td>\n      <td>1-1</td>\n      <td>disbursed_amount</td>\n      <td>53641.000000</td>\n      <td>1-3</td>\n      <td>1-4</td>\n      <td>1-3</td>\n      <td>296.843750</td>\n      <td>15317.77730</td>\n    </tr>\n    <tr>\n      <th>17</th>\n      <td>1</td>\n      <td>2</td>\n      <td>1-2</td>\n      <td>PERFORM_CNS.SCORE</td>\n      <td>632.000000</td>\n      <td>1-5</td>\n      <td>1-6</td>\n      <td>1-5</td>\n      <td>675.820312</td>\n      <td>28252.45510</td>\n    </tr>\n    <tr>\n      <th>18</th>\n      <td>1</td>\n      <td>3</td>\n      <td>1-3</td>\n      <td>PERFORM_CNS.SCORE</td>\n      <td>681.000000</td>\n      <td>1-7</td>\n      <td>1-8</td>\n      <td>1-7</td>\n      <td>52.000000</td>\n      <td>10654.21680</td>\n    </tr>\n    <tr>\n      <th>19</th>\n      <td>1</td>\n      <td>4</td>\n      <td>1-4</td>\n      <td>Aadhar_flag</td>\n      <td>1.000000</td>\n      <td>1-9</td>\n      <td>1-10</td>\n      <td>1-9</td>\n      <td>67.530273</td>\n      <td>4663.56055</td>\n    </tr>\n    <tr>\n      <th>20</th>\n      <td>1</td>\n      <td>5</td>\n      <td>1-5</td>\n      <td>ltv</td>\n      <td>78.925003</td>\n      <td>1-11</td>\n      <td>1-12</td>\n      <td>1-11</td>\n      <td>133.572266</td>\n      <td>19523.43550</td>\n    </tr>\n    <tr>\n      <th>21</th>\n      <td>1</td>\n      <td>6</td>\n      <td>1-6</td>\n      <td>PRI.SANCTIONED.AMOUNT</td>\n      <td>204995.000000</td>\n      <td>1-13</td>\n      <td>1-14</td>\n      <td>1-13</td>\n      <td>158.270508</td>\n      <td>8729.01953</td>\n    </tr>\n    <tr>\n      <th>22</th>\n      <td>1</td>\n      <td>7</td>\n      <td>1-7</td>\n      <td>Leaf</td>\n      <td>NaN</td>\n      <td>NaN</td>\n      <td>NaN</td>\n      <td>NaN</td>\n      <td>-0.125686</td>\n      <td>8134.96436</td>\n    </tr>\n    <tr>\n      <th>23</th>\n      <td>1</td>\n      <td>8</td>\n      <td>1-8</td>\n      <td>Leaf</td>\n      <td>NaN</td>\n      <td>NaN</td>\n      <td>NaN</td>\n      <td>NaN</td>\n      <td>-0.142388</td>\n      <td>2519.25244</td>\n    </tr>\n    <tr>\n      <th>24</th>\n      <td>1</td>\n      <td>9</td>\n      <td>1-9</td>\n      <td>Leaf</td>\n      <td>NaN</td>\n      <td>NaN</td>\n      <td>NaN</td>\n      <td>NaN</td>\n      <td>-0.079547</td>\n      <td>1274.42236</td>\n    </tr>\n    <tr>\n      <th>25</th>\n      <td>1</td>\n      <td>10</td>\n      <td>1-10</td>\n      <td>Leaf</td>\n      <td>NaN</td>\n      <td>NaN</td>\n      <td>NaN</td>\n      <td>NaN</td>\n      <td>-0.106738</td>\n      <td>3389.13843</td>\n    </tr>\n    <tr>\n      <th>26</th>\n      <td>1</td>\n      <td>11</td>\n      <td>1-11</td>\n      <td>Leaf</td>\n      <td>NaN</td>\n      <td>NaN</td>\n      <td>NaN</td>\n      <td>NaN</td>\n      <td>-0.093267</td>\n      <td>6838.74902</td>\n    </tr>\n    <tr>\n      <th>27</th>\n      <td>1</td>\n      <td>12</td>\n      <td>1-12</td>\n      <td>Leaf</td>\n      <td>NaN</td>\n      <td>NaN</td>\n      <td>NaN</td>\n      <td>NaN</td>\n      <td>-0.075887</td>\n      <td>12684.68650</td>\n    </tr>\n    <tr>\n      <th>28</th>\n      <td>1</td>\n      <td>13</td>\n      <td>1-13</td>\n      <td>Leaf</td>\n      <td>NaN</td>\n      <td>NaN</td>\n      <td>NaN</td>\n      <td>NaN</td>\n      <td>-0.107369</td>\n      <td>6428.70117</td>\n    </tr>\n    <tr>\n      <th>29</th>\n      <td>1</td>\n      <td>14</td>\n      <td>1-14</td>\n      <td>Leaf</td>\n      <td>NaN</td>\n      <td>NaN</td>\n      <td>NaN</td>\n      <td>NaN</td>\n      <td>-0.138057</td>\n      <td>2300.31812</td>\n    </tr>\n  </tbody>\n</table>\n</div>"
     },
     "metadata": {},
     "execution_count": 26
    }
   ],
   "source": [
    "tree_stats = (\n",
    "    xgb_clf.get_booster()\n",
    "    .trees_to_dataframe()\n",
    "    )\n",
    "tree_stats.head(30)"
   ]
  },
  {
   "cell_type": "code",
   "execution_count": null,
   "metadata": {},
   "outputs": [],
   "source": []
  }
 ]
}