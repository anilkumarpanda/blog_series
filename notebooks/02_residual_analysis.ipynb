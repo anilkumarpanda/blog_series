{
 "cells": [
  {
   "cell_type": "markdown",
   "metadata": {},
   "source": [
    "# Residual Analysis"
   ]
  },
  {
   "cell_type": "markdown",
   "metadata": {},
   "source": [
    "## 1. ML Model"
   ]
  },
  {
   "cell_type": "code",
   "execution_count": 1,
   "metadata": {},
   "outputs": [],
   "source": [
    "%load_ext autoreload\n",
    "%autoreload 2\n",
    "import pandas as pd\n",
    "from loguru import logger\n",
    "from sklearn.model_selection import train_test_split\n",
    "import lightgbm as lgb\n",
    "import matplotlib.pyplot as plt\n",
    "from blog.data.data_cleaner_factory import DataCleanerFactory\n",
    "from blog.model.regularisation import select_features, get_monotone_constraints\n",
    "from blog.model.optimise import ROCAUCObjective, MultiObjective, PRAUCObjective\n",
    "from blog.model.evaluation import show_model_results\n",
    "from probatus.interpret import ShapModelInterpreter\n",
    "from blog.data.lendingclub_dataset import LendingClubDataset\n",
    "from blog.model.sampling import oot_split\n",
    "from blog.model.regularisation import get_monotone_constraints\n",
    "from blog.model.feature_transformations import get_simple_feature_transformation\n",
    "from blog.model.optimise import getObjective, tune_model\n",
    "from blog.model.evaluation import get_segment_rocauc"
   ]
  },
  {
   "cell_type": "code",
   "execution_count": 2,
   "metadata": {},
   "outputs": [
    {
     "name": "stderr",
     "output_type": "stream",
     "text": [
      "2022-04-11 23:36:43.052 | INFO     | __main__:<module>:48 - 1.Read data\n",
      "2022-04-11 23:36:43.053 | INFO     | blog.data.lendingclub_dataset:_read_data:24 - Reading data from path ../data/lc_2007_2017_selected.csv\n"
     ]
    },
    {
     "name": "stdout",
     "output_type": "stream",
     "text": [
      "['pub_rec', 'revol_util', 'revol_bal', 'num_actv_bc_tl', 'total_rec_int', 'total_rev_hi_lim', 'home_ownership', 'emp_length', 'total_pymnt', 'addr_state', 'title', 'term', 'fico_range_high', 'total_acc', 'application_type', 'tot_cur_bal', 'int_rate', 'loan_status', 'out_prncp', 'sub_grade', 'fico_range_low', 'grade', 'pub_rec_bankruptcies', 'purpose', 'mort_acc', 'open_acc', 'dti', 'loan_amnt', 'issue_d', 'annual_inc', 'inq_last_6mths', 'emp_title', 'last_pymnt_amnt', 'verification_status', 'initial_list_status']\n"
     ]
    },
    {
     "name": "stderr",
     "output_type": "stream",
     "text": [
      "2022-04-11 23:36:49.066 | INFO     | blog.data.lendingclub_dataset:_read_data:28 - Read data with shape (1646801, 35)\n",
      "2022-04-11 23:36:51.099 | INFO     | blog.data.lendingclub_dataset:_process_data:72 - Creating target data.\n",
      "2022-04-11 23:36:56.258 | INFO     | blog.data.lendingclub_dataset:get_data:117 - Shape of training data X :(682278, 34), y : (682278,).\n",
      "2022-04-11 23:36:56.497 | INFO     | __main__:<module>:51 - \n",
      "Target distribution:\n",
      "0    0.793679\n",
      "1    0.206321\n",
      "Name: loan_status, dtype: float64\n",
      "2022-04-11 23:36:56.861 | INFO     | blog.model.sampling:oot_split:63 - IT data info \n",
      " : {'name': 'IT', 'X_shape': (597837, 35), 'y_shape': (597837,), 'default_rate': 21.097389422200365, 'pct_of_data': 87.6, 'earliest_disbursed_date': Timestamp('2012-08-01 00:00:00'), 'latest_disbursed_date': Timestamp('2016-05-01 00:00:00'), 'default_count': 126128}\n",
      "2022-04-11 23:36:56.861 | INFO     | blog.model.sampling:oot_split:64 - OOT data info \n",
      " : {'name': 'OOT', 'X_shape': (84441, 35), 'y_shape': (84441,), 'default_rate': 17.337549294773865, 'pct_of_data': 12.4, 'earliest_disbursed_date': Timestamp('2016-06-01 00:00:00'), 'latest_disbursed_date': Timestamp('2017-09-01 00:00:00'), 'default_count': 14640}\n",
      "2022-04-11 23:36:56.862 | INFO     | blog.model.sampling:oot_split:67 - OOT sample contains 14640 defaults, 10.4% of total defaults (140768)\n",
      "2022-04-11 23:36:56.946 | INFO     | __main__:<module>:64 - 2.Transform features\n",
      "2022-04-11 23:36:56.947 | INFO     | __main__:<module>:68 - 3.Starting feature selection.\n",
      "2022-04-11 23:36:56.948 | INFO     | __main__:<module>:85 - Final features :  ['emp_length', 'addr_state', 'revol_util', 'revol_bal', 'term', 'num_actv_bc_tl', 'total_acc', 'application_type', 'purpose', 'grade', 'dti']\n",
      "2022-04-11 23:36:56.967 | INFO     | __main__:<module>:110 - 5.Train Model \n",
      "2022-04-11 23:36:56.968 | INFO     | __main__:<module>:111 - Creating model with params : {'objective': 'binary', 'metric': 'binary_logloss', 'verbosity': -1, 'boosting_type': 'gbdt', 'feature_pre_filter': False, 'lambda_l1': 3.221919143923753e-08, 'lambda_l2': 0.0016740960905730054, 'num_leaves': 66, 'feature_fraction': 0.6, 'bagging_fraction': 1.0, 'bagging_freq': 0, 'min_child_samples': 20}\n"
     ]
    },
    {
     "name": "stdout",
     "output_type": "stream",
     "text": [
      "[LightGBM] [Warning] lambda_l1 is set=3.221919143923753e-08, reg_alpha=0.0 will be ignored. Current value: lambda_l1=3.221919143923753e-08\n",
      "[LightGBM] [Warning] feature_fraction is set=0.6, colsample_bytree=1.0 will be ignored. Current value: feature_fraction=0.6\n",
      "[LightGBM] [Warning] bagging_fraction is set=1.0, subsample=1.0 will be ignored. Current value: bagging_fraction=1.0\n",
      "[LightGBM] [Warning] lambda_l2 is set=0.0016740960905730054, reg_lambda=0.0 will be ignored. Current value: lambda_l2=0.0016740960905730054\n",
      "[LightGBM] [Warning] bagging_freq is set=0, subsample_freq=0 will be ignored. Current value: bagging_freq=0\n",
      "[LightGBM] [Warning] lambda_l1 is set=3.221919143923753e-08, reg_alpha=0.0 will be ignored. Current value: lambda_l1=3.221919143923753e-08\n",
      "[LightGBM] [Warning] feature_fraction is set=0.6, colsample_bytree=1.0 will be ignored. Current value: feature_fraction=0.6\n",
      "[LightGBM] [Warning] bagging_fraction is set=1.0, subsample=1.0 will be ignored. Current value: bagging_fraction=1.0\n",
      "[LightGBM] [Warning] lambda_l2 is set=0.0016740960905730054, reg_lambda=0.0 will be ignored. Current value: lambda_l2=0.0016740960905730054\n",
      "[LightGBM] [Warning] bagging_freq is set=0, subsample_freq=0 will be ignored. Current value: bagging_freq=0\n",
      "[LightGBM] [Warning] lambda_l1 is set=3.221919143923753e-08, reg_alpha=0.0 will be ignored. Current value: lambda_l1=3.221919143923753e-08\n",
      "[LightGBM] [Warning] feature_fraction is set=0.6, colsample_bytree=1.0 will be ignored. Current value: feature_fraction=0.6\n",
      "[LightGBM] [Warning] bagging_fraction is set=1.0, subsample=1.0 will be ignored. Current value: bagging_fraction=1.0\n",
      "[LightGBM] [Warning] lambda_l2 is set=0.0016740960905730054, reg_lambda=0.0 will be ignored. Current value: lambda_l2=0.0016740960905730054\n",
      "[LightGBM] [Warning] bagging_freq is set=0, subsample_freq=0 will be ignored. Current value: bagging_freq=0\n",
      "Cross Validation ROC AUC Score : 0.7103855731713328\n",
      "[LightGBM] [Warning] lambda_l1 is set=3.221919143923753e-08, reg_alpha=0.0 will be ignored. Current value: lambda_l1=3.221919143923753e-08\n",
      "[LightGBM] [Warning] feature_fraction is set=0.6, colsample_bytree=1.0 will be ignored. Current value: feature_fraction=0.6\n",
      "[LightGBM] [Warning] bagging_fraction is set=1.0, subsample=1.0 will be ignored. Current value: bagging_fraction=1.0\n",
      "[LightGBM] [Warning] lambda_l2 is set=0.0016740960905730054, reg_lambda=0.0 will be ignored. Current value: lambda_l2=0.0016740960905730054\n",
      "[LightGBM] [Warning] bagging_freq is set=0, subsample_freq=0 will be ignored. Current value: bagging_freq=0\n",
      "Train ROC-AUC score : 0.7298967125751461\n",
      "Test ROC-AUC score : 0.6779607491492403\n",
      "Test PR AUC socre : 0.2952438291731809\n",
      "Best balanced accouracy of 0.6281366497755563 obtained at threshold 0.21000000000000002 \n"
     ]
    }
   ],
   "source": [
    "dataset_name = \"lendingclub\"\n",
    "target = \"loan_status\"\n",
    "path = \"../data/lc_2007_2017_selected.csv\"\n",
    "\n",
    "initial_features = [\n",
    "    \"verification_status\",\n",
    "    \"emp_title\",\n",
    "    \"int_rate\",\n",
    "    \"loan_amnt\",\n",
    "    \"total_rec_int\",\n",
    "    \"total_acc\",\n",
    "    \"tot_cur_bal\",\n",
    "    \"fico_range_low\",\n",
    "    \"fico_range_high\",\n",
    "    \"grade\",\n",
    "    \"total_rev_hi_lim\",\n",
    "    \"sub_grade\",\n",
    "    \"initial_list_status\",\n",
    "    \"purpose\",\n",
    "    \"issue_d\",\n",
    "    \"emp_length\",\n",
    "    \"pub_rec_bankruptcies\",\n",
    "    \"last_pymnt_amnt\",\n",
    "    \"num_actv_bc_tl\",\n",
    "    \"total_pymnt\",\n",
    "    \"loan_status\",\n",
    "    \"term\",\n",
    "    \"home_ownership\",\n",
    "    \"revol_util\",\n",
    "    \"application_type\",\n",
    "    \"addr_state\",\n",
    "    \"inq_last_6mths\",\n",
    "    \"pub_rec\",\n",
    "    \"dti\",\n",
    "    \"mort_acc\",\n",
    "    \"revol_bal\",\n",
    "    \"title\",\n",
    "    \"annual_inc\",\n",
    "    \"out_prncp\",\n",
    "    \"open_acc\",\n",
    "]\n",
    "\n",
    "# combine two lists without duplicates\n",
    "initial_features = list(set(initial_features))\n",
    "print(initial_features)\n",
    "# ================== Read and clean the dataset.===========================================\n",
    "logger.info(f\"1.Read data\")\n",
    "lcd = LendingClubDataset()\n",
    "X, y = lcd.get_data(path=path, use_cols=initial_features, dropna=True, sample=-1)\n",
    "logger.info(f\"\\nTarget distribution:\\n{y.value_counts(normalize=True)}\")\n",
    "\n",
    "# Split data into IT & OOT datasets.\n",
    "data = X.copy()\n",
    "data[target] = y\n",
    "\n",
    "X_it, y_it, X_oot, y_oot = oot_split(\n",
    "    df=data, split_date=\"Jun-2016\", split_col=\"issue_d\", target_col=target\n",
    ")\n",
    "# Original data dictionary\n",
    "data_dict = {\"xtrain\": X_it, \"ytrain\": y_it, \"xtest\": X_oot, \"ytest\": y_oot}\n",
    "\n",
    "# =================== Apply feature transformation =========================================\n",
    "logger.info(f\"2.Transform features\")\n",
    "#data_dict = get_simple_feature_transformation(data_dict_org)\n",
    "\n",
    "# =================== Feature Selection =========================================\n",
    "logger.info(f\"3.Starting feature selection.\")\n",
    "# Select the best features based on SHAPRFE CV\n",
    "# selected_features, fs_plot = select_features(data=data_dict, verbose=100)\n",
    "\n",
    "selected_features = [\n",
    "    \"emp_length\",\n",
    "    \"addr_state\",\n",
    "    \"revol_util\",\n",
    "    \"revol_bal\",\n",
    "    \"term\",\n",
    "    \"num_actv_bc_tl\",\n",
    "    \"total_acc\",\n",
    "    \"application_type\",\n",
    "    \"purpose\",\n",
    "    \"grade\",\n",
    "    'dti'\n",
    "]\n",
    "logger.info(f\"Final features :  {selected_features}\")\n",
    "# Update the data dictionary with the selected features.\n",
    "data_dict[\"xtrain\"] = data_dict[\"xtrain\"][selected_features]\n",
    "data_dict[\"xtest\"] = data_dict[\"xtest\"][selected_features]\n",
    "\n",
    "\n",
    "# model_params = tune_model(data_dict[\"xtrain\"], data_dict[\"ytrain\"], \"rocauc\")\n",
    "\n",
    "model_params = {\n",
    "    \"objective\": \"binary\",\n",
    "    \"metric\": \"binary_logloss\",\n",
    "    \"verbosity\": -1,\n",
    "    \"boosting_type\": \"gbdt\",\n",
    "    \"feature_pre_filter\": False,\n",
    "    \"lambda_l1\": 3.221919143923753e-08,\n",
    "    \"lambda_l2\": 0.0016740960905730054,\n",
    "    \"num_leaves\": 66,\n",
    "    \"feature_fraction\": 0.6,\n",
    "    \"bagging_fraction\": 1.0,\n",
    "    \"bagging_freq\": 0,\n",
    "    \"min_child_samples\": 20,\n",
    "}\n",
    "\n",
    "\n",
    "# =================== Train Model =========================================\n",
    "logger.info(f\"5.Train Model \")\n",
    "logger.info(f\"Creating model with params : {model_params}\")\n",
    "mono_lgb = lgb.LGBMClassifier(**model_params)\n",
    "mono_model = show_model_results(data=data_dict, model=mono_lgb)"
   ]
  },
  {
   "cell_type": "markdown",
   "metadata": {},
   "source": [
    "## Error Analysis"
   ]
  },
  {
   "cell_type": "code",
   "execution_count": 3,
   "metadata": {},
   "outputs": [],
   "source": [
    "# Create a validation set, to do the error analysis.\n",
    "X_train, X_val, y_train, y_val = train_test_split(data_dict[\"xtrain\"], data_dict[\"ytrain\"], test_size=0.2,stratify=data_dict[\"ytrain\"])"
   ]
  },
  {
   "cell_type": "code",
   "execution_count": 4,
   "metadata": {},
   "outputs": [
    {
     "name": "stdout",
     "output_type": "stream",
     "text": [
      "[LightGBM] [Warning] lambda_l1 is set=3.221919143923753e-08, reg_alpha=0.0 will be ignored. Current value: lambda_l1=3.221919143923753e-08\n",
      "[LightGBM] [Warning] feature_fraction is set=0.6, colsample_bytree=1.0 will be ignored. Current value: feature_fraction=0.6\n",
      "[LightGBM] [Warning] bagging_fraction is set=1.0, subsample=1.0 will be ignored. Current value: bagging_fraction=1.0\n",
      "[LightGBM] [Warning] lambda_l2 is set=0.0016740960905730054, reg_lambda=0.0 will be ignored. Current value: lambda_l2=0.0016740960905730054\n",
      "[LightGBM] [Warning] bagging_freq is set=0, subsample_freq=0 will be ignored. Current value: bagging_freq=0\n"
     ]
    },
    {
     "data": {
      "text/html": [
       "<div>\n",
       "<style scoped>\n",
       "    .dataframe tbody tr th:only-of-type {\n",
       "        vertical-align: middle;\n",
       "    }\n",
       "\n",
       "    .dataframe tbody tr th {\n",
       "        vertical-align: top;\n",
       "    }\n",
       "\n",
       "    .dataframe thead th {\n",
       "        text-align: right;\n",
       "    }\n",
       "</style>\n",
       "<table border=\"1\" class=\"dataframe\">\n",
       "  <thead>\n",
       "    <tr style=\"text-align: right;\">\n",
       "      <th></th>\n",
       "      <th>emp_length</th>\n",
       "      <th>addr_state</th>\n",
       "      <th>revol_util</th>\n",
       "      <th>revol_bal</th>\n",
       "      <th>term</th>\n",
       "      <th>num_actv_bc_tl</th>\n",
       "      <th>total_acc</th>\n",
       "      <th>application_type</th>\n",
       "      <th>purpose</th>\n",
       "      <th>grade</th>\n",
       "      <th>dti</th>\n",
       "      <th>p_loan_status</th>\n",
       "      <th>loan_status</th>\n",
       "    </tr>\n",
       "  </thead>\n",
       "  <tbody>\n",
       "    <tr>\n",
       "      <th>0</th>\n",
       "      <td>10.0</td>\n",
       "      <td>wa</td>\n",
       "      <td>85.8</td>\n",
       "      <td>1544.0</td>\n",
       "      <td>36 months</td>\n",
       "      <td>1.0</td>\n",
       "      <td>13.0</td>\n",
       "      <td>individual</td>\n",
       "      <td>debt_consolidation</td>\n",
       "      <td>c</td>\n",
       "      <td>13.25</td>\n",
       "      <td>0.172214</td>\n",
       "      <td>0</td>\n",
       "    </tr>\n",
       "    <tr>\n",
       "      <th>1</th>\n",
       "      <td>10.0</td>\n",
       "      <td>ca</td>\n",
       "      <td>55.2</td>\n",
       "      <td>20496.0</td>\n",
       "      <td>36 months</td>\n",
       "      <td>8.0</td>\n",
       "      <td>28.0</td>\n",
       "      <td>individual</td>\n",
       "      <td>debt_consolidation</td>\n",
       "      <td>a</td>\n",
       "      <td>13.19</td>\n",
       "      <td>0.073212</td>\n",
       "      <td>1</td>\n",
       "    </tr>\n",
       "    <tr>\n",
       "      <th>2</th>\n",
       "      <td>3.0</td>\n",
       "      <td>ca</td>\n",
       "      <td>74.7</td>\n",
       "      <td>11204.0</td>\n",
       "      <td>36 months</td>\n",
       "      <td>3.0</td>\n",
       "      <td>19.0</td>\n",
       "      <td>individual</td>\n",
       "      <td>home_improvement</td>\n",
       "      <td>b</td>\n",
       "      <td>9.17</td>\n",
       "      <td>0.106623</td>\n",
       "      <td>0</td>\n",
       "    </tr>\n",
       "    <tr>\n",
       "      <th>3</th>\n",
       "      <td>10.0</td>\n",
       "      <td>wa</td>\n",
       "      <td>55.2</td>\n",
       "      <td>30317.0</td>\n",
       "      <td>60 months</td>\n",
       "      <td>3.0</td>\n",
       "      <td>22.0</td>\n",
       "      <td>individual</td>\n",
       "      <td>debt_consolidation</td>\n",
       "      <td>e</td>\n",
       "      <td>35.47</td>\n",
       "      <td>0.455667</td>\n",
       "      <td>1</td>\n",
       "    </tr>\n",
       "    <tr>\n",
       "      <th>4</th>\n",
       "      <td>10.0</td>\n",
       "      <td>nj</td>\n",
       "      <td>35.9</td>\n",
       "      <td>21126.0</td>\n",
       "      <td>60 months</td>\n",
       "      <td>10.0</td>\n",
       "      <td>35.0</td>\n",
       "      <td>individual</td>\n",
       "      <td>debt_consolidation</td>\n",
       "      <td>d</td>\n",
       "      <td>27.24</td>\n",
       "      <td>0.501348</td>\n",
       "      <td>1</td>\n",
       "    </tr>\n",
       "  </tbody>\n",
       "</table>\n",
       "</div>"
      ],
      "text/plain": [
       "   emp_length addr_state  revol_util  revol_bal        term  num_actv_bc_tl  \\\n",
       "0        10.0         wa        85.8     1544.0   36 months             1.0   \n",
       "1        10.0         ca        55.2    20496.0   36 months             8.0   \n",
       "2         3.0         ca        74.7    11204.0   36 months             3.0   \n",
       "3        10.0         wa        55.2    30317.0   60 months             3.0   \n",
       "4        10.0         nj        35.9    21126.0   60 months            10.0   \n",
       "\n",
       "   total_acc application_type             purpose grade    dti  p_loan_status  \\\n",
       "0       13.0       individual  debt_consolidation     c  13.25       0.172214   \n",
       "1       28.0       individual  debt_consolidation     a  13.19       0.073212   \n",
       "2       19.0       individual    home_improvement     b   9.17       0.106623   \n",
       "3       22.0       individual  debt_consolidation     e  35.47       0.455667   \n",
       "4       35.0       individual  debt_consolidation     d  27.24       0.501348   \n",
       "\n",
       "   loan_status  \n",
       "0            0  \n",
       "1            1  \n",
       "2            0  \n",
       "3            1  \n",
       "4            1  "
      ]
     },
     "execution_count": 4,
     "metadata": {},
     "output_type": "execute_result"
    }
   ],
   "source": [
    "# Train the model\n",
    "lgb_model = lgb.LGBMClassifier(**model_params)\n",
    "lgb_model.fit(X_train,y_train)\n",
    "\n",
    "yhat_name = 'p_loan_status'\n",
    "preds1 = lgb_model.predict_proba(X_val)[:,1]\n",
    "\n",
    "X_val_results = X_val.copy().reset_index(drop=True)\n",
    "X_val_results[yhat_name] = preds1\n",
    "X_val_results[target] = y_val.values\n",
    "\n",
    "X_val_results.head()"
   ]
  },
  {
   "cell_type": "code",
   "execution_count": 5,
   "metadata": {},
   "outputs": [
    {
     "name": "stdout",
     "output_type": "stream",
     "text": [
      "Mean logloss residual: 0.464209\n",
      "Logloss from sklearn 0.464209\n"
     ]
    }
   ],
   "source": [
    "# Calculate the log loss error.\n",
    "from sklearn.metrics import log_loss\n",
    "import numpy as np\n",
    "resid_name = f'r_{target}' \n",
    "# calculate logloss residuals\n",
    "X_val_results[resid_name] = -X_val_results[target]*np.log(X_val_results[yhat_name]) -(1 - X_val_results[target])*np.log(1 - X_val_results[yhat_name])   \n",
    "# check that logloss is calculated correctly\n",
    "print('Mean logloss residual: %.6f' % X_val_results[resid_name].mean())\n",
    "print('Logloss from sklearn %.6f' % log_loss(y_val, preds1))"
   ]
  },
  {
   "cell_type": "code",
   "execution_count": 6,
   "metadata": {},
   "outputs": [
    {
     "data": {
      "image/png": "[encoded data removed]",
      "text/plain": [
       "<Figure size 576x576 with 1 Axes>"
      ]
     },
     "metadata": {
      "needs_background": "light"
     },
     "output_type": "display_data"
    }
   ],
   "source": [
    "# initialize figure\n",
    "# Matplotlib figure inline\n",
    "%matplotlib inline   \n",
    "fig, ax_ = plt.subplots(figsize=(8, 8))         \n",
    "valid_yhat_df = X_val_results.copy()\n",
    "# plot groups with appropriate color\n",
    "color_list = ['green', 'red'] \n",
    "c_idx = 0\n",
    "groups = valid_yhat_df.groupby(target) # define groups for levels of PAY_0\n",
    "for name, group in groups:\n",
    "    ax_.plot(group.p_loan_status, group.r_loan_status, \n",
    "             label=' '.join([target, str(name)]),\n",
    "             marker='o', linestyle='', color=color_list[c_idx], alpha=0.3)\n",
    "    c_idx += 1\n",
    "    \n",
    "# annotate plot\n",
    "plt.xlabel(yhat_name)\n",
    "plt.ylabel(resid_name)\n",
    "ax_.legend(loc=1)\n",
    "plt.title('Global Logloss Residuals')\n",
    "plt.show()"
   ]
  },
  {
   "cell_type": "markdown",
   "metadata": {},
   "source": [
    "\n",
    "Some high-magnitude outlying residuals are visible. \n",
    "* Who are these customers? \n",
    "* Why is the model so wrong about them? \n",
    "* And are they somehow exerting undue influence on other predictions? \n",
    "\n",
    "The model could be retrained without these individuals and retested as a potentially remediation strategy.\n",
    "\n",
    "`loan_status = 1 Residuals`"
   ]
  },
  {
   "cell_type": "code",
   "execution_count": 7,
   "metadata": {},
   "outputs": [],
   "source": [
    "# bins = [0, 30, 90, 100]\n",
    "# labels = ['low','medium','high']\n",
    "# valid_yhat_df['dti_binned'] = pd.cut(valid_yhat_df['dti'], bins=bins, labels=labels)\n",
    "\n",
    "# valid_yhat_df1 = valid_yhat_df[valid_yhat_df[target] == 1]\n",
    "# valid_yhat_df1 = valid_yhat_df1.sort_values(by=f'r_{target}', ascending=False).reset_index(drop=True)\n",
    "# valid_yhat_df1.head()"
   ]
  },
  {
   "cell_type": "code",
   "execution_count": 8,
   "metadata": {},
   "outputs": [
    {
     "data": {
      "image/png": "[encoded data removed]",
      "text/plain": [
       "<Figure size 918.92x432 with 7 Axes>"
      ]
     },
     "metadata": {},
     "output_type": "display_data"
    }
   ],
   "source": [
    "# use Seaborn FacetGrid for convenience\n",
    "# some seaborn configs\n",
    "import seaborn as sns\n",
    "sns.set(font_scale=0.9)                                         # legible font size\n",
    "sns.set_style('whitegrid', {'axes.grid': False})                # white background, no grid in plots\n",
    "sns.set_palette(sns.color_palette([\"green\", \"red\"]))            # consistent colors\n",
    "\n",
    "# facet grid of residuals by PAY_0 \n",
    "sorted_ = valid_yhat_df.sort_values(by='grade')                 # sort for better layout of by-groups\n",
    "g = sns.FacetGrid(sorted_, col='grade', hue=target, col_wrap=4) # init grid\n",
    "_ = g.map(plt.scatter, yhat_name, resid_name, alpha=0.4)        # plot points\n",
    "_ = g.add_legend(bbox_to_anchor=(0.82, 0.2))                    # legend"
   ]
  },
  {
   "cell_type": "markdown",
   "metadata": {},
   "source": [
    "### Model Performance across Categories"
   ]
  },
  {
   "cell_type": "code",
   "execution_count": 21,
   "metadata": {},
   "outputs": [
    {
     "name": "stdout",
     "output_type": "stream",
     "text": [
      "\n",
      "Creating segment wise ROC for : purpose\n"
     ]
    },
    {
     "data": {
      "image/png": "[encoded data removed]",
      "text/plain": [
       "<Figure size 432x288 with 1 Axes>"
      ]
     },
     "metadata": {},
     "output_type": "display_data"
    }
   ],
   "source": [
    "get_segment_rocauc(columns=['purpose'],model=mono_model,data_dict=data_dict)       "
   ]
  },
  {
   "cell_type": "code",
   "execution_count": null,
   "metadata": {},
   "outputs": [],
   "source": []
  }
 ],
 "metadata": {
  "interpreter": {
   "hash": "9ee18155c7f08bca26f68a2e7822e37aab5c5efb1655e9dcf78a129488236b07"
  },
  "kernelspec": {
   "display_name": "Python 3.6.10 ('gdd3.6')",
   "language": "python",
   "name": "python3"
  },
  "language_info": {
   "codemirror_mode": {
    "name": "ipython",
    "version": 3
   },
   "file_extension": ".py",
   "mimetype": "text/x-python",
   "name": "python",
   "nbconvert_exporter": "python",
   "pygments_lexer": "ipython3",
   "version": "3.6.10"
  },
  "orig_nbformat": 4
 },
 "nbformat": 4,
 "nbformat_minor": 2
}
