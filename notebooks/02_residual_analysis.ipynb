{
 "cells": [
  {
   "cell_type": "markdown",
   "metadata": {},
   "source": [
    "# Residual Analysis"
   ]
  },
  {
   "cell_type": "markdown",
   "metadata": {},
   "source": [
    "## 1. ML Model"
   ]
  },
  {
   "cell_type": "code",
   "execution_count": 3,
   "metadata": {},
   "outputs": [
    {
     "name": "stdout",
     "output_type": "stream",
     "text": [
      "The autoreload extension is already loaded. To reload it, use:\n",
      "  %reload_ext autoreload\n"
     ]
    }
   ],
   "source": [
    "%load_ext autoreload\n",
    "%autoreload 2\n",
    "import pandas as pd\n",
    "from loguru import logger\n",
    "from sklearn.model_selection import train_test_split\n",
    "import lightgbm as lgb\n",
    "import matplotlib.pyplot as plt\n",
    "from blog.data.data_cleaner_factory import DataCleanerFactory\n",
    "from blog.model.regularisation import select_features, get_monotone_constraints\n",
    "from blog.model.optimise import ROCAUCObjective, MultiObjective, PRAUCObjective\n",
    "from blog.model.evaluation import show_model_results\n",
    "from probatus.interpret import ShapModelInterpreter\n",
    "from blog.data.lendingclub_dataset import LendingClubDataset\n",
    "from blog.model.sampling import oot_split\n",
    "from blog.model.regularisation import get_monotone_constraints\n",
    "from blog.model.feature_transformations import get_simple_feature_transformation\n",
    "from blog.model.optimise import getObjective, tune_model\n",
    "from blog.model.evaluation import get_segment_rocauc"
   ]
  },
  {
   "cell_type": "code",
   "execution_count": 4,
   "metadata": {},
   "outputs": [
    {
     "name": "stderr",
     "output_type": "stream",
     "text": [
      "2022-04-11 23:03:25.056 | INFO     | __main__:<module>:48 - 1.Read data\n",
      "2022-04-11 23:03:25.056 | INFO     | blog.data.lendingclub_dataset:_read_data:24 - Reading data from path ../data/lc_2007_2017_selected.csv\n"
     ]
    },
    {
     "name": "stdout",
     "output_type": "stream",
     "text": [
      "['fico_range_high', 'emp_title', 'total_pymnt', 'addr_state', 'initial_list_status', 'sub_grade', 'home_ownership', 'open_acc', 'revol_util', 'pub_rec', 'purpose', 'application_type', 'tot_cur_bal', 'inq_last_6mths', 'num_actv_bc_tl', 'total_rev_hi_lim', 'total_rec_int', 'issue_d', 'fico_range_low', 'loan_amnt', 'term', 'grade', 'revol_bal', 'mort_acc', 'emp_length', 'annual_inc', 'dti', 'verification_status', 'total_acc', 'pub_rec_bankruptcies', 'int_rate', 'title', 'loan_status', 'last_pymnt_amnt', 'out_prncp']\n"
     ]
    },
    {
     "name": "stderr",
     "output_type": "stream",
     "text": [
      "2022-04-11 23:03:31.249 | INFO     | blog.data.lendingclub_dataset:_read_data:28 - Read data with shape (1646801, 35)\n",
      "2022-04-11 23:03:33.266 | INFO     | blog.data.lendingclub_dataset:_process_data:72 - Creating target data.\n",
      "2022-04-11 23:03:38.097 | INFO     | blog.data.lendingclub_dataset:get_data:117 - Shape of training data X :(682278, 34), y : (682278,).\n",
      "2022-04-11 23:03:38.325 | INFO     | __main__:<module>:51 - \n",
      "Target distribution:\n",
      "0    0.793679\n",
      "1    0.206321\n",
      "Name: loan_status, dtype: float64\n",
      "2022-04-11 23:03:38.678 | INFO     | blog.model.sampling:oot_split:63 - IT data info \n",
      " : {'name': 'IT', 'X_shape': (597837, 35), 'y_shape': (597837,), 'default_rate': 21.097389422200365, 'pct_of_data': 87.6, 'earliest_disbursed_date': Timestamp('2012-08-01 00:00:00'), 'latest_disbursed_date': Timestamp('2016-05-01 00:00:00'), 'default_count': 126128}\n",
      "2022-04-11 23:03:38.679 | INFO     | blog.model.sampling:oot_split:64 - OOT data info \n",
      " : {'name': 'OOT', 'X_shape': (84441, 35), 'y_shape': (84441,), 'default_rate': 17.337549294773865, 'pct_of_data': 12.4, 'earliest_disbursed_date': Timestamp('2016-06-01 00:00:00'), 'latest_disbursed_date': Timestamp('2017-09-01 00:00:00'), 'default_count': 14640}\n",
      "2022-04-11 23:03:38.679 | INFO     | blog.model.sampling:oot_split:67 - OOT sample contains 14640 defaults, 10.4% of total defaults (140768)\n",
      "2022-04-11 23:03:38.763 | INFO     | __main__:<module>:64 - 2.Transform features\n",
      "2022-04-11 23:03:38.764 | INFO     | __main__:<module>:68 - 3.Starting feature selection.\n",
      "2022-04-11 23:03:38.764 | INFO     | __main__:<module>:85 - Final features :  ['emp_length', 'revol_util', 'revol_bal', 'term', 'num_actv_bc_tl', 'total_acc', 'application_type', 'purpose', 'grade', 'dti']\n",
      "2022-04-11 23:03:38.782 | INFO     | __main__:<module>:110 - 5.Train Model \n",
      "2022-04-11 23:03:38.783 | INFO     | __main__:<module>:111 - Creating model with params : {'objective': 'binary', 'metric': 'binary_logloss', 'verbosity': -1, 'boosting_type': 'gbdt', 'feature_pre_filter': False, 'lambda_l1': 3.221919143923753e-08, 'lambda_l2': 0.0016740960905730054, 'num_leaves': 66, 'feature_fraction': 0.6, 'bagging_fraction': 1.0, 'bagging_freq': 0, 'min_child_samples': 20}\n"
     ]
    },
    {
     "name": "stdout",
     "output_type": "stream",
     "text": [
      "[LightGBM] [Warning] lambda_l1 is set=3.221919143923753e-08, reg_alpha=0.0 will be ignored. Current value: lambda_l1=3.221919143923753e-08\n",
      "[LightGBM] [Warning] feature_fraction is set=0.6, colsample_bytree=1.0 will be ignored. Current value: feature_fraction=0.6\n",
      "[LightGBM] [Warning] bagging_fraction is set=1.0, subsample=1.0 will be ignored. Current value: bagging_fraction=1.0\n",
      "[LightGBM] [Warning] lambda_l2 is set=0.0016740960905730054, reg_lambda=0.0 will be ignored. Current value: lambda_l2=0.0016740960905730054\n",
      "[LightGBM] [Warning] bagging_freq is set=0, subsample_freq=0 will be ignored. Current value: bagging_freq=0\n",
      "Train ROC-AUC score : 0.7229743086833438\n",
      "Test ROC-AUC score : 0.6738510017118924\n",
      "Test PR AUC socre : 0.29193466693181097\n",
      "Best balanced accouracy of 0.624012428129993 obtained at threshold 0.21000000000000002 \n"
     ]
    }
   ],
   "source": [
    "dataset_name = \"lendingclub\"\n",
    "target = \"loan_status\"\n",
    "path = \"../data/lc_2007_2017_selected.csv\"\n",
    "\n",
    "\n",
    "initial_features = [\n",
    "    \"verification_status\",\n",
    "    \"emp_title\",\n",
    "    \"int_rate\",\n",
    "    \"loan_amnt\",\n",
    "    \"total_rec_int\",\n",
    "    \"total_acc\",\n",
    "    \"tot_cur_bal\",\n",
    "    \"fico_range_low\",\n",
    "    \"fico_range_high\",\n",
    "    \"grade\",\n",
    "    \"total_rev_hi_lim\",\n",
    "    \"sub_grade\",\n",
    "    \"initial_list_status\",\n",
    "    \"purpose\",\n",
    "    \"issue_d\",\n",
    "    \"emp_length\",\n",
    "    \"pub_rec_bankruptcies\",\n",
    "    \"last_pymnt_amnt\",\n",
    "    \"num_actv_bc_tl\",\n",
    "    \"total_pymnt\",\n",
    "    \"loan_status\",\n",
    "    \"term\",\n",
    "    \"home_ownership\",\n",
    "    \"revol_util\",\n",
    "    \"application_type\",\n",
    "    \"addr_state\",\n",
    "    \"inq_last_6mths\",\n",
    "    \"pub_rec\",\n",
    "    \"dti\",\n",
    "    \"mort_acc\",\n",
    "    \"revol_bal\",\n",
    "    \"title\",\n",
    "    \"annual_inc\",\n",
    "    \"out_prncp\",\n",
    "    \"open_acc\",\n",
    "]\n",
    "\n",
    "# combine two lists without duplicates\n",
    "initial_features = list(set(initial_features))\n",
    "print(initial_features)\n",
    "# ================== Read and clean the dataset.===========================================\n",
    "logger.info(f\"1.Read data\")\n",
    "lcd = LendingClubDataset()\n",
    "X, y = lcd.get_data(path=path, use_cols=initial_features, dropna=True, sample=-1)\n",
    "logger.info(f\"\\nTarget distribution:\\n{y.value_counts(normalize=True)}\")\n",
    "\n",
    "# Split data into IT & OOT datasets.\n",
    "data = X.copy()\n",
    "data[target] = y\n",
    "\n",
    "X_it, y_it, X_oot, y_oot = oot_split(\n",
    "    df=data, split_date=\"Jun-2016\", split_col=\"issue_d\", target_col=target\n",
    ")\n",
    "# Original data dictionary\n",
    "data_dict = {\"xtrain\": X_it, \"ytrain\": y_it, \"xtest\": X_oot, \"ytest\": y_oot}\n",
    "\n",
    "# =================== Apply feature transformation =========================================\n",
    "logger.info(f\"2.Transform features\")\n",
    "#data_dict = get_simple_feature_transformation(data_dict_org)\n",
    "\n",
    "# =================== Feature Selection =========================================\n",
    "logger.info(f\"3.Starting feature selection.\")\n",
    "# Select the best features based on SHAPRFE CV\n",
    "# selected_features, fs_plot = select_features(data=data_dict, verbose=100)\n",
    "\n",
    "selected_features = [\n",
    "    \"emp_length\",\n",
    "    \"addr_state\",\n",
    "    \"revol_util\",\n",
    "    \"revol_bal\",\n",
    "    \"term\",\n",
    "    \"num_actv_bc_tl\",\n",
    "    \"total_acc\",\n",
    "    \"application_type\",\n",
    "    \"purpose\",\n",
    "    \"grade\",\n",
    "    'dti'\n",
    "]\n",
    "logger.info(f\"Final features :  {selected_features}\")\n",
    "# Update the data dictionary with the selected features.\n",
    "data_dict[\"xtrain\"] = data_dict[\"xtrain\"][selected_features]\n",
    "data_dict[\"xtest\"] = data_dict[\"xtest\"][selected_features]\n",
    "\n",
    "\n",
    "# model_params = tune_model(data_dict[\"xtrain\"], data_dict[\"ytrain\"], \"rocauc\")\n",
    "\n",
    "model_params = {\n",
    "    \"objective\": \"binary\",\n",
    "    \"metric\": \"binary_logloss\",\n",
    "    \"verbosity\": -1,\n",
    "    \"boosting_type\": \"gbdt\",\n",
    "    \"feature_pre_filter\": False,\n",
    "    \"lambda_l1\": 3.221919143923753e-08,\n",
    "    \"lambda_l2\": 0.0016740960905730054,\n",
    "    \"num_leaves\": 66,\n",
    "    \"feature_fraction\": 0.6,\n",
    "    \"bagging_fraction\": 1.0,\n",
    "    \"bagging_freq\": 0,\n",
    "    \"min_child_samples\": 20,\n",
    "}\n",
    "\n",
    "\n",
    "# =================== Train Model =========================================\n",
    "logger.info(f\"5.Train Model \")\n",
    "logger.info(f\"Creating model with params : {model_params}\")\n",
    "mono_lgb = lgb.LGBMClassifier(**model_params)\n",
    "mono_model = show_model_results(data=data_dict, model=mono_lgb)"
   ]
  },
  {
   "cell_type": "markdown",
   "metadata": {},
   "source": [
    "## Error Analysis"
   ]
  },
  {
   "cell_type": "code",
   "execution_count": 5,
   "metadata": {},
   "outputs": [],
   "source": [
    "# Create a validation set, to do the error analysis.\n",
    "X_train, X_val, y_train, y_val = train_test_split(data_dict[\"xtrain\"], data_dict[\"ytrain\"], test_size=0.2,stratify=data_dict[\"ytrain\"])"
   ]
  },
  {
   "cell_type": "code",
   "execution_count": 6,
   "metadata": {},
   "outputs": [
    {
     "name": "stdout",
     "output_type": "stream",
     "text": [
      "[LightGBM] [Warning] lambda_l1 is set=3.221919143923753e-08, reg_alpha=0.0 will be ignored. Current value: lambda_l1=3.221919143923753e-08\n",
      "[LightGBM] [Warning] feature_fraction is set=0.6, colsample_bytree=1.0 will be ignored. Current value: feature_fraction=0.6\n",
      "[LightGBM] [Warning] bagging_fraction is set=1.0, subsample=1.0 will be ignored. Current value: bagging_fraction=1.0\n",
      "[LightGBM] [Warning] lambda_l2 is set=0.0016740960905730054, reg_lambda=0.0 will be ignored. Current value: lambda_l2=0.0016740960905730054\n",
      "[LightGBM] [Warning] bagging_freq is set=0, subsample_freq=0 will be ignored. Current value: bagging_freq=0\n"
     ]
    },
    {
     "data": {
      "text/html": [
       "<div>\n",
       "<style scoped>\n",
       "    .dataframe tbody tr th:only-of-type {\n",
       "        vertical-align: middle;\n",
       "    }\n",
       "\n",
       "    .dataframe tbody tr th {\n",
       "        vertical-align: top;\n",
       "    }\n",
       "\n",
       "    .dataframe thead th {\n",
       "        text-align: right;\n",
       "    }\n",
       "</style>\n",
       "<table border=\"1\" class=\"dataframe\">\n",
       "  <thead>\n",
       "    <tr style=\"text-align: right;\">\n",
       "      <th></th>\n",
       "      <th>emp_length</th>\n",
       "      <th>revol_util</th>\n",
       "      <th>revol_bal</th>\n",
       "      <th>term</th>\n",
       "      <th>num_actv_bc_tl</th>\n",
       "      <th>total_acc</th>\n",
       "      <th>application_type</th>\n",
       "      <th>purpose</th>\n",
       "      <th>grade</th>\n",
       "      <th>dti</th>\n",
       "      <th>p_loan_status</th>\n",
       "      <th>loan_status</th>\n",
       "    </tr>\n",
       "  </thead>\n",
       "  <tbody>\n",
       "    <tr>\n",
       "      <th>0</th>\n",
       "      <td>1.0</td>\n",
       "      <td>62.4</td>\n",
       "      <td>6057.0</td>\n",
       "      <td>36 months</td>\n",
       "      <td>5.0</td>\n",
       "      <td>12.0</td>\n",
       "      <td>individual</td>\n",
       "      <td>moving</td>\n",
       "      <td>b</td>\n",
       "      <td>27.43</td>\n",
       "      <td>0.214363</td>\n",
       "      <td>0</td>\n",
       "    </tr>\n",
       "    <tr>\n",
       "      <th>1</th>\n",
       "      <td>6.0</td>\n",
       "      <td>31.7</td>\n",
       "      <td>3735.0</td>\n",
       "      <td>36 months</td>\n",
       "      <td>2.0</td>\n",
       "      <td>24.0</td>\n",
       "      <td>individual</td>\n",
       "      <td>debt_consolidation</td>\n",
       "      <td>a</td>\n",
       "      <td>4.73</td>\n",
       "      <td>0.045412</td>\n",
       "      <td>0</td>\n",
       "    </tr>\n",
       "    <tr>\n",
       "      <th>2</th>\n",
       "      <td>3.0</td>\n",
       "      <td>55.9</td>\n",
       "      <td>12470.0</td>\n",
       "      <td>36 months</td>\n",
       "      <td>4.0</td>\n",
       "      <td>15.0</td>\n",
       "      <td>individual</td>\n",
       "      <td>credit_card</td>\n",
       "      <td>b</td>\n",
       "      <td>28.68</td>\n",
       "      <td>0.163729</td>\n",
       "      <td>0</td>\n",
       "    </tr>\n",
       "    <tr>\n",
       "      <th>3</th>\n",
       "      <td>2.0</td>\n",
       "      <td>37.8</td>\n",
       "      <td>43777.0</td>\n",
       "      <td>36 months</td>\n",
       "      <td>7.0</td>\n",
       "      <td>56.0</td>\n",
       "      <td>individual</td>\n",
       "      <td>credit_card</td>\n",
       "      <td>a</td>\n",
       "      <td>21.02</td>\n",
       "      <td>0.064010</td>\n",
       "      <td>0</td>\n",
       "    </tr>\n",
       "    <tr>\n",
       "      <th>4</th>\n",
       "      <td>10.0</td>\n",
       "      <td>11.5</td>\n",
       "      <td>1037.0</td>\n",
       "      <td>60 months</td>\n",
       "      <td>5.0</td>\n",
       "      <td>29.0</td>\n",
       "      <td>individual</td>\n",
       "      <td>debt_consolidation</td>\n",
       "      <td>c</td>\n",
       "      <td>9.82</td>\n",
       "      <td>0.329132</td>\n",
       "      <td>0</td>\n",
       "    </tr>\n",
       "  </tbody>\n",
       "</table>\n",
       "</div>"
      ],
      "text/plain": [
       "   emp_length  revol_util  revol_bal        term  num_actv_bc_tl  total_acc  \\\n",
       "0         1.0        62.4     6057.0   36 months             5.0       12.0   \n",
       "1         6.0        31.7     3735.0   36 months             2.0       24.0   \n",
       "2         3.0        55.9    12470.0   36 months             4.0       15.0   \n",
       "3         2.0        37.8    43777.0   36 months             7.0       56.0   \n",
       "4        10.0        11.5     1037.0   60 months             5.0       29.0   \n",
       "\n",
       "  application_type             purpose grade    dti  p_loan_status  \\\n",
       "0       individual              moving     b  27.43       0.214363   \n",
       "1       individual  debt_consolidation     a   4.73       0.045412   \n",
       "2       individual         credit_card     b  28.68       0.163729   \n",
       "3       individual         credit_card     a  21.02       0.064010   \n",
       "4       individual  debt_consolidation     c   9.82       0.329132   \n",
       "\n",
       "   loan_status  \n",
       "0            0  \n",
       "1            0  \n",
       "2            0  \n",
       "3            0  \n",
       "4            0  "
      ]
     },
     "execution_count": 6,
     "metadata": {},
     "output_type": "execute_result"
    }
   ],
   "source": [
    "# Train the model\n",
    "lgb_model = lgb.LGBMClassifier(**model_params)\n",
    "lgb_model.fit(X_train,y_train)\n",
    "\n",
    "yhat_name = 'p_loan_status'\n",
    "preds1 = lgb_model.predict_proba(X_val)[:,1]\n",
    "\n",
    "X_val_results = X_val.copy().reset_index(drop=True)\n",
    "X_val_results[yhat_name] = preds1\n",
    "X_val_results[target] = y_val.values\n",
    "\n",
    "X_val_results.head()"
   ]
  },
  {
   "cell_type": "code",
   "execution_count": 7,
   "metadata": {},
   "outputs": [
    {
     "name": "stdout",
     "output_type": "stream",
     "text": [
      "Mean logloss residual: 0.466557\n",
      "Logloss from sklearn 0.466557\n"
     ]
    }
   ],
   "source": [
    "# Calculate the log loss error.\n",
    "from sklearn.metrics import log_loss\n",
    "import numpy as np\n",
    "resid_name = f'r_{target}' \n",
    "# calculate logloss residuals\n",
    "X_val_results[resid_name] = -X_val_results[target]*np.log(X_val_results[yhat_name]) -(1 - X_val_results[target])*np.log(1 - X_val_results[yhat_name])   \n",
    "# check that logloss is calculated correctly\n",
    "print('Mean logloss residual: %.6f' % X_val_results[resid_name].mean())\n",
    "print('Logloss from sklearn %.6f' % log_loss(y_val, preds1))"
   ]
  },
  {
   "cell_type": "code",
   "execution_count": 8,
   "metadata": {},
   "outputs": [
    {
     "data": {
      "image/png": "[encoded data removed]",
      "text/plain": [
       "<Figure size 576x576 with 1 Axes>"
      ]
     },
     "metadata": {
      "needs_background": "light"
     },
     "output_type": "display_data"
    }
   ],
   "source": [
    "# initialize figure\n",
    "# Matplotlib figure inline\n",
    "%matplotlib inline   \n",
    "fig, ax_ = plt.subplots(figsize=(8, 8))         \n",
    "valid_yhat_df = X_val_results.copy()\n",
    "# plot groups with appropriate color\n",
    "color_list = ['green', 'red'] \n",
    "c_idx = 0\n",
    "groups = valid_yhat_df.groupby(target) # define groups for levels of PAY_0\n",
    "for name, group in groups:\n",
    "    ax_.plot(group.p_loan_status, group.r_loan_status, \n",
    "             label=' '.join([target, str(name)]),\n",
    "             marker='o', linestyle='', color=color_list[c_idx], alpha=0.3)\n",
    "    c_idx += 1\n",
    "    \n",
    "# annotate plot\n",
    "plt.xlabel(yhat_name)\n",
    "plt.ylabel(resid_name)\n",
    "ax_.legend(loc=1)\n",
    "plt.title('Global Logloss Residuals')\n",
    "plt.show()"
   ]
  },
  {
   "cell_type": "markdown",
   "metadata": {},
   "source": [
    "\n",
    "Some high-magnitude outlying residuals are visible. \n",
    "* Who are these customers? \n",
    "* Why is the model so wrong about them? \n",
    "* And are they somehow exerting undue influence on other predictions? \n",
    "\n",
    "The model could be retrained without these individuals and retested as a potentially remediation strategy.\n",
    "\n",
    "`loan_status = 1 Residuals`"
   ]
  },
  {
   "cell_type": "code",
   "execution_count": 9,
   "metadata": {},
   "outputs": [],
   "source": [
    "# bins = [0, 30, 90, 100]\n",
    "# labels = ['low','medium','high']\n",
    "# valid_yhat_df['dti_binned'] = pd.cut(valid_yhat_df['dti'], bins=bins, labels=labels)\n",
    "\n",
    "# valid_yhat_df1 = valid_yhat_df[valid_yhat_df[target] == 1]\n",
    "# valid_yhat_df1 = valid_yhat_df1.sort_values(by=f'r_{target}', ascending=False).reset_index(drop=True)\n",
    "# valid_yhat_df1.head()"
   ]
  },
  {
   "cell_type": "code",
   "execution_count": 10,
   "metadata": {},
   "outputs": [
    {
     "data": {
      "image/png": "[encoded data removed]",
      "text/plain": [
       "<Figure size 918.92x432 with 7 Axes>"
      ]
     },
     "metadata": {},
     "output_type": "display_data"
    }
   ],
   "source": [
    "# use Seaborn FacetGrid for convenience\n",
    "# some seaborn configs\n",
    "import seaborn as sns\n",
    "sns.set(font_scale=0.9)                                         # legible font size\n",
    "sns.set_style('whitegrid', {'axes.grid': False})                # white background, no grid in plots\n",
    "sns.set_palette(sns.color_palette([\"green\", \"red\"]))            # consistent colors\n",
    "\n",
    "# facet grid of residuals by PAY_0 \n",
    "sorted_ = valid_yhat_df.sort_values(by='grade')                 # sort for better layout of by-groups\n",
    "g = sns.FacetGrid(sorted_, col='grade', hue=target, col_wrap=4) # init grid\n",
    "_ = g.map(plt.scatter, yhat_name, resid_name, alpha=0.4)        # plot points\n",
    "_ = g.add_legend(bbox_to_anchor=(0.82, 0.2))                    # legend"
   ]
  },
  {
   "cell_type": "markdown",
   "metadata": {},
   "source": [
    "### Model Performance across Categories"
   ]
  },
  {
   "cell_type": "code",
   "execution_count": 11,
   "metadata": {},
   "outputs": [
    {
     "name": "stderr",
     "output_type": "stream",
     "text": [
      "/Users/ei08ob/PycharmProjects/blog_series/blog/model/evaluation.py:85: SettingWithCopyWarning:\n",
      "\n",
      "\n",
      "A value is trying to be set on a copy of a slice from a DataFrame.\n",
      "Try using .loc[row_indexer,col_indexer] = value instead\n",
      "\n",
      "See the caveats in the documentation: https://pandas.pydata.org/pandas-docs/stable/user_guide/indexing.html#returning-a-view-versus-a-copy\n",
      "\n",
      "/Users/ei08ob/PycharmProjects/blog_series/blog/model/evaluation.py:86: SettingWithCopyWarning:\n",
      "\n",
      "\n",
      "A value is trying to be set on a copy of a slice from a DataFrame.\n",
      "Try using .loc[row_indexer,col_indexer] = value instead\n",
      "\n",
      "See the caveats in the documentation: https://pandas.pydata.org/pandas-docs/stable/user_guide/indexing.html#returning-a-view-versus-a-copy\n",
      "\n",
      "2022-04-11 23:04:00.967 | INFO     | blog.model.evaluation:get_segment_rocauc:97 - ROC-AUC score for grade==a = 0.6071037767180869\n",
      "2022-04-11 23:04:00.975 | INFO     | blog.model.evaluation:get_segment_rocauc:97 - ROC-AUC score for grade==e = 0.5711960865736683\n",
      "2022-04-11 23:04:00.992 | INFO     | blog.model.evaluation:get_segment_rocauc:97 - ROC-AUC score for grade==c = 0.5530300092634877\n",
      "2022-04-11 23:04:00.998 | INFO     | blog.model.evaluation:get_segment_rocauc:97 - ROC-AUC score for grade==g = 0.5963392703411069\n",
      "2022-04-11 23:04:01.012 | INFO     | blog.model.evaluation:get_segment_rocauc:97 - ROC-AUC score for grade==b = 0.5859682551347806\n",
      "2022-04-11 23:04:01.026 | INFO     | blog.model.evaluation:get_segment_rocauc:97 - ROC-AUC score for grade==d = 0.5574938310402154\n",
      "2022-04-11 23:04:01.032 | INFO     | blog.model.evaluation:get_segment_rocauc:97 - ROC-AUC score for grade==f = 0.5632335353363136\n",
      "2022-04-11 23:04:01.048 | INFO     | blog.model.evaluation:get_segment_rocauc:97 - ROC-AUC score for purpose==credit_card = 0.6653285774654507\n",
      "2022-04-11 23:04:01.079 | INFO     | blog.model.evaluation:get_segment_rocauc:97 - ROC-AUC score for purpose==debt_consolidation = 0.6698178752102235\n",
      "2022-04-11 23:04:01.089 | INFO     | blog.model.evaluation:get_segment_rocauc:97 - ROC-AUC score for purpose==home_improvement = 0.675695295431731\n",
      "2022-04-11 23:04:01.096 | INFO     | blog.model.evaluation:get_segment_rocauc:97 - ROC-AUC score for purpose==major_purchase = 0.7082095450952601\n",
      "2022-04-11 23:04:01.105 | INFO     | blog.model.evaluation:get_segment_rocauc:97 - ROC-AUC score for purpose==other = 0.6774153868740722\n",
      "2022-04-11 23:04:01.111 | INFO     | blog.model.evaluation:get_segment_rocauc:97 - ROC-AUC score for purpose==vacation = 0.7047967421928641\n",
      "2022-04-11 23:04:01.127 | INFO     | blog.model.evaluation:get_segment_rocauc:97 - ROC-AUC score for purpose==car = 0.6844002016129033\n",
      "2022-04-11 23:04:01.133 | INFO     | blog.model.evaluation:get_segment_rocauc:97 - ROC-AUC score for purpose==moving = 0.6807187521473236\n",
      "2022-04-11 23:04:01.139 | INFO     | blog.model.evaluation:get_segment_rocauc:97 - ROC-AUC score for purpose==medical = 0.6774124984755832\n",
      "2022-04-11 23:04:01.143 | INFO     | blog.model.evaluation:get_segment_rocauc:97 - ROC-AUC score for purpose==small_business = 0.6870584772370487\n",
      "2022-04-11 23:04:01.149 | INFO     | blog.model.evaluation:get_segment_rocauc:97 - ROC-AUC score for purpose==house = 0.6721236089395751\n",
      "2022-04-11 23:04:01.154 | INFO     | blog.model.evaluation:get_segment_rocauc:97 - ROC-AUC score for purpose==renewable_energy = 0.5943627450980392\n"
     ]
    },
    {
     "name": "stdout",
     "output_type": "stream",
     "text": [
      "\n",
      " : Creating segment wise ROC for : grade\n",
      "\n",
      " : Creating segment wise ROC for : purpose\n"
     ]
    }
   ],
   "source": [
    "\n",
    "get_segment_rocauc(columns=['grade','purpose'],model=mono_lgb,data_dict=data_dict)\n",
    "        "
   ]
  },
  {
   "cell_type": "code",
   "execution_count": null,
   "metadata": {},
   "outputs": [],
   "source": []
  }
 ],
 "metadata": {
  "interpreter": {
   "hash": "9ee18155c7f08bca26f68a2e7822e37aab5c5efb1655e9dcf78a129488236b07"
  },
  "kernelspec": {
   "display_name": "Python 3.6.10 ('gdd3.6')",
   "language": "python",
   "name": "python3"
  },
  "language_info": {
   "codemirror_mode": {
    "name": "ipython",
    "version": 3
   },
   "file_extension": ".py",
   "mimetype": "text/x-python",
   "name": "python",
   "nbconvert_exporter": "python",
   "pygments_lexer": "ipython3",
   "version": "3.6.10"
  },
  "orig_nbformat": 4
 },
 "nbformat": 4,
 "nbformat_minor": 2
}
