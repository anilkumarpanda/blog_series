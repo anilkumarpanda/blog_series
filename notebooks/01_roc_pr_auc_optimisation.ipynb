{
 "cells": [
  {
   "cell_type": "markdown",
   "metadata": {},
   "source": [
    "# ROC AUC vs PR AUC\n"
   ]
  },
  {
   "cell_type": "code",
   "execution_count": 9,
   "metadata": {},
   "outputs": [
    {
     "name": "stderr",
     "output_type": "stream",
     "text": [
      "2022-03-18 18:38:15.018 | INFO     | blog.data.lnt_dataset:_read_data:18 - Reading data from path ../data/lnt_dataset.csv\n",
      "2022-03-18 18:38:15.932 | INFO     | blog.data.lnt_dataset:_read_data:20 - Read data with shape (233154, 41)\n",
      "2022-03-18 18:38:15.932 | INFO     | blog.data.lnt_dataset:get_data:145 - Dropping na rows.\n",
      "2022-03-18 18:38:16.063 | INFO     | blog.data.lnt_dataset:_process_data:29 - Dropping all id columns\n",
      "2022-03-18 18:38:16.090 | INFO     | blog.data.lnt_dataset:_process_data:36 - Calculating customer age\n",
      "2022-03-18 18:38:16.616 | INFO     | blog.data.lnt_dataset:_process_data:39 - Calculating financial age of customer\n",
      "2022-03-18 18:38:17.221 | INFO     | blog.data.lnt_dataset:_process_data:42 - Calculating risk score of customer\n",
      "2022-03-18 18:38:17.317 | INFO     | blog.data.lnt_dataset:_process_data:45 - Calculating emplyment status customer\n",
      "2022-03-18 18:38:17.490 | INFO     | blog.data.lnt_dataset:get_data:164 - Shape of training data X :(225493, 32), y : (225493,).\n"
     ]
    }
   ],
   "source": [
    "import pandas as pd \n",
    "from loguru import logger \n",
    "from blog.data.data_cleaner_factory import DataCleanerFactory\n",
    "import optuna\n",
    "dcf = DataCleanerFactory()\n",
    "lnt_dataset  = dcf.getDataset('lnt')\n",
    "X,y = lnt_dataset.get_data(path='../data/lnt_dataset.csv')\n",
    "#X.drop(['Employment.Type','PERFORM_CNS.SCORE.DESCRIPTION'],axis=1,inplace=True)"
   ]
  },
  {
   "cell_type": "code",
   "execution_count": 10,
   "metadata": {},
   "outputs": [
    {
     "name": "stdout",
     "output_type": "stream",
     "text": [
      "Train shape : (169119, 32) , (169119,)\n",
      "Test shape : (56374, 32),(56374,) \n"
     ]
    }
   ],
   "source": [
    "from sklearn.model_selection import train_test_split\n",
    "X_train,X_test,y_train,y_test = train_test_split(X,y,stratify=y,random_state=65)\n",
    "print(f\"Train shape : {X_train.shape} , {y_train.shape}\")\n",
    "print(f\"Test shape : {X_test.shape},{y_test.shape} \")"
   ]
  },
  {
   "cell_type": "markdown",
   "metadata": {},
   "source": [
    "### MultiObjective Optimisation"
   ]
  },
  {
   "cell_type": "code",
   "execution_count": 11,
   "metadata": {},
   "outputs": [
    {
     "name": "stderr",
     "output_type": "stream",
     "text": [
      "\u001b[32m[I 2022-03-18 18:38:17,736]\u001b[0m A new study created in memory with name: multi_objective\u001b[0m\n"
     ]
    },
    {
     "name": "stdout",
     "output_type": "stream",
     "text": [
      "[LightGBM] [Warning] feature_fraction is set=0.42292595516341336, colsample_bytree=1.0 will be ignored. Current value: feature_fraction=0.42292595516341336\n",
      "[LightGBM] [Warning] feature_fraction is set=0.42292595516341336, colsample_bytree=1.0 will be ignored. Current value: feature_fraction=0.42292595516341336\n",
      "[LightGBM] [Warning] feature_fraction is set=0.42292595516341336, colsample_bytree=1.0 will be ignored. Current value: feature_fraction=0.42292595516341336\n",
      "[LightGBM] [Warning] feature_fraction is set=0.42292595516341336, colsample_bytree=1.0 will be ignored. Current value: feature_fraction=0.42292595516341336\n",
      "[LightGBM] [Warning] feature_fraction is set=0.42292595516341336, colsample_bytree=1.0 will be ignored. Current value: feature_fraction=0.42292595516341336\n",
      "[LightGBM] [Warning] feature_fraction is set=0.42292595516341336, colsample_bytree=1.0 will be ignored. Current value: feature_fraction=0.42292595516341336\n"
     ]
    },
    {
     "name": "stderr",
     "output_type": "stream",
     "text": [
      "\u001b[32m[I 2022-03-18 18:38:32,416]\u001b[0m Trial 0 finished with values: [0.63635, 0.31246] and parameters: {'n_estimators': 210, 'learning_rate': 0.14128983585199908, 'num_leaves': 72, 'feature_fraction': 0.42292595516341336}. \u001b[0m\n"
     ]
    },
    {
     "name": "stdout",
     "output_type": "stream",
     "text": [
      "[LightGBM] [Warning] feature_fraction is set=0.6092618720774687, colsample_bytree=1.0 will be ignored. Current value: feature_fraction=0.6092618720774687\n",
      "[LightGBM] [Warning] feature_fraction is set=0.6092618720774687, colsample_bytree=1.0 will be ignored. Current value: feature_fraction=0.6092618720774687\n",
      "[LightGBM] [Warning] feature_fraction is set=0.6092618720774687, colsample_bytree=1.0 will be ignored. Current value: feature_fraction=0.6092618720774687\n",
      "[LightGBM] [Warning] feature_fraction is set=0.6092618720774687, colsample_bytree=1.0 will be ignored. Current value: feature_fraction=0.6092618720774687\n",
      "[LightGBM] [Warning] feature_fraction is set=0.6092618720774687, colsample_bytree=1.0 will be ignored. Current value: feature_fraction=0.6092618720774687\n",
      "[LightGBM] [Warning] feature_fraction is set=0.6092618720774687, colsample_bytree=1.0 will be ignored. Current value: feature_fraction=0.6092618720774687\n"
     ]
    },
    {
     "name": "stderr",
     "output_type": "stream",
     "text": [
      "\u001b[32m[I 2022-03-18 18:38:42,071]\u001b[0m Trial 1 finished with values: [0.64154, 0.31996] and parameters: {'n_estimators': 140, 'learning_rate': 0.02257036133176424, 'num_leaves': 29, 'feature_fraction': 0.6092618720774687}. \u001b[0m\n"
     ]
    },
    {
     "name": "stdout",
     "output_type": "stream",
     "text": [
      "[LightGBM] [Warning] feature_fraction is set=0.9225336118380265, colsample_bytree=1.0 will be ignored. Current value: feature_fraction=0.9225336118380265\n",
      "[LightGBM] [Warning] feature_fraction is set=0.9225336118380265, colsample_bytree=1.0 will be ignored. Current value: feature_fraction=0.9225336118380265\n",
      "[LightGBM] [Warning] feature_fraction is set=0.9225336118380265, colsample_bytree=1.0 will be ignored. Current value: feature_fraction=0.9225336118380265\n",
      "[LightGBM] [Warning] feature_fraction is set=0.9225336118380265, colsample_bytree=1.0 will be ignored. Current value: feature_fraction=0.9225336118380265\n",
      "[LightGBM] [Warning] feature_fraction is set=0.9225336118380265, colsample_bytree=1.0 will be ignored. Current value: feature_fraction=0.9225336118380265\n",
      "[LightGBM] [Warning] feature_fraction is set=0.9225336118380265, colsample_bytree=1.0 will be ignored. Current value: feature_fraction=0.9225336118380265\n"
     ]
    },
    {
     "name": "stderr",
     "output_type": "stream",
     "text": [
      "\u001b[32m[I 2022-03-18 18:38:49,934]\u001b[0m Trial 2 finished with values: [0.63622, 0.31334] and parameters: {'n_estimators': 70, 'learning_rate': 0.1392736583197699, 'num_leaves': 132, 'feature_fraction': 0.9225336118380265}. \u001b[0m\n"
     ]
    },
    {
     "name": "stdout",
     "output_type": "stream",
     "text": [
      "[LightGBM] [Warning] feature_fraction is set=0.9271853710239897, colsample_bytree=1.0 will be ignored. Current value: feature_fraction=0.9271853710239897\n",
      "[LightGBM] [Warning] feature_fraction is set=0.9271853710239897, colsample_bytree=1.0 will be ignored. Current value: feature_fraction=0.9271853710239897\n",
      "[LightGBM] [Warning] feature_fraction is set=0.9271853710239897, colsample_bytree=1.0 will be ignored. Current value: feature_fraction=0.9271853710239897\n",
      "[LightGBM] [Warning] feature_fraction is set=0.9271853710239897, colsample_bytree=1.0 will be ignored. Current value: feature_fraction=0.9271853710239897\n",
      "[LightGBM] [Warning] feature_fraction is set=0.9271853710239897, colsample_bytree=1.0 will be ignored. Current value: feature_fraction=0.9271853710239897\n",
      "[LightGBM] [Warning] feature_fraction is set=0.9271853710239897, colsample_bytree=1.0 will be ignored. Current value: feature_fraction=0.9271853710239897\n"
     ]
    },
    {
     "name": "stderr",
     "output_type": "stream",
     "text": [
      "\u001b[32m[I 2022-03-18 18:39:02,196]\u001b[0m Trial 3 finished with values: [0.6284, 0.30298] and parameters: {'n_estimators': 320, 'learning_rate': 0.228863224238406, 'num_leaves': 34, 'feature_fraction': 0.9271853710239897}. \u001b[0m\n"
     ]
    },
    {
     "name": "stdout",
     "output_type": "stream",
     "text": [
      "[LightGBM] [Warning] feature_fraction is set=0.6640916429392361, colsample_bytree=1.0 will be ignored. Current value: feature_fraction=0.6640916429392361\n",
      "[LightGBM] [Warning] feature_fraction is set=0.6640916429392361, colsample_bytree=1.0 will be ignored. Current value: feature_fraction=0.6640916429392361\n",
      "[LightGBM] [Warning] feature_fraction is set=0.6640916429392361, colsample_bytree=1.0 will be ignored. Current value: feature_fraction=0.6640916429392361\n",
      "[LightGBM] [Warning] feature_fraction is set=0.6640916429392361, colsample_bytree=1.0 will be ignored. Current value: feature_fraction=0.6640916429392361\n",
      "[LightGBM] [Warning] feature_fraction is set=0.6640916429392361, colsample_bytree=1.0 will be ignored. Current value: feature_fraction=0.6640916429392361\n",
      "[LightGBM] [Warning] feature_fraction is set=0.6640916429392361, colsample_bytree=1.0 will be ignored. Current value: feature_fraction=0.6640916429392361\n"
     ]
    },
    {
     "name": "stderr",
     "output_type": "stream",
     "text": [
      "\u001b[32m[I 2022-03-18 18:39:07,805]\u001b[0m Trial 4 finished with values: [0.64298, 0.32009] and parameters: {'n_estimators': 110, 'learning_rate': 0.2356672518950095, 'num_leaves': 9, 'feature_fraction': 0.6640916429392361}. \u001b[0m\n"
     ]
    },
    {
     "name": "stdout",
     "output_type": "stream",
     "text": [
      "[LightGBM] [Warning] feature_fraction is set=0.5224754913800768, colsample_bytree=1.0 will be ignored. Current value: feature_fraction=0.5224754913800768\n",
      "[LightGBM] [Warning] feature_fraction is set=0.5224754913800768, colsample_bytree=1.0 will be ignored. Current value: feature_fraction=0.5224754913800768\n",
      "[LightGBM] [Warning] feature_fraction is set=0.5224754913800768, colsample_bytree=1.0 will be ignored. Current value: feature_fraction=0.5224754913800768\n",
      "[LightGBM] [Warning] feature_fraction is set=0.5224754913800768, colsample_bytree=1.0 will be ignored. Current value: feature_fraction=0.5224754913800768\n",
      "[LightGBM] [Warning] feature_fraction is set=0.5224754913800768, colsample_bytree=1.0 will be ignored. Current value: feature_fraction=0.5224754913800768\n",
      "[LightGBM] [Warning] feature_fraction is set=0.5224754913800768, colsample_bytree=1.0 will be ignored. Current value: feature_fraction=0.5224754913800768\n"
     ]
    },
    {
     "name": "stderr",
     "output_type": "stream",
     "text": [
      "\u001b[32m[I 2022-03-18 18:39:25,186]\u001b[0m Trial 5 finished with values: [0.61652, 0.29475] and parameters: {'n_estimators': 170, 'learning_rate': 0.24369218165609657, 'num_leaves': 143, 'feature_fraction': 0.5224754913800768}. \u001b[0m\n"
     ]
    },
    {
     "name": "stdout",
     "output_type": "stream",
     "text": [
      "[LightGBM] [Warning] feature_fraction is set=0.9725803919764581, colsample_bytree=1.0 will be ignored. Current value: feature_fraction=0.9725803919764581\n",
      "[LightGBM] [Warning] feature_fraction is set=0.9725803919764581, colsample_bytree=1.0 will be ignored. Current value: feature_fraction=0.9725803919764581\n",
      "[LightGBM] [Warning] feature_fraction is set=0.9725803919764581, colsample_bytree=1.0 will be ignored. Current value: feature_fraction=0.9725803919764581\n",
      "[LightGBM] [Warning] feature_fraction is set=0.9725803919764581, colsample_bytree=1.0 will be ignored. Current value: feature_fraction=0.9725803919764581\n",
      "[LightGBM] [Warning] feature_fraction is set=0.9725803919764581, colsample_bytree=1.0 will be ignored. Current value: feature_fraction=0.9725803919764581\n",
      "[LightGBM] [Warning] feature_fraction is set=0.9725803919764581, colsample_bytree=1.0 will be ignored. Current value: feature_fraction=0.9725803919764581\n"
     ]
    },
    {
     "name": "stderr",
     "output_type": "stream",
     "text": [
      "\u001b[32m[I 2022-03-18 18:39:29,706]\u001b[0m Trial 6 finished with values: [0.63663, 0.31242] and parameters: {'n_estimators': 30, 'learning_rate': 0.2094425212161087, 'num_leaves': 97, 'feature_fraction': 0.9725803919764581}. \u001b[0m\n"
     ]
    },
    {
     "name": "stdout",
     "output_type": "stream",
     "text": [
      "[LightGBM] [Warning] feature_fraction is set=0.6741292807514625, colsample_bytree=1.0 will be ignored. Current value: feature_fraction=0.6741292807514625\n",
      "[LightGBM] [Warning] feature_fraction is set=0.6741292807514625, colsample_bytree=1.0 will be ignored. Current value: feature_fraction=0.6741292807514625\n",
      "[LightGBM] [Warning] feature_fraction is set=0.6741292807514625, colsample_bytree=1.0 will be ignored. Current value: feature_fraction=0.6741292807514625\n",
      "[LightGBM] [Warning] feature_fraction is set=0.6741292807514625, colsample_bytree=1.0 will be ignored. Current value: feature_fraction=0.6741292807514625\n",
      "[LightGBM] [Warning] feature_fraction is set=0.6741292807514625, colsample_bytree=1.0 will be ignored. Current value: feature_fraction=0.6741292807514625\n",
      "[LightGBM] [Warning] feature_fraction is set=0.6741292807514625, colsample_bytree=1.0 will be ignored. Current value: feature_fraction=0.6741292807514625\n"
     ]
    },
    {
     "name": "stderr",
     "output_type": "stream",
     "text": [
      "\u001b[32m[I 2022-03-18 18:40:10,498]\u001b[0m Trial 7 finished with values: [0.60447, 0.28657] and parameters: {'n_estimators': 500, 'learning_rate': 0.20097600725566864, 'num_leaves': 218, 'feature_fraction': 0.6741292807514625}. \u001b[0m\n"
     ]
    },
    {
     "name": "stdout",
     "output_type": "stream",
     "text": [
      "[LightGBM] [Warning] feature_fraction is set=0.5385451578213633, colsample_bytree=1.0 will be ignored. Current value: feature_fraction=0.5385451578213633\n",
      "[LightGBM] [Warning] feature_fraction is set=0.5385451578213633, colsample_bytree=1.0 will be ignored. Current value: feature_fraction=0.5385451578213633\n",
      "[LightGBM] [Warning] feature_fraction is set=0.5385451578213633, colsample_bytree=1.0 will be ignored. Current value: feature_fraction=0.5385451578213633\n",
      "[LightGBM] [Warning] feature_fraction is set=0.5385451578213633, colsample_bytree=1.0 will be ignored. Current value: feature_fraction=0.5385451578213633\n",
      "[LightGBM] [Warning] feature_fraction is set=0.5385451578213633, colsample_bytree=1.0 will be ignored. Current value: feature_fraction=0.5385451578213633\n",
      "[LightGBM] [Warning] feature_fraction is set=0.5385451578213633, colsample_bytree=1.0 will be ignored. Current value: feature_fraction=0.5385451578213633\n"
     ]
    },
    {
     "name": "stderr",
     "output_type": "stream",
     "text": [
      "\u001b[32m[I 2022-03-18 18:40:30,991]\u001b[0m Trial 8 finished with values: [0.61212, 0.29158] and parameters: {'n_estimators': 160, 'learning_rate': 0.2265243986179335, 'num_leaves': 250, 'feature_fraction': 0.5385451578213633}. \u001b[0m\n"
     ]
    },
    {
     "name": "stdout",
     "output_type": "stream",
     "text": [
      "[LightGBM] [Warning] feature_fraction is set=0.6930433905619672, colsample_bytree=1.0 will be ignored. Current value: feature_fraction=0.6930433905619672\n",
      "[LightGBM] [Warning] feature_fraction is set=0.6930433905619672, colsample_bytree=1.0 will be ignored. Current value: feature_fraction=0.6930433905619672\n",
      "[LightGBM] [Warning] feature_fraction is set=0.6930433905619672, colsample_bytree=1.0 will be ignored. Current value: feature_fraction=0.6930433905619672\n",
      "[LightGBM] [Warning] feature_fraction is set=0.6930433905619672, colsample_bytree=1.0 will be ignored. Current value: feature_fraction=0.6930433905619672\n",
      "[LightGBM] [Warning] feature_fraction is set=0.6930433905619672, colsample_bytree=1.0 will be ignored. Current value: feature_fraction=0.6930433905619672\n",
      "[LightGBM] [Warning] feature_fraction is set=0.6930433905619672, colsample_bytree=1.0 will be ignored. Current value: feature_fraction=0.6930433905619672\n"
     ]
    },
    {
     "name": "stderr",
     "output_type": "stream",
     "text": [
      "\u001b[32m[I 2022-03-18 18:40:47,123]\u001b[0m Trial 9 finished with values: [0.64067, 0.31814] and parameters: {'n_estimators': 190, 'learning_rate': 0.06382468931140207, 'num_leaves': 128, 'feature_fraction': 0.6930433905619672}. \u001b[0m\n"
     ]
    },
    {
     "name": "stdout",
     "output_type": "stream",
     "text": [
      "[LightGBM] [Warning] feature_fraction is set=0.49779431073906555, colsample_bytree=1.0 will be ignored. Current value: feature_fraction=0.49779431073906555\n",
      "[LightGBM] [Warning] feature_fraction is set=0.49779431073906555, colsample_bytree=1.0 will be ignored. Current value: feature_fraction=0.49779431073906555\n",
      "[LightGBM] [Warning] feature_fraction is set=0.49779431073906555, colsample_bytree=1.0 will be ignored. Current value: feature_fraction=0.49779431073906555\n",
      "[LightGBM] [Warning] feature_fraction is set=0.49779431073906555, colsample_bytree=1.0 will be ignored. Current value: feature_fraction=0.49779431073906555\n",
      "[LightGBM] [Warning] feature_fraction is set=0.49779431073906555, colsample_bytree=1.0 will be ignored. Current value: feature_fraction=0.49779431073906555\n",
      "[LightGBM] [Warning] feature_fraction is set=0.49779431073906555, colsample_bytree=1.0 will be ignored. Current value: feature_fraction=0.49779431073906555\n"
     ]
    },
    {
     "name": "stderr",
     "output_type": "stream",
     "text": [
      "\u001b[32m[I 2022-03-18 18:41:20,637]\u001b[0m Trial 10 finished with values: [0.60991, 0.29151] and parameters: {'n_estimators': 470, 'learning_rate': 0.19021548075616207, 'num_leaves': 148, 'feature_fraction': 0.49779431073906555}. \u001b[0m\n"
     ]
    },
    {
     "name": "stdout",
     "output_type": "stream",
     "text": [
      "[LightGBM] [Warning] feature_fraction is set=0.8368814559115352, colsample_bytree=1.0 will be ignored. Current value: feature_fraction=0.8368814559115352\n",
      "[LightGBM] [Warning] feature_fraction is set=0.8368814559115352, colsample_bytree=1.0 will be ignored. Current value: feature_fraction=0.8368814559115352\n",
      "[LightGBM] [Warning] feature_fraction is set=0.8368814559115352, colsample_bytree=1.0 will be ignored. Current value: feature_fraction=0.8368814559115352\n",
      "[LightGBM] [Warning] feature_fraction is set=0.8368814559115352, colsample_bytree=1.0 will be ignored. Current value: feature_fraction=0.8368814559115352\n",
      "[LightGBM] [Warning] feature_fraction is set=0.8368814559115352, colsample_bytree=1.0 will be ignored. Current value: feature_fraction=0.8368814559115352\n",
      "[LightGBM] [Warning] feature_fraction is set=0.8368814559115352, colsample_bytree=1.0 will be ignored. Current value: feature_fraction=0.8368814559115352\n"
     ]
    },
    {
     "name": "stderr",
     "output_type": "stream",
     "text": [
      "\u001b[32m[I 2022-03-18 18:41:41,631]\u001b[0m Trial 11 finished with values: [0.60868, 0.28925] and parameters: {'n_estimators': 240, 'learning_rate': 0.2160701669181066, 'num_leaves': 213, 'feature_fraction': 0.8368814559115352}. \u001b[0m\n"
     ]
    },
    {
     "name": "stdout",
     "output_type": "stream",
     "text": [
      "[LightGBM] [Warning] feature_fraction is set=0.4345769955639375, colsample_bytree=1.0 will be ignored. Current value: feature_fraction=0.4345769955639375\n",
      "[LightGBM] [Warning] feature_fraction is set=0.4345769955639375, colsample_bytree=1.0 will be ignored. Current value: feature_fraction=0.4345769955639375\n",
      "[LightGBM] [Warning] feature_fraction is set=0.4345769955639375, colsample_bytree=1.0 will be ignored. Current value: feature_fraction=0.4345769955639375\n",
      "[LightGBM] [Warning] feature_fraction is set=0.4345769955639375, colsample_bytree=1.0 will be ignored. Current value: feature_fraction=0.4345769955639375\n",
      "[LightGBM] [Warning] feature_fraction is set=0.4345769955639375, colsample_bytree=1.0 will be ignored. Current value: feature_fraction=0.4345769955639375\n",
      "[LightGBM] [Warning] feature_fraction is set=0.4345769955639375, colsample_bytree=1.0 will be ignored. Current value: feature_fraction=0.4345769955639375\n"
     ]
    },
    {
     "name": "stderr",
     "output_type": "stream",
     "text": [
      "\u001b[32m[I 2022-03-18 18:41:51,902]\u001b[0m Trial 12 finished with values: [0.62263, 0.29808] and parameters: {'n_estimators': 180, 'learning_rate': 0.29954517391445185, 'num_leaves': 59, 'feature_fraction': 0.4345769955639375}. \u001b[0m\n"
     ]
    },
    {
     "name": "stdout",
     "output_type": "stream",
     "text": [
      "[LightGBM] [Warning] feature_fraction is set=0.5518114634822708, colsample_bytree=1.0 will be ignored. Current value: feature_fraction=0.5518114634822708\n",
      "[LightGBM] [Warning] feature_fraction is set=0.5518114634822708, colsample_bytree=1.0 will be ignored. Current value: feature_fraction=0.5518114634822708\n",
      "[LightGBM] [Warning] feature_fraction is set=0.5518114634822708, colsample_bytree=1.0 will be ignored. Current value: feature_fraction=0.5518114634822708\n",
      "[LightGBM] [Warning] feature_fraction is set=0.5518114634822708, colsample_bytree=1.0 will be ignored. Current value: feature_fraction=0.5518114634822708\n",
      "[LightGBM] [Warning] feature_fraction is set=0.5518114634822708, colsample_bytree=1.0 will be ignored. Current value: feature_fraction=0.5518114634822708\n",
      "[LightGBM] [Warning] feature_fraction is set=0.5518114634822708, colsample_bytree=1.0 will be ignored. Current value: feature_fraction=0.5518114634822708\n"
     ]
    },
    {
     "name": "stderr",
     "output_type": "stream",
     "text": [
      "\u001b[32m[I 2022-03-18 18:41:59,470]\u001b[0m Trial 13 finished with values: [0.64381, 0.32091] and parameters: {'n_estimators': 130, 'learning_rate': 0.12913914177140604, 'num_leaves': 23, 'feature_fraction': 0.5518114634822708}. \u001b[0m\n"
     ]
    },
    {
     "name": "stdout",
     "output_type": "stream",
     "text": [
      "[LightGBM] [Warning] feature_fraction is set=0.4058952599747334, colsample_bytree=1.0 will be ignored. Current value: feature_fraction=0.4058952599747334\n",
      "[LightGBM] [Warning] feature_fraction is set=0.4058952599747334, colsample_bytree=1.0 will be ignored. Current value: feature_fraction=0.4058952599747334\n",
      "[LightGBM] [Warning] feature_fraction is set=0.4058952599747334, colsample_bytree=1.0 will be ignored. Current value: feature_fraction=0.4058952599747334\n",
      "[LightGBM] [Warning] feature_fraction is set=0.4058952599747334, colsample_bytree=1.0 will be ignored. Current value: feature_fraction=0.4058952599747334\n",
      "[LightGBM] [Warning] feature_fraction is set=0.4058952599747334, colsample_bytree=1.0 will be ignored. Current value: feature_fraction=0.4058952599747334\n",
      "[LightGBM] [Warning] feature_fraction is set=0.4058952599747334, colsample_bytree=1.0 will be ignored. Current value: feature_fraction=0.4058952599747334\n"
     ]
    },
    {
     "name": "stderr",
     "output_type": "stream",
     "text": [
      "\u001b[32m[I 2022-03-18 18:42:21,548]\u001b[0m Trial 14 finished with values: [0.63718, 0.31424] and parameters: {'n_estimators': 230, 'learning_rate': 0.0626515898822286, 'num_leaves': 207, 'feature_fraction': 0.4058952599747334}. \u001b[0m\n"
     ]
    },
    {
     "name": "stdout",
     "output_type": "stream",
     "text": [
      "[LightGBM] [Warning] feature_fraction is set=0.5364474793944889, colsample_bytree=1.0 will be ignored. Current value: feature_fraction=0.5364474793944889\n",
      "[LightGBM] [Warning] feature_fraction is set=0.5364474793944889, colsample_bytree=1.0 will be ignored. Current value: feature_fraction=0.5364474793944889\n",
      "[LightGBM] [Warning] feature_fraction is set=0.5364474793944889, colsample_bytree=1.0 will be ignored. Current value: feature_fraction=0.5364474793944889\n",
      "[LightGBM] [Warning] feature_fraction is set=0.5364474793944889, colsample_bytree=1.0 will be ignored. Current value: feature_fraction=0.5364474793944889\n",
      "[LightGBM] [Warning] feature_fraction is set=0.5364474793944889, colsample_bytree=1.0 will be ignored. Current value: feature_fraction=0.5364474793944889\n",
      "[LightGBM] [Warning] feature_fraction is set=0.5364474793944889, colsample_bytree=1.0 will be ignored. Current value: feature_fraction=0.5364474793944889\n"
     ]
    },
    {
     "name": "stderr",
     "output_type": "stream",
     "text": [
      "\u001b[32m[I 2022-03-18 18:42:52,255]\u001b[0m Trial 15 finished with values: [0.60174, 0.28215] and parameters: {'n_estimators': 420, 'learning_rate': 0.27812426052684175, 'num_leaves': 138, 'feature_fraction': 0.5364474793944889}. \u001b[0m\n"
     ]
    },
    {
     "name": "stdout",
     "output_type": "stream",
     "text": [
      "[LightGBM] [Warning] feature_fraction is set=0.40478436070410484, colsample_bytree=1.0 will be ignored. Current value: feature_fraction=0.40478436070410484\n",
      "[LightGBM] [Warning] feature_fraction is set=0.40478436070410484, colsample_bytree=1.0 will be ignored. Current value: feature_fraction=0.40478436070410484\n",
      "[LightGBM] [Warning] feature_fraction is set=0.40478436070410484, colsample_bytree=1.0 will be ignored. Current value: feature_fraction=0.40478436070410484\n",
      "[LightGBM] [Warning] feature_fraction is set=0.40478436070410484, colsample_bytree=1.0 will be ignored. Current value: feature_fraction=0.40478436070410484\n",
      "[LightGBM] [Warning] feature_fraction is set=0.40478436070410484, colsample_bytree=1.0 will be ignored. Current value: feature_fraction=0.40478436070410484\n",
      "[LightGBM] [Warning] feature_fraction is set=0.40478436070410484, colsample_bytree=1.0 will be ignored. Current value: feature_fraction=0.40478436070410484\n"
     ]
    },
    {
     "name": "stderr",
     "output_type": "stream",
     "text": [
      "\u001b[32m[I 2022-03-18 18:43:08,832]\u001b[0m Trial 16 finished with values: [0.63426, 0.30848] and parameters: {'n_estimators': 350, 'learning_rate': 0.23686568503532454, 'num_leaves': 21, 'feature_fraction': 0.40478436070410484}. \u001b[0m\n"
     ]
    },
    {
     "name": "stdout",
     "output_type": "stream",
     "text": [
      "[LightGBM] [Warning] feature_fraction is set=0.7043269660280804, colsample_bytree=1.0 will be ignored. Current value: feature_fraction=0.7043269660280804\n",
      "[LightGBM] [Warning] feature_fraction is set=0.7043269660280804, colsample_bytree=1.0 will be ignored. Current value: feature_fraction=0.7043269660280804\n",
      "[LightGBM] [Warning] feature_fraction is set=0.7043269660280804, colsample_bytree=1.0 will be ignored. Current value: feature_fraction=0.7043269660280804\n",
      "[LightGBM] [Warning] feature_fraction is set=0.7043269660280804, colsample_bytree=1.0 will be ignored. Current value: feature_fraction=0.7043269660280804\n",
      "[LightGBM] [Warning] feature_fraction is set=0.7043269660280804, colsample_bytree=1.0 will be ignored. Current value: feature_fraction=0.7043269660280804\n",
      "[LightGBM] [Warning] feature_fraction is set=0.7043269660280804, colsample_bytree=1.0 will be ignored. Current value: feature_fraction=0.7043269660280804\n"
     ]
    },
    {
     "name": "stderr",
     "output_type": "stream",
     "text": [
      "\u001b[32m[I 2022-03-18 18:43:18,321]\u001b[0m Trial 17 finished with values: [0.63966, 0.31695] and parameters: {'n_estimators': 100, 'learning_rate': 0.11175146890804553, 'num_leaves': 109, 'feature_fraction': 0.7043269660280804}. \u001b[0m\n"
     ]
    },
    {
     "name": "stdout",
     "output_type": "stream",
     "text": [
      "Number of finished trials:  18\n"
     ]
    },
    {
     "name": "stderr",
     "output_type": "stream",
     "text": [
      "/Users/anilkumarpanda/SoftwareInstalls/anaconda/envs/ml_course/lib/python3.6/site-packages/ipykernel_launcher.py:8: ExperimentalWarning:\n",
      "\n",
      "plot_pareto_front is experimental (supported from v2.4.0). The interface can change in the future.\n",
      "\n"
     ]
    },
    {
     "data": {
      "application/vnd.plotly.v1+json": {
       "config": {
        "plotlyServerURL": "https://plot.ly"
       },
       "data": [
        {
         "hovertemplate": "%{text}<extra>Trial</extra>",
         "mode": "markers",
         "name": "Trial",
         "text": [
          "{<br>  \"number\": 0,<br>  \"values\": [<br>    0.63635,<br>    0.31246<br>  ],<br>  \"params\": {<br>    \"n_estimators\": 210,<br>    \"learning_rate\": 0.14128983585199908,<br>    \"num_leaves\": 72,<br>    \"feature_fraction\": 0.42292595516341336<br>  }<br>}",
          "{<br>  \"number\": 1,<br>  \"values\": [<br>    0.64154,<br>    0.31996<br>  ],<br>  \"params\": {<br>    \"n_estimators\": 140,<br>    \"learning_rate\": 0.02257036133176424,<br>    \"num_leaves\": 29,<br>    \"feature_fraction\": 0.6092618720774687<br>  }<br>}",
          "{<br>  \"number\": 2,<br>  \"values\": [<br>    0.63622,<br>    0.31334<br>  ],<br>  \"params\": {<br>    \"n_estimators\": 70,<br>    \"learning_rate\": 0.1392736583197699,<br>    \"num_leaves\": 132,<br>    \"feature_fraction\": 0.9225336118380265<br>  }<br>}",
          "{<br>  \"number\": 3,<br>  \"values\": [<br>    0.6284,<br>    0.30298<br>  ],<br>  \"params\": {<br>    \"n_estimators\": 320,<br>    \"learning_rate\": 0.228863224238406,<br>    \"num_leaves\": 34,<br>    \"feature_fraction\": 0.9271853710239897<br>  }<br>}",
          "{<br>  \"number\": 4,<br>  \"values\": [<br>    0.64298,<br>    0.32009<br>  ],<br>  \"params\": {<br>    \"n_estimators\": 110,<br>    \"learning_rate\": 0.2356672518950095,<br>    \"num_leaves\": 9,<br>    \"feature_fraction\": 0.6640916429392361<br>  }<br>}",
          "{<br>  \"number\": 5,<br>  \"values\": [<br>    0.61652,<br>    0.29475<br>  ],<br>  \"params\": {<br>    \"n_estimators\": 170,<br>    \"learning_rate\": 0.24369218165609657,<br>    \"num_leaves\": 143,<br>    \"feature_fraction\": 0.5224754913800768<br>  }<br>}",
          "{<br>  \"number\": 6,<br>  \"values\": [<br>    0.63663,<br>    0.31242<br>  ],<br>  \"params\": {<br>    \"n_estimators\": 30,<br>    \"learning_rate\": 0.2094425212161087,<br>    \"num_leaves\": 97,<br>    \"feature_fraction\": 0.9725803919764581<br>  }<br>}",
          "{<br>  \"number\": 7,<br>  \"values\": [<br>    0.60447,<br>    0.28657<br>  ],<br>  \"params\": {<br>    \"n_estimators\": 500,<br>    \"learning_rate\": 0.20097600725566864,<br>    \"num_leaves\": 218,<br>    \"feature_fraction\": 0.6741292807514625<br>  }<br>}",
          "{<br>  \"number\": 8,<br>  \"values\": [<br>    0.61212,<br>    0.29158<br>  ],<br>  \"params\": {<br>    \"n_estimators\": 160,<br>    \"learning_rate\": 0.2265243986179335,<br>    \"num_leaves\": 250,<br>    \"feature_fraction\": 0.5385451578213633<br>  }<br>}",
          "{<br>  \"number\": 9,<br>  \"values\": [<br>    0.64067,<br>    0.31814<br>  ],<br>  \"params\": {<br>    \"n_estimators\": 190,<br>    \"learning_rate\": 0.06382468931140207,<br>    \"num_leaves\": 128,<br>    \"feature_fraction\": 0.6930433905619672<br>  }<br>}",
          "{<br>  \"number\": 10,<br>  \"values\": [<br>    0.60991,<br>    0.29151<br>  ],<br>  \"params\": {<br>    \"n_estimators\": 470,<br>    \"learning_rate\": 0.19021548075616207,<br>    \"num_leaves\": 148,<br>    \"feature_fraction\": 0.49779431073906555<br>  }<br>}",
          "{<br>  \"number\": 11,<br>  \"values\": [<br>    0.60868,<br>    0.28925<br>  ],<br>  \"params\": {<br>    \"n_estimators\": 240,<br>    \"learning_rate\": 0.2160701669181066,<br>    \"num_leaves\": 213,<br>    \"feature_fraction\": 0.8368814559115352<br>  }<br>}",
          "{<br>  \"number\": 12,<br>  \"values\": [<br>    0.62263,<br>    0.29808<br>  ],<br>  \"params\": {<br>    \"n_estimators\": 180,<br>    \"learning_rate\": 0.29954517391445185,<br>    \"num_leaves\": 59,<br>    \"feature_fraction\": 0.4345769955639375<br>  }<br>}",
          "{<br>  \"number\": 14,<br>  \"values\": [<br>    0.63718,<br>    0.31424<br>  ],<br>  \"params\": {<br>    \"n_estimators\": 230,<br>    \"learning_rate\": 0.0626515898822286,<br>    \"num_leaves\": 207,<br>    \"feature_fraction\": 0.4058952599747334<br>  }<br>}",
          "{<br>  \"number\": 15,<br>  \"values\": [<br>    0.60174,<br>    0.28215<br>  ],<br>  \"params\": {<br>    \"n_estimators\": 420,<br>    \"learning_rate\": 0.27812426052684175,<br>    \"num_leaves\": 138,<br>    \"feature_fraction\": 0.5364474793944889<br>  }<br>}",
          "{<br>  \"number\": 16,<br>  \"values\": [<br>    0.63426,<br>    0.30848<br>  ],<br>  \"params\": {<br>    \"n_estimators\": 350,<br>    \"learning_rate\": 0.23686568503532454,<br>    \"num_leaves\": 21,<br>    \"feature_fraction\": 0.40478436070410484<br>  }<br>}",
          "{<br>  \"number\": 17,<br>  \"values\": [<br>    0.63966,<br>    0.31695<br>  ],<br>  \"params\": {<br>    \"n_estimators\": 100,<br>    \"learning_rate\": 0.11175146890804553,<br>    \"num_leaves\": 109,<br>    \"feature_fraction\": 0.7043269660280804<br>  }<br>}"
         ],
         "type": "scatter",
         "x": [
          0.63635,
          0.64154,
          0.63622,
          0.6284,
          0.64298,
          0.61652,
          0.63663,
          0.60447,
          0.61212,
          0.64067,
          0.60991,
          0.60868,
          0.62263,
          0.63718,
          0.60174,
          0.63426,
          0.63966
         ],
         "y": [
          0.31246,
          0.31996,
          0.31334,
          0.30298,
          0.32009,
          0.29475,
          0.31242,
          0.28657,
          0.29158,
          0.31814,
          0.29151,
          0.28925,
          0.29808,
          0.31424,
          0.28215,
          0.30848,
          0.31695
         ]
        },
        {
         "hovertemplate": "%{text}<extra>Best Trial</extra>",
         "mode": "markers",
         "name": "Best Trial",
         "text": [
          "{<br>  \"number\": 13,<br>  \"values\": [<br>    0.64381,<br>    0.32091<br>  ],<br>  \"params\": {<br>    \"n_estimators\": 130,<br>    \"learning_rate\": 0.12913914177140604,<br>    \"num_leaves\": 23,<br>    \"feature_fraction\": 0.5518114634822708<br>  }<br>}"
         ],
         "type": "scatter",
         "x": [
          0.64381
         ],
         "y": [
          0.32091
         ]
        }
       ],
       "layout": {
        "template": {
         "data": {
          "bar": [
           {
            "error_x": {
             "color": "#2a3f5f"
            },
            "error_y": {
             "color": "#2a3f5f"
            },
            "marker": {
             "line": {
              "color": "#E5ECF6",
              "width": 0.5
             }
            },
            "type": "bar"
           }
          ],
          "barpolar": [
           {
            "marker": {
             "line": {
              "color": "#E5ECF6",
              "width": 0.5
             }
            },
            "type": "barpolar"
           }
          ],
          "carpet": [
           {
            "aaxis": {
             "endlinecolor": "#2a3f5f",
             "gridcolor": "white",
             "linecolor": "white",
             "minorgridcolor": "white",
             "startlinecolor": "#2a3f5f"
            },
            "baxis": {
             "endlinecolor": "#2a3f5f",
             "gridcolor": "white",
             "linecolor": "white",
             "minorgridcolor": "white",
             "startlinecolor": "#2a3f5f"
            },
            "type": "carpet"
           }
          ],
          "choropleth": [
           {
            "colorbar": {
             "outlinewidth": 0,
             "ticks": ""
            },
            "type": "choropleth"
           }
          ],
          "contour": [
           {
            "colorbar": {
             "outlinewidth": 0,
             "ticks": ""
            },
            "colorscale": [
             [
              0,
              "#0d0887"
             ],
             [
              0.1111111111111111,
              "#46039f"
             ],
             [
              0.2222222222222222,
              "#7201a8"
             ],
             [
              0.3333333333333333,
              "#9c179e"
             ],
             [
              0.4444444444444444,
              "#bd3786"
             ],
             [
              0.5555555555555556,
              "#d8576b"
             ],
             [
              0.6666666666666666,
              "#ed7953"
             ],
             [
              0.7777777777777778,
              "#fb9f3a"
             ],
             [
              0.8888888888888888,
              "#fdca26"
             ],
             [
              1,
              "#f0f921"
             ]
            ],
            "type": "contour"
           }
          ],
          "contourcarpet": [
           {
            "colorbar": {
             "outlinewidth": 0,
             "ticks": ""
            },
            "type": "contourcarpet"
           }
          ],
          "heatmap": [
           {
            "colorbar": {
             "outlinewidth": 0,
             "ticks": ""
            },
            "colorscale": [
             [
              0,
              "#0d0887"
             ],
             [
              0.1111111111111111,
              "#46039f"
             ],
             [
              0.2222222222222222,
              "#7201a8"
             ],
             [
              0.3333333333333333,
              "#9c179e"
             ],
             [
              0.4444444444444444,
              "#bd3786"
             ],
             [
              0.5555555555555556,
              "#d8576b"
             ],
             [
              0.6666666666666666,
              "#ed7953"
             ],
             [
              0.7777777777777778,
              "#fb9f3a"
             ],
             [
              0.8888888888888888,
              "#fdca26"
             ],
             [
              1,
              "#f0f921"
             ]
            ],
            "type": "heatmap"
           }
          ],
          "heatmapgl": [
           {
            "colorbar": {
             "outlinewidth": 0,
             "ticks": ""
            },
            "colorscale": [
             [
              0,
              "#0d0887"
             ],
             [
              0.1111111111111111,
              "#46039f"
             ],
             [
              0.2222222222222222,
              "#7201a8"
             ],
             [
              0.3333333333333333,
              "#9c179e"
             ],
             [
              0.4444444444444444,
              "#bd3786"
             ],
             [
              0.5555555555555556,
              "#d8576b"
             ],
             [
              0.6666666666666666,
              "#ed7953"
             ],
             [
              0.7777777777777778,
              "#fb9f3a"
             ],
             [
              0.8888888888888888,
              "#fdca26"
             ],
             [
              1,
              "#f0f921"
             ]
            ],
            "type": "heatmapgl"
           }
          ],
          "histogram": [
           {
            "marker": {
             "colorbar": {
              "outlinewidth": 0,
              "ticks": ""
             }
            },
            "type": "histogram"
           }
          ],
          "histogram2d": [
           {
            "colorbar": {
             "outlinewidth": 0,
             "ticks": ""
            },
            "colorscale": [
             [
              0,
              "#0d0887"
             ],
             [
              0.1111111111111111,
              "#46039f"
             ],
             [
              0.2222222222222222,
              "#7201a8"
             ],
             [
              0.3333333333333333,
              "#9c179e"
             ],
             [
              0.4444444444444444,
              "#bd3786"
             ],
             [
              0.5555555555555556,
              "#d8576b"
             ],
             [
              0.6666666666666666,
              "#ed7953"
             ],
             [
              0.7777777777777778,
              "#fb9f3a"
             ],
             [
              0.8888888888888888,
              "#fdca26"
             ],
             [
              1,
              "#f0f921"
             ]
            ],
            "type": "histogram2d"
           }
          ],
          "histogram2dcontour": [
           {
            "colorbar": {
             "outlinewidth": 0,
             "ticks": ""
            },
            "colorscale": [
             [
              0,
              "#0d0887"
             ],
             [
              0.1111111111111111,
              "#46039f"
             ],
             [
              0.2222222222222222,
              "#7201a8"
             ],
             [
              0.3333333333333333,
              "#9c179e"
             ],
             [
              0.4444444444444444,
              "#bd3786"
             ],
             [
              0.5555555555555556,
              "#d8576b"
             ],
             [
              0.6666666666666666,
              "#ed7953"
             ],
             [
              0.7777777777777778,
              "#fb9f3a"
             ],
             [
              0.8888888888888888,
              "#fdca26"
             ],
             [
              1,
              "#f0f921"
             ]
            ],
            "type": "histogram2dcontour"
           }
          ],
          "mesh3d": [
           {
            "colorbar": {
             "outlinewidth": 0,
             "ticks": ""
            },
            "type": "mesh3d"
           }
          ],
          "parcoords": [
           {
            "line": {
             "colorbar": {
              "outlinewidth": 0,
              "ticks": ""
             }
            },
            "type": "parcoords"
           }
          ],
          "pie": [
           {
            "automargin": true,
            "type": "pie"
           }
          ],
          "scatter": [
           {
            "marker": {
             "colorbar": {
              "outlinewidth": 0,
              "ticks": ""
             }
            },
            "type": "scatter"
           }
          ],
          "scatter3d": [
           {
            "line": {
             "colorbar": {
              "outlinewidth": 0,
              "ticks": ""
             }
            },
            "marker": {
             "colorbar": {
              "outlinewidth": 0,
              "ticks": ""
             }
            },
            "type": "scatter3d"
           }
          ],
          "scattercarpet": [
           {
            "marker": {
             "colorbar": {
              "outlinewidth": 0,
              "ticks": ""
             }
            },
            "type": "scattercarpet"
           }
          ],
          "scattergeo": [
           {
            "marker": {
             "colorbar": {
              "outlinewidth": 0,
              "ticks": ""
             }
            },
            "type": "scattergeo"
           }
          ],
          "scattergl": [
           {
            "marker": {
             "colorbar": {
              "outlinewidth": 0,
              "ticks": ""
             }
            },
            "type": "scattergl"
           }
          ],
          "scattermapbox": [
           {
            "marker": {
             "colorbar": {
              "outlinewidth": 0,
              "ticks": ""
             }
            },
            "type": "scattermapbox"
           }
          ],
          "scatterpolar": [
           {
            "marker": {
             "colorbar": {
              "outlinewidth": 0,
              "ticks": ""
             }
            },
            "type": "scatterpolar"
           }
          ],
          "scatterpolargl": [
           {
            "marker": {
             "colorbar": {
              "outlinewidth": 0,
              "ticks": ""
             }
            },
            "type": "scatterpolargl"
           }
          ],
          "scatterternary": [
           {
            "marker": {
             "colorbar": {
              "outlinewidth": 0,
              "ticks": ""
             }
            },
            "type": "scatterternary"
           }
          ],
          "surface": [
           {
            "colorbar": {
             "outlinewidth": 0,
             "ticks": ""
            },
            "colorscale": [
             [
              0,
              "#0d0887"
             ],
             [
              0.1111111111111111,
              "#46039f"
             ],
             [
              0.2222222222222222,
              "#7201a8"
             ],
             [
              0.3333333333333333,
              "#9c179e"
             ],
             [
              0.4444444444444444,
              "#bd3786"
             ],
             [
              0.5555555555555556,
              "#d8576b"
             ],
             [
              0.6666666666666666,
              "#ed7953"
             ],
             [
              0.7777777777777778,
              "#fb9f3a"
             ],
             [
              0.8888888888888888,
              "#fdca26"
             ],
             [
              1,
              "#f0f921"
             ]
            ],
            "type": "surface"
           }
          ],
          "table": [
           {
            "cells": {
             "fill": {
              "color": "#EBF0F8"
             },
             "line": {
              "color": "white"
             }
            },
            "header": {
             "fill": {
              "color": "#C8D4E3"
             },
             "line": {
              "color": "white"
             }
            },
            "type": "table"
           }
          ]
         },
         "layout": {
          "annotationdefaults": {
           "arrowcolor": "#2a3f5f",
           "arrowhead": 0,
           "arrowwidth": 1
          },
          "autotypenumbers": "strict",
          "coloraxis": {
           "colorbar": {
            "outlinewidth": 0,
            "ticks": ""
           }
          },
          "colorscale": {
           "diverging": [
            [
             0,
             "#8e0152"
            ],
            [
             0.1,
             "#c51b7d"
            ],
            [
             0.2,
             "#de77ae"
            ],
            [
             0.3,
             "#f1b6da"
            ],
            [
             0.4,
             "#fde0ef"
            ],
            [
             0.5,
             "#f7f7f7"
            ],
            [
             0.6,
             "#e6f5d0"
            ],
            [
             0.7,
             "#b8e186"
            ],
            [
             0.8,
             "#7fbc41"
            ],
            [
             0.9,
             "#4d9221"
            ],
            [
             1,
             "#276419"
            ]
           ],
           "sequential": [
            [
             0,
             "#0d0887"
            ],
            [
             0.1111111111111111,
             "#46039f"
            ],
            [
             0.2222222222222222,
             "#7201a8"
            ],
            [
             0.3333333333333333,
             "#9c179e"
            ],
            [
             0.4444444444444444,
             "#bd3786"
            ],
            [
             0.5555555555555556,
             "#d8576b"
            ],
            [
             0.6666666666666666,
             "#ed7953"
            ],
            [
             0.7777777777777778,
             "#fb9f3a"
            ],
            [
             0.8888888888888888,
             "#fdca26"
            ],
            [
             1,
             "#f0f921"
            ]
           ],
           "sequentialminus": [
            [
             0,
             "#0d0887"
            ],
            [
             0.1111111111111111,
             "#46039f"
            ],
            [
             0.2222222222222222,
             "#7201a8"
            ],
            [
             0.3333333333333333,
             "#9c179e"
            ],
            [
             0.4444444444444444,
             "#bd3786"
            ],
            [
             0.5555555555555556,
             "#d8576b"
            ],
            [
             0.6666666666666666,
             "#ed7953"
            ],
            [
             0.7777777777777778,
             "#fb9f3a"
            ],
            [
             0.8888888888888888,
             "#fdca26"
            ],
            [
             1,
             "#f0f921"
            ]
           ]
          },
          "colorway": [
           "#636efa",
           "#EF553B",
           "#00cc96",
           "#ab63fa",
           "#FFA15A",
           "#19d3f3",
           "#FF6692",
           "#B6E880",
           "#FF97FF",
           "#FECB52"
          ],
          "font": {
           "color": "#2a3f5f"
          },
          "geo": {
           "bgcolor": "white",
           "lakecolor": "white",
           "landcolor": "#E5ECF6",
           "showlakes": true,
           "showland": true,
           "subunitcolor": "white"
          },
          "hoverlabel": {
           "align": "left"
          },
          "hovermode": "closest",
          "mapbox": {
           "style": "light"
          },
          "paper_bgcolor": "white",
          "plot_bgcolor": "#E5ECF6",
          "polar": {
           "angularaxis": {
            "gridcolor": "white",
            "linecolor": "white",
            "ticks": ""
           },
           "bgcolor": "#E5ECF6",
           "radialaxis": {
            "gridcolor": "white",
            "linecolor": "white",
            "ticks": ""
           }
          },
          "scene": {
           "xaxis": {
            "backgroundcolor": "#E5ECF6",
            "gridcolor": "white",
            "gridwidth": 2,
            "linecolor": "white",
            "showbackground": true,
            "ticks": "",
            "zerolinecolor": "white"
           },
           "yaxis": {
            "backgroundcolor": "#E5ECF6",
            "gridcolor": "white",
            "gridwidth": 2,
            "linecolor": "white",
            "showbackground": true,
            "ticks": "",
            "zerolinecolor": "white"
           },
           "zaxis": {
            "backgroundcolor": "#E5ECF6",
            "gridcolor": "white",
            "gridwidth": 2,
            "linecolor": "white",
            "showbackground": true,
            "ticks": "",
            "zerolinecolor": "white"
           }
          },
          "shapedefaults": {
           "line": {
            "color": "#2a3f5f"
           }
          },
          "ternary": {
           "aaxis": {
            "gridcolor": "white",
            "linecolor": "white",
            "ticks": ""
           },
           "baxis": {
            "gridcolor": "white",
            "linecolor": "white",
            "ticks": ""
           },
           "bgcolor": "#E5ECF6",
           "caxis": {
            "gridcolor": "white",
            "linecolor": "white",
            "ticks": ""
           }
          },
          "title": {
           "x": 0.05
          },
          "xaxis": {
           "automargin": true,
           "gridcolor": "white",
           "linecolor": "white",
           "ticks": "",
           "title": {
            "standoff": 15
           },
           "zerolinecolor": "white",
           "zerolinewidth": 2
          },
          "yaxis": {
           "automargin": true,
           "gridcolor": "white",
           "linecolor": "white",
           "ticks": "",
           "title": {
            "standoff": 15
           },
           "zerolinecolor": "white",
           "zerolinewidth": 2
          }
         }
        },
        "title": {
         "text": "Pareto-front Plot"
        },
        "xaxis": {
         "title": {
          "text": "roc-auc"
         }
        },
        "yaxis": {
         "title": {
          "text": "pr-auc"
         }
        }
       }
      }
     },
     "metadata": {},
     "output_type": "display_data"
    }
   ],
   "source": [
    "from blog.model.optimise import MultiObjective,ROCAUCObjective,PRAUCObjective\n",
    "from optuna.visualization import plot_param_importances,plot_pareto_front,plot_optimization_history\n",
    "\n",
    "# Execute an optimization by using an `Objective` instance.\n",
    "study = optuna.create_study(study_name='multi_objective',directions=[\"maximize\",\"maximize\"])\n",
    "study.optimize(MultiObjective(X_train, y_train), n_trials=25, timeout=300)\n",
    "print(\"Number of finished trials: \", len(study.trials))\n",
    "plot_pareto_front(study, target_names=[\"roc-auc\", \"pr-auc\"])"
   ]
  },
  {
   "cell_type": "markdown",
   "metadata": {},
   "source": [
    "### ROC-AUC Optimisation"
   ]
  },
  {
   "cell_type": "code",
   "execution_count": 12,
   "metadata": {},
   "outputs": [
    {
     "name": "stderr",
     "output_type": "stream",
     "text": [
      "\u001b[32m[I 2022-03-18 18:43:18,588]\u001b[0m A new study created in memory with name: auc_objective\u001b[0m\n"
     ]
    },
    {
     "name": "stdout",
     "output_type": "stream",
     "text": [
      "[LightGBM] [Warning] feature_fraction is set=0.9346027833976547, colsample_bytree=1.0 will be ignored. Current value: feature_fraction=0.9346027833976547\n",
      "[LightGBM] [Warning] feature_fraction is set=0.9346027833976547, colsample_bytree=1.0 will be ignored. Current value: feature_fraction=0.9346027833976547\n",
      "[LightGBM] [Warning] feature_fraction is set=0.9346027833976547, colsample_bytree=1.0 will be ignored. Current value: feature_fraction=0.9346027833976547\n"
     ]
    },
    {
     "name": "stderr",
     "output_type": "stream",
     "text": [
      "\u001b[32m[I 2022-03-18 18:43:22,331]\u001b[0m Trial 0 finished with value: 0.63222 and parameters: {'n_estimators': 50, 'learning_rate': 0.15654066661407526, 'num_leaves': 211, 'feature_fraction': 0.9346027833976547}. Best is trial 0 with value: 0.63222.\u001b[0m\n"
     ]
    },
    {
     "name": "stdout",
     "output_type": "stream",
     "text": [
      "[LightGBM] [Warning] feature_fraction is set=0.85444798654535, colsample_bytree=1.0 will be ignored. Current value: feature_fraction=0.85444798654535\n",
      "[LightGBM] [Warning] feature_fraction is set=0.85444798654535, colsample_bytree=1.0 will be ignored. Current value: feature_fraction=0.85444798654535\n",
      "[LightGBM] [Warning] feature_fraction is set=0.85444798654535, colsample_bytree=1.0 will be ignored. Current value: feature_fraction=0.85444798654535\n"
     ]
    },
    {
     "name": "stderr",
     "output_type": "stream",
     "text": [
      "\u001b[32m[I 2022-03-18 18:43:27,894]\u001b[0m Trial 1 finished with value: 0.62156 and parameters: {'n_estimators': 110, 'learning_rate': 0.19544732440369947, 'num_leaves': 196, 'feature_fraction': 0.85444798654535}. Best is trial 0 with value: 0.63222.\u001b[0m\n"
     ]
    },
    {
     "name": "stdout",
     "output_type": "stream",
     "text": [
      "[LightGBM] [Warning] feature_fraction is set=0.7303102565798134, colsample_bytree=1.0 will be ignored. Current value: feature_fraction=0.7303102565798134\n",
      "[LightGBM] [Warning] feature_fraction is set=0.7303102565798134, colsample_bytree=1.0 will be ignored. Current value: feature_fraction=0.7303102565798134\n",
      "[LightGBM] [Warning] feature_fraction is set=0.7303102565798134, colsample_bytree=1.0 will be ignored. Current value: feature_fraction=0.7303102565798134\n"
     ]
    },
    {
     "name": "stderr",
     "output_type": "stream",
     "text": [
      "\u001b[32m[I 2022-03-18 18:43:34,478]\u001b[0m Trial 2 finished with value: 0.62834 and parameters: {'n_estimators': 200, 'learning_rate': 0.18166999759569336, 'num_leaves': 86, 'feature_fraction': 0.7303102565798134}. Best is trial 0 with value: 0.63222.\u001b[0m\n"
     ]
    },
    {
     "name": "stdout",
     "output_type": "stream",
     "text": [
      "[LightGBM] [Warning] feature_fraction is set=0.6169756742045643, colsample_bytree=1.0 will be ignored. Current value: feature_fraction=0.6169756742045643\n",
      "[LightGBM] [Warning] feature_fraction is set=0.6169756742045643, colsample_bytree=1.0 will be ignored. Current value: feature_fraction=0.6169756742045643\n",
      "[LightGBM] [Warning] feature_fraction is set=0.6169756742045643, colsample_bytree=1.0 will be ignored. Current value: feature_fraction=0.6169756742045643\n"
     ]
    },
    {
     "name": "stderr",
     "output_type": "stream",
     "text": [
      "\u001b[32m[I 2022-03-18 18:43:44,298]\u001b[0m Trial 3 finished with value: 0.63869 and parameters: {'n_estimators': 120, 'learning_rate': 0.06573311065686743, 'num_leaves': 241, 'feature_fraction': 0.6169756742045643}. Best is trial 3 with value: 0.63869.\u001b[0m\n"
     ]
    },
    {
     "name": "stdout",
     "output_type": "stream",
     "text": [
      "[LightGBM] [Warning] feature_fraction is set=0.7120074799283527, colsample_bytree=1.0 will be ignored. Current value: feature_fraction=0.7120074799283527\n",
      "[LightGBM] [Warning] feature_fraction is set=0.7120074799283527, colsample_bytree=1.0 will be ignored. Current value: feature_fraction=0.7120074799283527\n",
      "[LightGBM] [Warning] feature_fraction is set=0.7120074799283527, colsample_bytree=1.0 will be ignored. Current value: feature_fraction=0.7120074799283527\n"
     ]
    },
    {
     "name": "stderr",
     "output_type": "stream",
     "text": [
      "\u001b[32m[I 2022-03-18 18:43:59,892]\u001b[0m Trial 4 finished with value: 0.64457 and parameters: {'n_estimators': 420, 'learning_rate': 0.026652986780343633, 'num_leaves': 80, 'feature_fraction': 0.7120074799283527}. Best is trial 4 with value: 0.64457.\u001b[0m\n"
     ]
    },
    {
     "name": "stdout",
     "output_type": "stream",
     "text": [
      "[LightGBM] [Warning] feature_fraction is set=0.8386527228729734, colsample_bytree=1.0 will be ignored. Current value: feature_fraction=0.8386527228729734\n",
      "[LightGBM] [Warning] feature_fraction is set=0.8386527228729734, colsample_bytree=1.0 will be ignored. Current value: feature_fraction=0.8386527228729734\n",
      "[LightGBM] [Warning] feature_fraction is set=0.8386527228729734, colsample_bytree=1.0 will be ignored. Current value: feature_fraction=0.8386527228729734\n"
     ]
    },
    {
     "name": "stderr",
     "output_type": "stream",
     "text": [
      "\u001b[32m[I 2022-03-18 18:44:18,050]\u001b[0m Trial 5 finished with value: 0.59666 and parameters: {'n_estimators': 370, 'learning_rate': 0.2735766424543298, 'num_leaves': 249, 'feature_fraction': 0.8386527228729734}. Best is trial 4 with value: 0.64457.\u001b[0m\n"
     ]
    },
    {
     "name": "stdout",
     "output_type": "stream",
     "text": [
      "[LightGBM] [Warning] feature_fraction is set=0.8238063844264303, colsample_bytree=1.0 will be ignored. Current value: feature_fraction=0.8238063844264303\n",
      "[LightGBM] [Warning] feature_fraction is set=0.8238063844264303, colsample_bytree=1.0 will be ignored. Current value: feature_fraction=0.8238063844264303\n",
      "[LightGBM] [Warning] feature_fraction is set=0.8238063844264303, colsample_bytree=1.0 will be ignored. Current value: feature_fraction=0.8238063844264303\n"
     ]
    },
    {
     "name": "stderr",
     "output_type": "stream",
     "text": [
      "\u001b[32m[I 2022-03-18 18:44:31,232]\u001b[0m Trial 6 finished with value: 0.59986 and parameters: {'n_estimators': 410, 'learning_rate': 0.2749825885706039, 'num_leaves': 154, 'feature_fraction': 0.8238063844264303}. Best is trial 4 with value: 0.64457.\u001b[0m\n"
     ]
    },
    {
     "name": "stdout",
     "output_type": "stream",
     "text": [
      "[LightGBM] [Warning] feature_fraction is set=0.4583473138843356, colsample_bytree=1.0 will be ignored. Current value: feature_fraction=0.4583473138843356\n",
      "[LightGBM] [Warning] feature_fraction is set=0.4583473138843356, colsample_bytree=1.0 will be ignored. Current value: feature_fraction=0.4583473138843356\n",
      "[LightGBM] [Warning] feature_fraction is set=0.4583473138843356, colsample_bytree=1.0 will be ignored. Current value: feature_fraction=0.4583473138843356\n"
     ]
    },
    {
     "name": "stderr",
     "output_type": "stream",
     "text": [
      "\u001b[32m[I 2022-03-18 18:44:52,555]\u001b[0m Trial 7 finished with value: 0.61029 and parameters: {'n_estimators': 400, 'learning_rate': 0.20765171648686412, 'num_leaves': 160, 'feature_fraction': 0.4583473138843356}. Best is trial 4 with value: 0.64457.\u001b[0m\n"
     ]
    },
    {
     "name": "stdout",
     "output_type": "stream",
     "text": [
      "[LightGBM] [Warning] feature_fraction is set=0.756659021796596, colsample_bytree=1.0 will be ignored. Current value: feature_fraction=0.756659021796596\n",
      "[LightGBM] [Warning] feature_fraction is set=0.756659021796596, colsample_bytree=1.0 will be ignored. Current value: feature_fraction=0.756659021796596\n",
      "[LightGBM] [Warning] feature_fraction is set=0.756659021796596, colsample_bytree=1.0 will be ignored. Current value: feature_fraction=0.756659021796596\n"
     ]
    },
    {
     "name": "stderr",
     "output_type": "stream",
     "text": [
      "\u001b[32m[I 2022-03-18 18:45:07,143]\u001b[0m Trial 8 finished with value: 0.62097 and parameters: {'n_estimators': 480, 'learning_rate': 0.12018721521048736, 'num_leaves': 138, 'feature_fraction': 0.756659021796596}. Best is trial 4 with value: 0.64457.\u001b[0m\n"
     ]
    },
    {
     "name": "stdout",
     "output_type": "stream",
     "text": [
      "[LightGBM] [Warning] feature_fraction is set=0.5991242626205294, colsample_bytree=1.0 will be ignored. Current value: feature_fraction=0.5991242626205294\n",
      "[LightGBM] [Warning] feature_fraction is set=0.5991242626205294, colsample_bytree=1.0 will be ignored. Current value: feature_fraction=0.5991242626205294\n",
      "[LightGBM] [Warning] feature_fraction is set=0.5991242626205294, colsample_bytree=1.0 will be ignored. Current value: feature_fraction=0.5991242626205294\n"
     ]
    },
    {
     "name": "stderr",
     "output_type": "stream",
     "text": [
      "\u001b[32m[I 2022-03-18 18:45:20,029]\u001b[0m Trial 9 finished with value: 0.60365 and parameters: {'n_estimators': 310, 'learning_rate': 0.23935981784235177, 'num_leaves': 221, 'feature_fraction': 0.5991242626205294}. Best is trial 4 with value: 0.64457.\u001b[0m\n"
     ]
    },
    {
     "name": "stdout",
     "output_type": "stream",
     "text": [
      "[LightGBM] [Warning] feature_fraction is set=0.40127769415395753, colsample_bytree=1.0 will be ignored. Current value: feature_fraction=0.40127769415395753\n",
      "[LightGBM] [Warning] feature_fraction is set=0.40127769415395753, colsample_bytree=1.0 will be ignored. Current value: feature_fraction=0.40127769415395753\n",
      "[LightGBM] [Warning] feature_fraction is set=0.40127769415395753, colsample_bytree=1.0 will be ignored. Current value: feature_fraction=0.40127769415395753\n"
     ]
    },
    {
     "name": "stderr",
     "output_type": "stream",
     "text": [
      "\u001b[32m[I 2022-03-18 18:45:30,174]\u001b[0m Trial 10 finished with value: 0.64388 and parameters: {'n_estimators': 500, 'learning_rate': 0.02498796426935425, 'num_leaves': 10, 'feature_fraction': 0.40127769415395753}. Best is trial 4 with value: 0.64457.\u001b[0m\n"
     ]
    },
    {
     "name": "stdout",
     "output_type": "stream",
     "text": [
      "[LightGBM] [Warning] feature_fraction is set=0.48713809167052474, colsample_bytree=1.0 will be ignored. Current value: feature_fraction=0.48713809167052474\n",
      "[LightGBM] [Warning] feature_fraction is set=0.48713809167052474, colsample_bytree=1.0 will be ignored. Current value: feature_fraction=0.48713809167052474\n",
      "[LightGBM] [Warning] feature_fraction is set=0.48713809167052474, colsample_bytree=1.0 will be ignored. Current value: feature_fraction=0.48713809167052474\n"
     ]
    },
    {
     "name": "stderr",
     "output_type": "stream",
     "text": [
      "\u001b[32m[I 2022-03-18 18:45:39,371]\u001b[0m Trial 11 finished with value: 0.64249 and parameters: {'n_estimators': 500, 'learning_rate': 0.02775800057427827, 'num_leaves': 6, 'feature_fraction': 0.48713809167052474}. Best is trial 4 with value: 0.64457.\u001b[0m\n"
     ]
    },
    {
     "name": "stdout",
     "output_type": "stream",
     "text": [
      "[LightGBM] [Warning] feature_fraction is set=0.6049618730196838, colsample_bytree=1.0 will be ignored. Current value: feature_fraction=0.6049618730196838\n",
      "[LightGBM] [Warning] feature_fraction is set=0.6049618730196838, colsample_bytree=1.0 will be ignored. Current value: feature_fraction=0.6049618730196838\n",
      "[LightGBM] [Warning] feature_fraction is set=0.6049618730196838, colsample_bytree=1.0 will be ignored. Current value: feature_fraction=0.6049618730196838\n"
     ]
    },
    {
     "name": "stderr",
     "output_type": "stream",
     "text": [
      "\u001b[32m[I 2022-03-18 18:45:53,347]\u001b[0m Trial 12 finished with value: 0.64494 and parameters: {'n_estimators': 490, 'learning_rate': 0.010163156335474238, 'num_leaves': 43, 'feature_fraction': 0.6049618730196838}. Best is trial 12 with value: 0.64494.\u001b[0m\n"
     ]
    },
    {
     "name": "stdout",
     "output_type": "stream",
     "text": [
      "[LightGBM] [Warning] feature_fraction is set=0.6191121022995855, colsample_bytree=1.0 will be ignored. Current value: feature_fraction=0.6191121022995855\n",
      "[LightGBM] [Warning] feature_fraction is set=0.6191121022995855, colsample_bytree=1.0 will be ignored. Current value: feature_fraction=0.6191121022995855\n",
      "[LightGBM] [Warning] feature_fraction is set=0.6191121022995855, colsample_bytree=1.0 will be ignored. Current value: feature_fraction=0.6191121022995855\n"
     ]
    },
    {
     "name": "stderr",
     "output_type": "stream",
     "text": [
      "\u001b[32m[I 2022-03-18 18:46:01,514]\u001b[0m Trial 13 finished with value: 0.63911 and parameters: {'n_estimators': 280, 'learning_rate': 0.08541483973627012, 'num_leaves': 75, 'feature_fraction': 0.6191121022995855}. Best is trial 12 with value: 0.64494.\u001b[0m\n"
     ]
    },
    {
     "name": "stdout",
     "output_type": "stream",
     "text": [
      "[LightGBM] [Warning] feature_fraction is set=0.5491516227934593, colsample_bytree=1.0 will be ignored. Current value: feature_fraction=0.5491516227934593\n",
      "[LightGBM] [Warning] feature_fraction is set=0.5491516227934593, colsample_bytree=1.0 will be ignored. Current value: feature_fraction=0.5491516227934593\n",
      "[LightGBM] [Warning] feature_fraction is set=0.5491516227934593, colsample_bytree=1.0 will be ignored. Current value: feature_fraction=0.5491516227934593\n"
     ]
    },
    {
     "name": "stderr",
     "output_type": "stream",
     "text": [
      "\u001b[32m[I 2022-03-18 18:46:14,823]\u001b[0m Trial 14 finished with value: 0.64544 and parameters: {'n_estimators': 440, 'learning_rate': 0.016842227971655736, 'num_leaves': 57, 'feature_fraction': 0.5491516227934593}. Best is trial 14 with value: 0.64544.\u001b[0m\n"
     ]
    },
    {
     "name": "stdout",
     "output_type": "stream",
     "text": [
      "[LightGBM] [Warning] feature_fraction is set=0.5423982419064317, colsample_bytree=1.0 will be ignored. Current value: feature_fraction=0.5423982419064317\n",
      "[LightGBM] [Warning] feature_fraction is set=0.5423982419064317, colsample_bytree=1.0 will be ignored. Current value: feature_fraction=0.5423982419064317\n",
      "[LightGBM] [Warning] feature_fraction is set=0.5423982419064317, colsample_bytree=1.0 will be ignored. Current value: feature_fraction=0.5423982419064317\n"
     ]
    },
    {
     "name": "stderr",
     "output_type": "stream",
     "text": [
      "\u001b[32m[I 2022-03-18 18:46:24,901]\u001b[0m Trial 15 finished with value: 0.64198 and parameters: {'n_estimators': 460, 'learning_rate': 0.07218239976849797, 'num_leaves': 33, 'feature_fraction': 0.5423982419064317}. Best is trial 14 with value: 0.64544.\u001b[0m\n"
     ]
    },
    {
     "name": "stdout",
     "output_type": "stream",
     "text": [
      "[LightGBM] [Warning] feature_fraction is set=0.5455317241137893, colsample_bytree=1.0 will be ignored. Current value: feature_fraction=0.5455317241137893\n",
      "[LightGBM] [Warning] feature_fraction is set=0.5455317241137893, colsample_bytree=1.0 will be ignored. Current value: feature_fraction=0.5455317241137893\n",
      "[LightGBM] [Warning] feature_fraction is set=0.5455317241137893, colsample_bytree=1.0 will be ignored. Current value: feature_fraction=0.5455317241137893\n"
     ]
    },
    {
     "name": "stderr",
     "output_type": "stream",
     "text": [
      "\u001b[32m[I 2022-03-18 18:46:35,428]\u001b[0m Trial 16 finished with value: 0.64441 and parameters: {'n_estimators': 340, 'learning_rate': 0.012198110562995138, 'num_leaves': 44, 'feature_fraction': 0.5455317241137893}. Best is trial 14 with value: 0.64544.\u001b[0m\n"
     ]
    },
    {
     "name": "stdout",
     "output_type": "stream",
     "text": [
      "[LightGBM] [Warning] feature_fraction is set=0.6603595030562179, colsample_bytree=1.0 will be ignored. Current value: feature_fraction=0.6603595030562179\n",
      "[LightGBM] [Warning] feature_fraction is set=0.6603595030562179, colsample_bytree=1.0 will be ignored. Current value: feature_fraction=0.6603595030562179\n",
      "[LightGBM] [Warning] feature_fraction is set=0.6603595030562179, colsample_bytree=1.0 will be ignored. Current value: feature_fraction=0.6603595030562179\n"
     ]
    },
    {
     "name": "stderr",
     "output_type": "stream",
     "text": [
      "\u001b[32m[I 2022-03-18 18:46:42,923]\u001b[0m Trial 17 finished with value: 0.63438 and parameters: {'n_estimators': 220, 'learning_rate': 0.10434606324057526, 'num_leaves': 113, 'feature_fraction': 0.6603595030562179}. Best is trial 14 with value: 0.64544.\u001b[0m\n"
     ]
    },
    {
     "name": "stdout",
     "output_type": "stream",
     "text": [
      "[LightGBM] [Warning] feature_fraction is set=0.40890606974444865, colsample_bytree=1.0 will be ignored. Current value: feature_fraction=0.40890606974444865\n",
      "[LightGBM] [Warning] feature_fraction is set=0.40890606974444865, colsample_bytree=1.0 will be ignored. Current value: feature_fraction=0.40890606974444865\n",
      "[LightGBM] [Warning] feature_fraction is set=0.40890606974444865, colsample_bytree=1.0 will be ignored. Current value: feature_fraction=0.40890606974444865\n"
     ]
    },
    {
     "name": "stderr",
     "output_type": "stream",
     "text": [
      "\u001b[32m[I 2022-03-18 18:46:54,099]\u001b[0m Trial 18 finished with value: 0.64343 and parameters: {'n_estimators': 450, 'learning_rate': 0.051460902050615466, 'num_leaves': 45, 'feature_fraction': 0.40890606974444865}. Best is trial 14 with value: 0.64544.\u001b[0m\n"
     ]
    },
    {
     "name": "stdout",
     "output_type": "stream",
     "text": [
      "[LightGBM] [Warning] feature_fraction is set=0.5307559287063446, colsample_bytree=1.0 will be ignored. Current value: feature_fraction=0.5307559287063446\n",
      "[LightGBM] [Warning] feature_fraction is set=0.5307559287063446, colsample_bytree=1.0 will be ignored. Current value: feature_fraction=0.5307559287063446\n",
      "[LightGBM] [Warning] feature_fraction is set=0.5307559287063446, colsample_bytree=1.0 will be ignored. Current value: feature_fraction=0.5307559287063446\n"
     ]
    },
    {
     "name": "stderr",
     "output_type": "stream",
     "text": [
      "\u001b[32m[I 2022-03-18 18:47:09,922]\u001b[0m Trial 19 finished with value: 0.62275 and parameters: {'n_estimators': 500, 'learning_rate': 0.13396925416564354, 'num_leaves': 102, 'feature_fraction': 0.5307559287063446}. Best is trial 14 with value: 0.64544.\u001b[0m\n"
     ]
    },
    {
     "name": "stdout",
     "output_type": "stream",
     "text": [
      "[LightGBM] [Warning] feature_fraction is set=0.45555164370139384, colsample_bytree=1.0 will be ignored. Current value: feature_fraction=0.45555164370139384\n",
      "[LightGBM] [Warning] feature_fraction is set=0.45555164370139384, colsample_bytree=1.0 will be ignored. Current value: feature_fraction=0.45555164370139384\n",
      "[LightGBM] [Warning] feature_fraction is set=0.45555164370139384, colsample_bytree=1.0 will be ignored. Current value: feature_fraction=0.45555164370139384\n"
     ]
    },
    {
     "name": "stderr",
     "output_type": "stream",
     "text": [
      "\u001b[32m[I 2022-03-18 18:47:20,327]\u001b[0m Trial 20 finished with value: 0.64431 and parameters: {'n_estimators': 360, 'learning_rate': 0.04166634832115576, 'num_leaves': 61, 'feature_fraction': 0.45555164370139384}. Best is trial 14 with value: 0.64544.\u001b[0m\n"
     ]
    },
    {
     "name": "stdout",
     "output_type": "stream",
     "text": [
      "[LightGBM] [Warning] feature_fraction is set=0.6919786568210546, colsample_bytree=1.0 will be ignored. Current value: feature_fraction=0.6919786568210546\n",
      "[LightGBM] [Warning] feature_fraction is set=0.6919786568210546, colsample_bytree=1.0 will be ignored. Current value: feature_fraction=0.6919786568210546\n",
      "[LightGBM] [Warning] feature_fraction is set=0.6919786568210546, colsample_bytree=1.0 will be ignored. Current value: feature_fraction=0.6919786568210546\n"
     ]
    },
    {
     "name": "stderr",
     "output_type": "stream",
     "text": [
      "\u001b[32m[I 2022-03-18 18:47:28,470]\u001b[0m Trial 21 finished with value: 0.6446 and parameters: {'n_estimators': 420, 'learning_rate': 0.024853002207669082, 'num_leaves': 18, 'feature_fraction': 0.6919786568210546}. Best is trial 14 with value: 0.64544.\u001b[0m\n"
     ]
    },
    {
     "name": "stdout",
     "output_type": "stream",
     "text": [
      "[LightGBM] [Warning] feature_fraction is set=0.6700154142012636, colsample_bytree=1.0 will be ignored. Current value: feature_fraction=0.6700154142012636\n",
      "[LightGBM] [Warning] feature_fraction is set=0.6700154142012636, colsample_bytree=1.0 will be ignored. Current value: feature_fraction=0.6700154142012636\n",
      "[LightGBM] [Warning] feature_fraction is set=0.6700154142012636, colsample_bytree=1.0 will be ignored. Current value: feature_fraction=0.6700154142012636\n"
     ]
    },
    {
     "name": "stderr",
     "output_type": "stream",
     "text": [
      "\u001b[32m[I 2022-03-18 18:47:38,604]\u001b[0m Trial 22 finished with value: 0.64318 and parameters: {'n_estimators': 440, 'learning_rate': 0.010872045360150118, 'num_leaves': 21, 'feature_fraction': 0.6700154142012636}. Best is trial 14 with value: 0.64544.\u001b[0m\n"
     ]
    },
    {
     "name": "stdout",
     "output_type": "stream",
     "text": [
      "[LightGBM] [Warning] feature_fraction is set=0.5832285936339756, colsample_bytree=1.0 will be ignored. Current value: feature_fraction=0.5832285936339756\n",
      "[LightGBM] [Warning] feature_fraction is set=0.5832285936339756, colsample_bytree=1.0 will be ignored. Current value: feature_fraction=0.5832285936339756\n",
      "[LightGBM] [Warning] feature_fraction is set=0.5832285936339756, colsample_bytree=1.0 will be ignored. Current value: feature_fraction=0.5832285936339756\n"
     ]
    },
    {
     "name": "stderr",
     "output_type": "stream",
     "text": [
      "\u001b[32m[I 2022-03-18 18:47:44,094]\u001b[0m Trial 23 finished with value: 0.6322 and parameters: {'n_estimators': 390, 'learning_rate': 0.050669830726155794, 'num_leaves': 2, 'feature_fraction': 0.5832285936339756}. Best is trial 14 with value: 0.64544.\u001b[0m\n"
     ]
    },
    {
     "name": "stdout",
     "output_type": "stream",
     "text": [
      "[LightGBM] [Warning] feature_fraction is set=0.7688948791273569, colsample_bytree=1.0 will be ignored. Current value: feature_fraction=0.7688948791273569\n",
      "[LightGBM] [Warning] feature_fraction is set=0.7688948791273569, colsample_bytree=1.0 will be ignored. Current value: feature_fraction=0.7688948791273569\n",
      "[LightGBM] [Warning] feature_fraction is set=0.7688948791273569, colsample_bytree=1.0 will be ignored. Current value: feature_fraction=0.7688948791273569\n"
     ]
    },
    {
     "name": "stderr",
     "output_type": "stream",
     "text": [
      "\u001b[32m[I 2022-03-18 18:47:50,155]\u001b[0m Trial 24 finished with value: 0.64195 and parameters: {'n_estimators': 320, 'learning_rate': 0.09266880655209685, 'num_leaves': 31, 'feature_fraction': 0.7688948791273569}. Best is trial 14 with value: 0.64544.\u001b[0m\n"
     ]
    },
    {
     "name": "stdout",
     "output_type": "stream",
     "text": [
      "Number of finished trials: 25\n",
      "Best trial:\n",
      "  Value: 0.64544\n",
      "  Params: \n",
      "    n_estimators: 440\n",
      "    learning_rate: 0.016842227971655736\n",
      "    num_leaves: 57\n",
      "    feature_fraction: 0.5491516227934593\n"
     ]
    }
   ],
   "source": [
    "study = optuna.create_study(study_name='auc_objective',direction=\"maximize\")\n",
    "study.optimize(ROCAUCObjective(X_train,y_train), n_trials=25, timeout=300)\n",
    "print(\"Number of finished trials: {}\".format(len(study.trials)))\n",
    "plot_optimization_history(study)\n",
    "print(\"Best trial:\")\n",
    "trial = study.best_trial\n",
    "print(\"  Value: {}\".format(trial.value))\n",
    "print(\"  Params: \")\n",
    "for key, value in trial.params.items():\n",
    "    print(\"    {}: {}\".format(key, value))"
   ]
  },
  {
   "cell_type": "code",
   "execution_count": 13,
   "metadata": {},
   "outputs": [
    {
     "data": {
      "application/vnd.plotly.v1+json": {
       "config": {
        "plotlyServerURL": "https://plot.ly"
       },
       "data": [
        {
         "mode": "markers",
         "name": "Objective Value",
         "type": "scatter",
         "x": [
          0,
          1,
          2,
          3,
          4,
          5,
          6,
          7,
          8,
          9,
          10,
          11,
          12,
          13,
          14,
          15,
          16,
          17,
          18,
          19,
          20,
          21,
          22,
          23,
          24
         ],
         "y": [
          0.63222,
          0.62156,
          0.62834,
          0.63869,
          0.64457,
          0.59666,
          0.59986,
          0.61029,
          0.62097,
          0.60365,
          0.64388,
          0.64249,
          0.64494,
          0.63911,
          0.64544,
          0.64198,
          0.64441,
          0.63438,
          0.64343,
          0.62275,
          0.64431,
          0.6446,
          0.64318,
          0.6322,
          0.64195
         ]
        },
        {
         "name": "Best Value",
         "type": "scatter",
         "x": [
          0,
          1,
          2,
          3,
          4,
          5,
          6,
          7,
          8,
          9,
          10,
          11,
          12,
          13,
          14,
          15,
          16,
          17,
          18,
          19,
          20,
          21,
          22,
          23,
          24
         ],
         "y": [
          0.63222,
          0.63222,
          0.63222,
          0.63869,
          0.64457,
          0.64457,
          0.64457,
          0.64457,
          0.64457,
          0.64457,
          0.64457,
          0.64457,
          0.64494,
          0.64494,
          0.64544,
          0.64544,
          0.64544,
          0.64544,
          0.64544,
          0.64544,
          0.64544,
          0.64544,
          0.64544,
          0.64544,
          0.64544
         ]
        }
       ],
       "layout": {
        "template": {
         "data": {
          "bar": [
           {
            "error_x": {
             "color": "#2a3f5f"
            },
            "error_y": {
             "color": "#2a3f5f"
            },
            "marker": {
             "line": {
              "color": "#E5ECF6",
              "width": 0.5
             }
            },
            "type": "bar"
           }
          ],
          "barpolar": [
           {
            "marker": {
             "line": {
              "color": "#E5ECF6",
              "width": 0.5
             }
            },
            "type": "barpolar"
           }
          ],
          "carpet": [
           {
            "aaxis": {
             "endlinecolor": "#2a3f5f",
             "gridcolor": "white",
             "linecolor": "white",
             "minorgridcolor": "white",
             "startlinecolor": "#2a3f5f"
            },
            "baxis": {
             "endlinecolor": "#2a3f5f",
             "gridcolor": "white",
             "linecolor": "white",
             "minorgridcolor": "white",
             "startlinecolor": "#2a3f5f"
            },
            "type": "carpet"
           }
          ],
          "choropleth": [
           {
            "colorbar": {
             "outlinewidth": 0,
             "ticks": ""
            },
            "type": "choropleth"
           }
          ],
          "contour": [
           {
            "colorbar": {
             "outlinewidth": 0,
             "ticks": ""
            },
            "colorscale": [
             [
              0,
              "#0d0887"
             ],
             [
              0.1111111111111111,
              "#46039f"
             ],
             [
              0.2222222222222222,
              "#7201a8"
             ],
             [
              0.3333333333333333,
              "#9c179e"
             ],
             [
              0.4444444444444444,
              "#bd3786"
             ],
             [
              0.5555555555555556,
              "#d8576b"
             ],
             [
              0.6666666666666666,
              "#ed7953"
             ],
             [
              0.7777777777777778,
              "#fb9f3a"
             ],
             [
              0.8888888888888888,
              "#fdca26"
             ],
             [
              1,
              "#f0f921"
             ]
            ],
            "type": "contour"
           }
          ],
          "contourcarpet": [
           {
            "colorbar": {
             "outlinewidth": 0,
             "ticks": ""
            },
            "type": "contourcarpet"
           }
          ],
          "heatmap": [
           {
            "colorbar": {
             "outlinewidth": 0,
             "ticks": ""
            },
            "colorscale": [
             [
              0,
              "#0d0887"
             ],
             [
              0.1111111111111111,
              "#46039f"
             ],
             [
              0.2222222222222222,
              "#7201a8"
             ],
             [
              0.3333333333333333,
              "#9c179e"
             ],
             [
              0.4444444444444444,
              "#bd3786"
             ],
             [
              0.5555555555555556,
              "#d8576b"
             ],
             [
              0.6666666666666666,
              "#ed7953"
             ],
             [
              0.7777777777777778,
              "#fb9f3a"
             ],
             [
              0.8888888888888888,
              "#fdca26"
             ],
             [
              1,
              "#f0f921"
             ]
            ],
            "type": "heatmap"
           }
          ],
          "heatmapgl": [
           {
            "colorbar": {
             "outlinewidth": 0,
             "ticks": ""
            },
            "colorscale": [
             [
              0,
              "#0d0887"
             ],
             [
              0.1111111111111111,
              "#46039f"
             ],
             [
              0.2222222222222222,
              "#7201a8"
             ],
             [
              0.3333333333333333,
              "#9c179e"
             ],
             [
              0.4444444444444444,
              "#bd3786"
             ],
             [
              0.5555555555555556,
              "#d8576b"
             ],
             [
              0.6666666666666666,
              "#ed7953"
             ],
             [
              0.7777777777777778,
              "#fb9f3a"
             ],
             [
              0.8888888888888888,
              "#fdca26"
             ],
             [
              1,
              "#f0f921"
             ]
            ],
            "type": "heatmapgl"
           }
          ],
          "histogram": [
           {
            "marker": {
             "colorbar": {
              "outlinewidth": 0,
              "ticks": ""
             }
            },
            "type": "histogram"
           }
          ],
          "histogram2d": [
           {
            "colorbar": {
             "outlinewidth": 0,
             "ticks": ""
            },
            "colorscale": [
             [
              0,
              "#0d0887"
             ],
             [
              0.1111111111111111,
              "#46039f"
             ],
             [
              0.2222222222222222,
              "#7201a8"
             ],
             [
              0.3333333333333333,
              "#9c179e"
             ],
             [
              0.4444444444444444,
              "#bd3786"
             ],
             [
              0.5555555555555556,
              "#d8576b"
             ],
             [
              0.6666666666666666,
              "#ed7953"
             ],
             [
              0.7777777777777778,
              "#fb9f3a"
             ],
             [
              0.8888888888888888,
              "#fdca26"
             ],
             [
              1,
              "#f0f921"
             ]
            ],
            "type": "histogram2d"
           }
          ],
          "histogram2dcontour": [
           {
            "colorbar": {
             "outlinewidth": 0,
             "ticks": ""
            },
            "colorscale": [
             [
              0,
              "#0d0887"
             ],
             [
              0.1111111111111111,
              "#46039f"
             ],
             [
              0.2222222222222222,
              "#7201a8"
             ],
             [
              0.3333333333333333,
              "#9c179e"
             ],
             [
              0.4444444444444444,
              "#bd3786"
             ],
             [
              0.5555555555555556,
              "#d8576b"
             ],
             [
              0.6666666666666666,
              "#ed7953"
             ],
             [
              0.7777777777777778,
              "#fb9f3a"
             ],
             [
              0.8888888888888888,
              "#fdca26"
             ],
             [
              1,
              "#f0f921"
             ]
            ],
            "type": "histogram2dcontour"
           }
          ],
          "mesh3d": [
           {
            "colorbar": {
             "outlinewidth": 0,
             "ticks": ""
            },
            "type": "mesh3d"
           }
          ],
          "parcoords": [
           {
            "line": {
             "colorbar": {
              "outlinewidth": 0,
              "ticks": ""
             }
            },
            "type": "parcoords"
           }
          ],
          "pie": [
           {
            "automargin": true,
            "type": "pie"
           }
          ],
          "scatter": [
           {
            "marker": {
             "colorbar": {
              "outlinewidth": 0,
              "ticks": ""
             }
            },
            "type": "scatter"
           }
          ],
          "scatter3d": [
           {
            "line": {
             "colorbar": {
              "outlinewidth": 0,
              "ticks": ""
             }
            },
            "marker": {
             "colorbar": {
              "outlinewidth": 0,
              "ticks": ""
             }
            },
            "type": "scatter3d"
           }
          ],
          "scattercarpet": [
           {
            "marker": {
             "colorbar": {
              "outlinewidth": 0,
              "ticks": ""
             }
            },
            "type": "scattercarpet"
           }
          ],
          "scattergeo": [
           {
            "marker": {
             "colorbar": {
              "outlinewidth": 0,
              "ticks": ""
             }
            },
            "type": "scattergeo"
           }
          ],
          "scattergl": [
           {
            "marker": {
             "colorbar": {
              "outlinewidth": 0,
              "ticks": ""
             }
            },
            "type": "scattergl"
           }
          ],
          "scattermapbox": [
           {
            "marker": {
             "colorbar": {
              "outlinewidth": 0,
              "ticks": ""
             }
            },
            "type": "scattermapbox"
           }
          ],
          "scatterpolar": [
           {
            "marker": {
             "colorbar": {
              "outlinewidth": 0,
              "ticks": ""
             }
            },
            "type": "scatterpolar"
           }
          ],
          "scatterpolargl": [
           {
            "marker": {
             "colorbar": {
              "outlinewidth": 0,
              "ticks": ""
             }
            },
            "type": "scatterpolargl"
           }
          ],
          "scatterternary": [
           {
            "marker": {
             "colorbar": {
              "outlinewidth": 0,
              "ticks": ""
             }
            },
            "type": "scatterternary"
           }
          ],
          "surface": [
           {
            "colorbar": {
             "outlinewidth": 0,
             "ticks": ""
            },
            "colorscale": [
             [
              0,
              "#0d0887"
             ],
             [
              0.1111111111111111,
              "#46039f"
             ],
             [
              0.2222222222222222,
              "#7201a8"
             ],
             [
              0.3333333333333333,
              "#9c179e"
             ],
             [
              0.4444444444444444,
              "#bd3786"
             ],
             [
              0.5555555555555556,
              "#d8576b"
             ],
             [
              0.6666666666666666,
              "#ed7953"
             ],
             [
              0.7777777777777778,
              "#fb9f3a"
             ],
             [
              0.8888888888888888,
              "#fdca26"
             ],
             [
              1,
              "#f0f921"
             ]
            ],
            "type": "surface"
           }
          ],
          "table": [
           {
            "cells": {
             "fill": {
              "color": "#EBF0F8"
             },
             "line": {
              "color": "white"
             }
            },
            "header": {
             "fill": {
              "color": "#C8D4E3"
             },
             "line": {
              "color": "white"
             }
            },
            "type": "table"
           }
          ]
         },
         "layout": {
          "annotationdefaults": {
           "arrowcolor": "#2a3f5f",
           "arrowhead": 0,
           "arrowwidth": 1
          },
          "autotypenumbers": "strict",
          "coloraxis": {
           "colorbar": {
            "outlinewidth": 0,
            "ticks": ""
           }
          },
          "colorscale": {
           "diverging": [
            [
             0,
             "#8e0152"
            ],
            [
             0.1,
             "#c51b7d"
            ],
            [
             0.2,
             "#de77ae"
            ],
            [
             0.3,
             "#f1b6da"
            ],
            [
             0.4,
             "#fde0ef"
            ],
            [
             0.5,
             "#f7f7f7"
            ],
            [
             0.6,
             "#e6f5d0"
            ],
            [
             0.7,
             "#b8e186"
            ],
            [
             0.8,
             "#7fbc41"
            ],
            [
             0.9,
             "#4d9221"
            ],
            [
             1,
             "#276419"
            ]
           ],
           "sequential": [
            [
             0,
             "#0d0887"
            ],
            [
             0.1111111111111111,
             "#46039f"
            ],
            [
             0.2222222222222222,
             "#7201a8"
            ],
            [
             0.3333333333333333,
             "#9c179e"
            ],
            [
             0.4444444444444444,
             "#bd3786"
            ],
            [
             0.5555555555555556,
             "#d8576b"
            ],
            [
             0.6666666666666666,
             "#ed7953"
            ],
            [
             0.7777777777777778,
             "#fb9f3a"
            ],
            [
             0.8888888888888888,
             "#fdca26"
            ],
            [
             1,
             "#f0f921"
            ]
           ],
           "sequentialminus": [
            [
             0,
             "#0d0887"
            ],
            [
             0.1111111111111111,
             "#46039f"
            ],
            [
             0.2222222222222222,
             "#7201a8"
            ],
            [
             0.3333333333333333,
             "#9c179e"
            ],
            [
             0.4444444444444444,
             "#bd3786"
            ],
            [
             0.5555555555555556,
             "#d8576b"
            ],
            [
             0.6666666666666666,
             "#ed7953"
            ],
            [
             0.7777777777777778,
             "#fb9f3a"
            ],
            [
             0.8888888888888888,
             "#fdca26"
            ],
            [
             1,
             "#f0f921"
            ]
           ]
          },
          "colorway": [
           "#636efa",
           "#EF553B",
           "#00cc96",
           "#ab63fa",
           "#FFA15A",
           "#19d3f3",
           "#FF6692",
           "#B6E880",
           "#FF97FF",
           "#FECB52"
          ],
          "font": {
           "color": "#2a3f5f"
          },
          "geo": {
           "bgcolor": "white",
           "lakecolor": "white",
           "landcolor": "#E5ECF6",
           "showlakes": true,
           "showland": true,
           "subunitcolor": "white"
          },
          "hoverlabel": {
           "align": "left"
          },
          "hovermode": "closest",
          "mapbox": {
           "style": "light"
          },
          "paper_bgcolor": "white",
          "plot_bgcolor": "#E5ECF6",
          "polar": {
           "angularaxis": {
            "gridcolor": "white",
            "linecolor": "white",
            "ticks": ""
           },
           "bgcolor": "#E5ECF6",
           "radialaxis": {
            "gridcolor": "white",
            "linecolor": "white",
            "ticks": ""
           }
          },
          "scene": {
           "xaxis": {
            "backgroundcolor": "#E5ECF6",
            "gridcolor": "white",
            "gridwidth": 2,
            "linecolor": "white",
            "showbackground": true,
            "ticks": "",
            "zerolinecolor": "white"
           },
           "yaxis": {
            "backgroundcolor": "#E5ECF6",
            "gridcolor": "white",
            "gridwidth": 2,
            "linecolor": "white",
            "showbackground": true,
            "ticks": "",
            "zerolinecolor": "white"
           },
           "zaxis": {
            "backgroundcolor": "#E5ECF6",
            "gridcolor": "white",
            "gridwidth": 2,
            "linecolor": "white",
            "showbackground": true,
            "ticks": "",
            "zerolinecolor": "white"
           }
          },
          "shapedefaults": {
           "line": {
            "color": "#2a3f5f"
           }
          },
          "ternary": {
           "aaxis": {
            "gridcolor": "white",
            "linecolor": "white",
            "ticks": ""
           },
           "baxis": {
            "gridcolor": "white",
            "linecolor": "white",
            "ticks": ""
           },
           "bgcolor": "#E5ECF6",
           "caxis": {
            "gridcolor": "white",
            "linecolor": "white",
            "ticks": ""
           }
          },
          "title": {
           "x": 0.05
          },
          "xaxis": {
           "automargin": true,
           "gridcolor": "white",
           "linecolor": "white",
           "ticks": "",
           "title": {
            "standoff": 15
           },
           "zerolinecolor": "white",
           "zerolinewidth": 2
          },
          "yaxis": {
           "automargin": true,
           "gridcolor": "white",
           "linecolor": "white",
           "ticks": "",
           "title": {
            "standoff": 15
           },
           "zerolinecolor": "white",
           "zerolinewidth": 2
          }
         }
        },
        "title": {
         "text": "Optimization History Plot"
        },
        "xaxis": {
         "title": {
          "text": "#Trials"
         }
        },
        "yaxis": {
         "title": {
          "text": "Objective Value"
         }
        }
       }
      }
     },
     "metadata": {},
     "output_type": "display_data"
    }
   ],
   "source": [
    "plot_optimization_history(study)"
   ]
  },
  {
   "cell_type": "markdown",
   "metadata": {},
   "source": [
    "### PR-AUC Optimisation"
   ]
  },
  {
   "cell_type": "code",
   "execution_count": 14,
   "metadata": {},
   "outputs": [
    {
     "name": "stderr",
     "output_type": "stream",
     "text": [
      "\u001b[32m[I 2022-03-18 18:47:50,333]\u001b[0m A new study created in memory with name: auc_objective\u001b[0m\n"
     ]
    },
    {
     "name": "stdout",
     "output_type": "stream",
     "text": [
      "[LightGBM] [Warning] feature_fraction is set=0.5305553829892898, colsample_bytree=1.0 will be ignored. Current value: feature_fraction=0.5305553829892898\n",
      "[LightGBM] [Warning] feature_fraction is set=0.5305553829892898, colsample_bytree=1.0 will be ignored. Current value: feature_fraction=0.5305553829892898\n",
      "[LightGBM] [Warning] feature_fraction is set=0.5305553829892898, colsample_bytree=1.0 will be ignored. Current value: feature_fraction=0.5305553829892898\n"
     ]
    },
    {
     "name": "stderr",
     "output_type": "stream",
     "text": [
      "\u001b[32m[I 2022-03-18 18:48:02,451]\u001b[0m Trial 0 finished with value: 0.29908 and parameters: {'n_estimators': 200, 'learning_rate': 0.14868339496693625, 'num_leaves': 244, 'feature_fraction': 0.5305553829892898}. Best is trial 0 with value: 0.29908.\u001b[0m\n"
     ]
    },
    {
     "name": "stdout",
     "output_type": "stream",
     "text": [
      "[LightGBM] [Warning] feature_fraction is set=0.6602689304450164, colsample_bytree=1.0 will be ignored. Current value: feature_fraction=0.6602689304450164\n",
      "[LightGBM] [Warning] feature_fraction is set=0.6602689304450164, colsample_bytree=1.0 will be ignored. Current value: feature_fraction=0.6602689304450164\n",
      "[LightGBM] [Warning] feature_fraction is set=0.6602689304450164, colsample_bytree=1.0 will be ignored. Current value: feature_fraction=0.6602689304450164\n"
     ]
    },
    {
     "name": "stderr",
     "output_type": "stream",
     "text": [
      "\u001b[32m[I 2022-03-18 18:48:04,637]\u001b[0m Trial 1 finished with value: 0.31412 and parameters: {'n_estimators': 20, 'learning_rate': 0.020201935612892193, 'num_leaves': 135, 'feature_fraction': 0.6602689304450164}. Best is trial 1 with value: 0.31412.\u001b[0m\n"
     ]
    },
    {
     "name": "stdout",
     "output_type": "stream",
     "text": [
      "[LightGBM] [Warning] feature_fraction is set=0.6789113405203464, colsample_bytree=1.0 will be ignored. Current value: feature_fraction=0.6789113405203464\n",
      "[LightGBM] [Warning] feature_fraction is set=0.6789113405203464, colsample_bytree=1.0 will be ignored. Current value: feature_fraction=0.6789113405203464\n",
      "[LightGBM] [Warning] feature_fraction is set=0.6789113405203464, colsample_bytree=1.0 will be ignored. Current value: feature_fraction=0.6789113405203464\n"
     ]
    },
    {
     "name": "stderr",
     "output_type": "stream",
     "text": [
      "\u001b[32m[I 2022-03-18 18:48:18,132]\u001b[0m Trial 2 finished with value: 0.29168 and parameters: {'n_estimators': 470, 'learning_rate': 0.2695192405144651, 'num_leaves': 47, 'feature_fraction': 0.6789113405203464}. Best is trial 1 with value: 0.31412.\u001b[0m\n"
     ]
    },
    {
     "name": "stdout",
     "output_type": "stream",
     "text": [
      "[LightGBM] [Warning] feature_fraction is set=0.6543519268164482, colsample_bytree=1.0 will be ignored. Current value: feature_fraction=0.6543519268164482\n",
      "[LightGBM] [Warning] feature_fraction is set=0.6543519268164482, colsample_bytree=1.0 will be ignored. Current value: feature_fraction=0.6543519268164482\n",
      "[LightGBM] [Warning] feature_fraction is set=0.6543519268164482, colsample_bytree=1.0 will be ignored. Current value: feature_fraction=0.6543519268164482\n"
     ]
    },
    {
     "name": "stderr",
     "output_type": "stream",
     "text": [
      "\u001b[32m[I 2022-03-18 18:48:34,675]\u001b[0m Trial 3 finished with value: 0.29757 and parameters: {'n_estimators': 460, 'learning_rate': 0.1220958128491529, 'num_leaves': 172, 'feature_fraction': 0.6543519268164482}. Best is trial 1 with value: 0.31412.\u001b[0m\n"
     ]
    },
    {
     "name": "stdout",
     "output_type": "stream",
     "text": [
      "[LightGBM] [Warning] feature_fraction is set=0.6868192900566619, colsample_bytree=1.0 will be ignored. Current value: feature_fraction=0.6868192900566619\n",
      "[LightGBM] [Warning] feature_fraction is set=0.6868192900566619, colsample_bytree=1.0 will be ignored. Current value: feature_fraction=0.6868192900566619\n",
      "[LightGBM] [Warning] feature_fraction is set=0.6868192900566619, colsample_bytree=1.0 will be ignored. Current value: feature_fraction=0.6868192900566619\n"
     ]
    },
    {
     "name": "stderr",
     "output_type": "stream",
     "text": [
      "\u001b[32m[I 2022-03-18 18:48:53,669]\u001b[0m Trial 4 finished with value: 0.29666 and parameters: {'n_estimators': 480, 'learning_rate': 0.14542704508604368, 'num_leaves': 139, 'feature_fraction': 0.6868192900566619}. Best is trial 1 with value: 0.31412.\u001b[0m\n"
     ]
    },
    {
     "name": "stdout",
     "output_type": "stream",
     "text": [
      "[LightGBM] [Warning] feature_fraction is set=0.5046247174345165, colsample_bytree=1.0 will be ignored. Current value: feature_fraction=0.5046247174345165\n",
      "[LightGBM] [Warning] feature_fraction is set=0.5046247174345165, colsample_bytree=1.0 will be ignored. Current value: feature_fraction=0.5046247174345165\n",
      "[LightGBM] [Warning] feature_fraction is set=0.5046247174345165, colsample_bytree=1.0 will be ignored. Current value: feature_fraction=0.5046247174345165\n"
     ]
    },
    {
     "name": "stderr",
     "output_type": "stream",
     "text": [
      "\u001b[32m[I 2022-03-18 18:48:55,759]\u001b[0m Trial 5 finished with value: 0.31166 and parameters: {'n_estimators': 20, 'learning_rate': 0.24427732699572696, 'num_leaves': 137, 'feature_fraction': 0.5046247174345165}. Best is trial 1 with value: 0.31412.\u001b[0m\n"
     ]
    },
    {
     "name": "stdout",
     "output_type": "stream",
     "text": [
      "[LightGBM] [Warning] feature_fraction is set=0.8255640854982327, colsample_bytree=1.0 will be ignored. Current value: feature_fraction=0.8255640854982327\n",
      "[LightGBM] [Warning] feature_fraction is set=0.8255640854982327, colsample_bytree=1.0 will be ignored. Current value: feature_fraction=0.8255640854982327\n",
      "[LightGBM] [Warning] feature_fraction is set=0.8255640854982327, colsample_bytree=1.0 will be ignored. Current value: feature_fraction=0.8255640854982327\n"
     ]
    },
    {
     "name": "stderr",
     "output_type": "stream",
     "text": [
      "\u001b[32m[I 2022-03-18 18:49:22,237]\u001b[0m Trial 6 finished with value: 0.30997 and parameters: {'n_estimators': 500, 'learning_rate': 0.06208964548439103, 'num_leaves': 135, 'feature_fraction': 0.8255640854982327}. Best is trial 1 with value: 0.31412.\u001b[0m\n"
     ]
    },
    {
     "name": "stdout",
     "output_type": "stream",
     "text": [
      "[LightGBM] [Warning] feature_fraction is set=0.7325145971317468, colsample_bytree=1.0 will be ignored. Current value: feature_fraction=0.7325145971317468\n",
      "[LightGBM] [Warning] feature_fraction is set=0.7325145971317468, colsample_bytree=1.0 will be ignored. Current value: feature_fraction=0.7325145971317468\n",
      "[LightGBM] [Warning] feature_fraction is set=0.7325145971317468, colsample_bytree=1.0 will be ignored. Current value: feature_fraction=0.7325145971317468\n"
     ]
    },
    {
     "name": "stderr",
     "output_type": "stream",
     "text": [
      "\u001b[32m[I 2022-03-18 18:49:28,523]\u001b[0m Trial 7 finished with value: 0.31531 and parameters: {'n_estimators': 180, 'learning_rate': 0.10518129654799298, 'num_leaves': 85, 'feature_fraction': 0.7325145971317468}. Best is trial 7 with value: 0.31531.\u001b[0m\n"
     ]
    },
    {
     "name": "stdout",
     "output_type": "stream",
     "text": [
      "[LightGBM] [Warning] feature_fraction is set=0.872624482583614, colsample_bytree=1.0 will be ignored. Current value: feature_fraction=0.872624482583614\n",
      "[LightGBM] [Warning] feature_fraction is set=0.872624482583614, colsample_bytree=1.0 will be ignored. Current value: feature_fraction=0.872624482583614\n",
      "[LightGBM] [Warning] feature_fraction is set=0.872624482583614, colsample_bytree=1.0 will be ignored. Current value: feature_fraction=0.872624482583614\n"
     ]
    },
    {
     "name": "stderr",
     "output_type": "stream",
     "text": [
      "\u001b[32m[I 2022-03-18 18:49:43,327]\u001b[0m Trial 8 finished with value: 0.31395 and parameters: {'n_estimators': 380, 'learning_rate': 0.06075467053806116, 'num_leaves': 103, 'feature_fraction': 0.872624482583614}. Best is trial 7 with value: 0.31531.\u001b[0m\n"
     ]
    },
    {
     "name": "stdout",
     "output_type": "stream",
     "text": [
      "[LightGBM] [Warning] feature_fraction is set=0.4399523764128841, colsample_bytree=1.0 will be ignored. Current value: feature_fraction=0.4399523764128841\n",
      "[LightGBM] [Warning] feature_fraction is set=0.4399523764128841, colsample_bytree=1.0 will be ignored. Current value: feature_fraction=0.4399523764128841\n",
      "[LightGBM] [Warning] feature_fraction is set=0.4399523764128841, colsample_bytree=1.0 will be ignored. Current value: feature_fraction=0.4399523764128841\n"
     ]
    },
    {
     "name": "stderr",
     "output_type": "stream",
     "text": [
      "\u001b[32m[I 2022-03-18 18:49:48,843]\u001b[0m Trial 9 finished with value: 0.32033 and parameters: {'n_estimators': 60, 'learning_rate': 0.12353516831555358, 'num_leaves': 54, 'feature_fraction': 0.4399523764128841}. Best is trial 9 with value: 0.32033.\u001b[0m\n"
     ]
    },
    {
     "name": "stdout",
     "output_type": "stream",
     "text": [
      "[LightGBM] [Warning] feature_fraction is set=0.4013836530185018, colsample_bytree=1.0 will be ignored. Current value: feature_fraction=0.4013836530185018\n",
      "[LightGBM] [Warning] feature_fraction is set=0.4013836530185018, colsample_bytree=1.0 will be ignored. Current value: feature_fraction=0.4013836530185018\n",
      "[LightGBM] [Warning] feature_fraction is set=0.4013836530185018, colsample_bytree=1.0 will be ignored. Current value: feature_fraction=0.4013836530185018\n"
     ]
    },
    {
     "name": "stderr",
     "output_type": "stream",
     "text": [
      "\u001b[32m[I 2022-03-18 18:49:52,468]\u001b[0m Trial 10 finished with value: 0.31726 and parameters: {'n_estimators': 110, 'learning_rate': 0.20758996505996932, 'num_leaves': 29, 'feature_fraction': 0.4013836530185018}. Best is trial 9 with value: 0.32033.\u001b[0m\n"
     ]
    },
    {
     "name": "stdout",
     "output_type": "stream",
     "text": [
      "[LightGBM] [Warning] feature_fraction is set=0.4293269047611521, colsample_bytree=1.0 will be ignored. Current value: feature_fraction=0.4293269047611521\n",
      "[LightGBM] [Warning] feature_fraction is set=0.4293269047611521, colsample_bytree=1.0 will be ignored. Current value: feature_fraction=0.4293269047611521\n",
      "[LightGBM] [Warning] feature_fraction is set=0.4293269047611521, colsample_bytree=1.0 will be ignored. Current value: feature_fraction=0.4293269047611521\n"
     ]
    },
    {
     "name": "stderr",
     "output_type": "stream",
     "text": [
      "\u001b[32m[I 2022-03-18 18:49:55,666]\u001b[0m Trial 11 finished with value: 0.31874 and parameters: {'n_estimators': 100, 'learning_rate': 0.21278563951303617, 'num_leaves': 13, 'feature_fraction': 0.4293269047611521}. Best is trial 9 with value: 0.32033.\u001b[0m\n"
     ]
    },
    {
     "name": "stdout",
     "output_type": "stream",
     "text": [
      "[LightGBM] [Warning] feature_fraction is set=0.4049800032437832, colsample_bytree=1.0 will be ignored. Current value: feature_fraction=0.4049800032437832\n",
      "[LightGBM] [Warning] feature_fraction is set=0.4049800032437832, colsample_bytree=1.0 will be ignored. Current value: feature_fraction=0.4049800032437832\n",
      "[LightGBM] [Warning] feature_fraction is set=0.4049800032437832, colsample_bytree=1.0 will be ignored. Current value: feature_fraction=0.4049800032437832\n"
     ]
    },
    {
     "name": "stderr",
     "output_type": "stream",
     "text": [
      "\u001b[32m[I 2022-03-18 18:49:58,205]\u001b[0m Trial 12 finished with value: 0.31414 and parameters: {'n_estimators': 80, 'learning_rate': 0.19518583922985727, 'num_leaves': 3, 'feature_fraction': 0.4049800032437832}. Best is trial 9 with value: 0.32033.\u001b[0m\n"
     ]
    },
    {
     "name": "stdout",
     "output_type": "stream",
     "text": [
      "[LightGBM] [Warning] feature_fraction is set=0.49250517086646606, colsample_bytree=1.0 will be ignored. Current value: feature_fraction=0.49250517086646606\n",
      "[LightGBM] [Warning] feature_fraction is set=0.49250517086646606, colsample_bytree=1.0 will be ignored. Current value: feature_fraction=0.49250517086646606\n",
      "[LightGBM] [Warning] feature_fraction is set=0.49250517086646606, colsample_bytree=1.0 will be ignored. Current value: feature_fraction=0.49250517086646606\n"
     ]
    },
    {
     "name": "stderr",
     "output_type": "stream",
     "text": [
      "\u001b[32m[I 2022-03-18 18:50:07,222]\u001b[0m Trial 13 finished with value: 0.32073 and parameters: {'n_estimators': 320, 'learning_rate': 0.19828730616258367, 'num_leaves': 4, 'feature_fraction': 0.49250517086646606}. Best is trial 13 with value: 0.32073.\u001b[0m\n"
     ]
    },
    {
     "name": "stdout",
     "output_type": "stream",
     "text": [
      "[LightGBM] [Warning] feature_fraction is set=0.5272987365832502, colsample_bytree=1.0 will be ignored. Current value: feature_fraction=0.5272987365832502\n",
      "[LightGBM] [Warning] feature_fraction is set=0.5272987365832502, colsample_bytree=1.0 will be ignored. Current value: feature_fraction=0.5272987365832502\n",
      "[LightGBM] [Warning] feature_fraction is set=0.5272987365832502, colsample_bytree=1.0 will be ignored. Current value: feature_fraction=0.5272987365832502\n"
     ]
    },
    {
     "name": "stderr",
     "output_type": "stream",
     "text": [
      "\u001b[32m[I 2022-03-18 18:50:19,419]\u001b[0m Trial 14 finished with value: 0.30248 and parameters: {'n_estimators': 330, 'learning_rate': 0.18308891525323248, 'num_leaves': 62, 'feature_fraction': 0.5272987365832502}. Best is trial 13 with value: 0.32073.\u001b[0m\n"
     ]
    },
    {
     "name": "stdout",
     "output_type": "stream",
     "text": [
      "[LightGBM] [Warning] feature_fraction is set=0.5836004364934889, colsample_bytree=1.0 will be ignored. Current value: feature_fraction=0.5836004364934889\n",
      "[LightGBM] [Warning] feature_fraction is set=0.5836004364934889, colsample_bytree=1.0 will be ignored. Current value: feature_fraction=0.5836004364934889\n",
      "[LightGBM] [Warning] feature_fraction is set=0.5836004364934889, colsample_bytree=1.0 will be ignored. Current value: feature_fraction=0.5836004364934889\n"
     ]
    },
    {
     "name": "stderr",
     "output_type": "stream",
     "text": [
      "\u001b[32m[I 2022-03-18 18:50:27,154]\u001b[0m Trial 15 finished with value: 0.31424 and parameters: {'n_estimators': 300, 'learning_rate': 0.28955122361479835, 'num_leaves': 7, 'feature_fraction': 0.5836004364934889}. Best is trial 13 with value: 0.32073.\u001b[0m\n"
     ]
    },
    {
     "name": "stdout",
     "output_type": "stream",
     "text": [
      "[LightGBM] [Warning] feature_fraction is set=0.9672439702184172, colsample_bytree=1.0 will be ignored. Current value: feature_fraction=0.9672439702184172\n",
      "[LightGBM] [Warning] feature_fraction is set=0.9672439702184172, colsample_bytree=1.0 will be ignored. Current value: feature_fraction=0.9672439702184172\n",
      "[LightGBM] [Warning] feature_fraction is set=0.9672439702184172, colsample_bytree=1.0 will be ignored. Current value: feature_fraction=0.9672439702184172\n"
     ]
    },
    {
     "name": "stderr",
     "output_type": "stream",
     "text": [
      "\u001b[32m[I 2022-03-18 18:50:36,466]\u001b[0m Trial 16 finished with value: 0.31414 and parameters: {'n_estimators': 240, 'learning_rate': 0.0898329468655856, 'num_leaves': 67, 'feature_fraction': 0.9672439702184172}. Best is trial 13 with value: 0.32073.\u001b[0m\n"
     ]
    },
    {
     "name": "stdout",
     "output_type": "stream",
     "text": [
      "[LightGBM] [Warning] feature_fraction is set=0.46694260110503927, colsample_bytree=1.0 will be ignored. Current value: feature_fraction=0.46694260110503927\n",
      "[LightGBM] [Warning] feature_fraction is set=0.46694260110503927, colsample_bytree=1.0 will be ignored. Current value: feature_fraction=0.46694260110503927\n",
      "[LightGBM] [Warning] feature_fraction is set=0.46694260110503927, colsample_bytree=1.0 will be ignored. Current value: feature_fraction=0.46694260110503927\n"
     ]
    },
    {
     "name": "stderr",
     "output_type": "stream",
     "text": [
      "\u001b[32m[I 2022-03-18 18:50:47,990]\u001b[0m Trial 17 finished with value: 0.30855 and parameters: {'n_estimators': 390, 'learning_rate': 0.16897110358014122, 'num_leaves': 34, 'feature_fraction': 0.46694260110503927}. Best is trial 13 with value: 0.32073.\u001b[0m\n"
     ]
    },
    {
     "name": "stdout",
     "output_type": "stream",
     "text": [
      "[LightGBM] [Warning] feature_fraction is set=0.5880895908067125, colsample_bytree=1.0 will be ignored. Current value: feature_fraction=0.5880895908067125\n",
      "[LightGBM] [Warning] feature_fraction is set=0.5880895908067125, colsample_bytree=1.0 will be ignored. Current value: feature_fraction=0.5880895908067125\n",
      "[LightGBM] [Warning] feature_fraction is set=0.5880895908067125, colsample_bytree=1.0 will be ignored. Current value: feature_fraction=0.5880895908067125\n"
     ]
    },
    {
     "name": "stderr",
     "output_type": "stream",
     "text": [
      "\u001b[32m[I 2022-03-18 18:51:08,754]\u001b[0m Trial 18 finished with value: 0.2868 and parameters: {'n_estimators': 300, 'learning_rate': 0.2395300173007014, 'num_leaves': 191, 'feature_fraction': 0.5880895908067125}. Best is trial 13 with value: 0.32073.\u001b[0m\n"
     ]
    },
    {
     "name": "stdout",
     "output_type": "stream",
     "text": [
      "[LightGBM] [Warning] feature_fraction is set=0.45007468630973646, colsample_bytree=1.0 will be ignored. Current value: feature_fraction=0.45007468630973646\n",
      "[LightGBM] [Warning] feature_fraction is set=0.45007468630973646, colsample_bytree=1.0 will be ignored. Current value: feature_fraction=0.45007468630973646\n",
      "[LightGBM] [Warning] feature_fraction is set=0.45007468630973646, colsample_bytree=1.0 will be ignored. Current value: feature_fraction=0.45007468630973646\n"
     ]
    },
    {
     "name": "stderr",
     "output_type": "stream",
     "text": [
      "\u001b[32m[I 2022-03-18 18:51:18,879]\u001b[0m Trial 19 finished with value: 0.31084 and parameters: {'n_estimators': 180, 'learning_rate': 0.13244479252148977, 'num_leaves': 96, 'feature_fraction': 0.45007468630973646}. Best is trial 13 with value: 0.32073.\u001b[0m\n"
     ]
    },
    {
     "name": "stdout",
     "output_type": "stream",
     "text": [
      "[LightGBM] [Warning] feature_fraction is set=0.5795002959805742, colsample_bytree=1.0 will be ignored. Current value: feature_fraction=0.5795002959805742\n",
      "[LightGBM] [Warning] feature_fraction is set=0.5795002959805742, colsample_bytree=1.0 will be ignored. Current value: feature_fraction=0.5795002959805742\n",
      "[LightGBM] [Warning] feature_fraction is set=0.5795002959805742, colsample_bytree=1.0 will be ignored. Current value: feature_fraction=0.5795002959805742\n"
     ]
    },
    {
     "name": "stderr",
     "output_type": "stream",
     "text": [
      "\u001b[32m[I 2022-03-18 18:51:51,257]\u001b[0m Trial 20 finished with value: 0.3148 and parameters: {'n_estimators': 380, 'learning_rate': 0.0827391926358734, 'num_leaves': 60, 'feature_fraction': 0.5795002959805742}. Best is trial 13 with value: 0.32073.\u001b[0m\n"
     ]
    },
    {
     "name": "stdout",
     "output_type": "stream",
     "text": [
      "[LightGBM] [Warning] feature_fraction is set=0.43675768175323715, colsample_bytree=1.0 will be ignored. Current value: feature_fraction=0.43675768175323715\n",
      "[LightGBM] [Warning] feature_fraction is set=0.43675768175323715, colsample_bytree=1.0 will be ignored. Current value: feature_fraction=0.43675768175323715\n",
      "[LightGBM] [Warning] feature_fraction is set=0.43675768175323715, colsample_bytree=1.0 will be ignored. Current value: feature_fraction=0.43675768175323715\n"
     ]
    },
    {
     "name": "stderr",
     "output_type": "stream",
     "text": [
      "\u001b[32m[I 2022-03-18 18:51:59,378]\u001b[0m Trial 21 finished with value: 0.31992 and parameters: {'n_estimators': 100, 'learning_rate': 0.22424078105135017, 'num_leaves': 5, 'feature_fraction': 0.43675768175323715}. Best is trial 13 with value: 0.32073.\u001b[0m\n"
     ]
    },
    {
     "name": "stdout",
     "output_type": "stream",
     "text": [
      "[LightGBM] [Warning] feature_fraction is set=0.4782603032578406, colsample_bytree=1.0 will be ignored. Current value: feature_fraction=0.4782603032578406\n",
      "[LightGBM] [Warning] feature_fraction is set=0.4782603032578406, colsample_bytree=1.0 will be ignored. Current value: feature_fraction=0.4782603032578406\n",
      "[LightGBM] [Warning] feature_fraction is set=0.4782603032578406, colsample_bytree=1.0 will be ignored. Current value: feature_fraction=0.4782603032578406\n"
     ]
    },
    {
     "name": "stderr",
     "output_type": "stream",
     "text": [
      "\u001b[32m[I 2022-03-18 18:52:02,389]\u001b[0m Trial 22 finished with value: 0.3124 and parameters: {'n_estimators': 50, 'learning_rate': 0.2373057664455915, 'num_leaves': 3, 'feature_fraction': 0.4782603032578406}. Best is trial 13 with value: 0.32073.\u001b[0m\n"
     ]
    },
    {
     "name": "stdout",
     "output_type": "stream",
     "text": [
      "[LightGBM] [Warning] feature_fraction is set=0.40100049822035366, colsample_bytree=1.0 will be ignored. Current value: feature_fraction=0.40100049822035366\n",
      "[LightGBM] [Warning] feature_fraction is set=0.40100049822035366, colsample_bytree=1.0 will be ignored. Current value: feature_fraction=0.40100049822035366\n",
      "[LightGBM] [Warning] feature_fraction is set=0.40100049822035366, colsample_bytree=1.0 will be ignored. Current value: feature_fraction=0.40100049822035366\n"
     ]
    },
    {
     "name": "stderr",
     "output_type": "stream",
     "text": [
      "\u001b[32m[I 2022-03-18 18:52:14,329]\u001b[0m Trial 23 finished with value: 0.31583 and parameters: {'n_estimators': 240, 'learning_rate': 0.16386072389934, 'num_leaves': 25, 'feature_fraction': 0.40100049822035366}. Best is trial 13 with value: 0.32073.\u001b[0m\n"
     ]
    },
    {
     "name": "stdout",
     "output_type": "stream",
     "text": [
      "[LightGBM] [Warning] feature_fraction is set=0.5487149770000069, colsample_bytree=1.0 will be ignored. Current value: feature_fraction=0.5487149770000069\n",
      "[LightGBM] [Warning] feature_fraction is set=0.5487149770000069, colsample_bytree=1.0 will be ignored. Current value: feature_fraction=0.5487149770000069\n",
      "[LightGBM] [Warning] feature_fraction is set=0.5487149770000069, colsample_bytree=1.0 will be ignored. Current value: feature_fraction=0.5487149770000069\n"
     ]
    },
    {
     "name": "stderr",
     "output_type": "stream",
     "text": [
      "\u001b[32m[I 2022-03-18 18:52:22,791]\u001b[0m Trial 24 finished with value: 0.31003 and parameters: {'n_estimators': 150, 'learning_rate': 0.22470415478396014, 'num_leaves': 42, 'feature_fraction': 0.5487149770000069}. Best is trial 13 with value: 0.32073.\u001b[0m\n"
     ]
    },
    {
     "name": "stdout",
     "output_type": "stream",
     "text": [
      "Number of finished trials: 25\n",
      "Best trial:\n",
      "  Value: 0.32073\n",
      "  Params: \n",
      "    n_estimators: 320\n",
      "    learning_rate: 0.19828730616258367\n",
      "    num_leaves: 4\n",
      "    feature_fraction: 0.49250517086646606\n"
     ]
    }
   ],
   "source": [
    "study = optuna.create_study(study_name='prauc_objective',direction=\"maximize\")\n",
    "study.optimize(PRAUCObjective(X_train,y_train), n_trials=25, timeout=300)\n",
    "print(\"Number of finished trials: {}\".format(len(study.trials)))\n",
    "plot_optimization_history(study)\n",
    "print(\"Best trial:\")\n",
    "trial = study.best_trial\n",
    "print(\"  Value: {}\".format(trial.value))\n",
    "print(\"  Params: \")\n",
    "for key, value in trial.params.items():\n",
    "    print(\"    {}: {}\".format(key, value))"
   ]
  },
  {
   "cell_type": "code",
   "execution_count": 15,
   "metadata": {},
   "outputs": [
    {
     "data": {
      "application/vnd.plotly.v1+json": {
       "config": {
        "plotlyServerURL": "https://plot.ly"
       },
       "data": [
        {
         "mode": "markers",
         "name": "Objective Value",
         "type": "scatter",
         "x": [
          0,
          1,
          2,
          3,
          4,
          5,
          6,
          7,
          8,
          9,
          10,
          11,
          12,
          13,
          14,
          15,
          16,
          17,
          18,
          19,
          20,
          21,
          22,
          23,
          24
         ],
         "y": [
          0.29908,
          0.31412,
          0.29168,
          0.29757,
          0.29666,
          0.31166,
          0.30997,
          0.31531,
          0.31395,
          0.32033,
          0.31726,
          0.31874,
          0.31414,
          0.32073,
          0.30248,
          0.31424,
          0.31414,
          0.30855,
          0.2868,
          0.31084,
          0.3148,
          0.31992,
          0.3124,
          0.31583,
          0.31003
         ]
        },
        {
         "name": "Best Value",
         "type": "scatter",
         "x": [
          0,
          1,
          2,
          3,
          4,
          5,
          6,
          7,
          8,
          9,
          10,
          11,
          12,
          13,
          14,
          15,
          16,
          17,
          18,
          19,
          20,
          21,
          22,
          23,
          24
         ],
         "y": [
          0.29908,
          0.31412,
          0.31412,
          0.31412,
          0.31412,
          0.31412,
          0.31412,
          0.31531,
          0.31531,
          0.32033,
          0.32033,
          0.32033,
          0.32033,
          0.32073,
          0.32073,
          0.32073,
          0.32073,
          0.32073,
          0.32073,
          0.32073,
          0.32073,
          0.32073,
          0.32073,
          0.32073,
          0.32073
         ]
        }
       ],
       "layout": {
        "template": {
         "data": {
          "bar": [
           {
            "error_x": {
             "color": "#2a3f5f"
            },
            "error_y": {
             "color": "#2a3f5f"
            },
            "marker": {
             "line": {
              "color": "#E5ECF6",
              "width": 0.5
             }
            },
            "type": "bar"
           }
          ],
          "barpolar": [
           {
            "marker": {
             "line": {
              "color": "#E5ECF6",
              "width": 0.5
             }
            },
            "type": "barpolar"
           }
          ],
          "carpet": [
           {
            "aaxis": {
             "endlinecolor": "#2a3f5f",
             "gridcolor": "white",
             "linecolor": "white",
             "minorgridcolor": "white",
             "startlinecolor": "#2a3f5f"
            },
            "baxis": {
             "endlinecolor": "#2a3f5f",
             "gridcolor": "white",
             "linecolor": "white",
             "minorgridcolor": "white",
             "startlinecolor": "#2a3f5f"
            },
            "type": "carpet"
           }
          ],
          "choropleth": [
           {
            "colorbar": {
             "outlinewidth": 0,
             "ticks": ""
            },
            "type": "choropleth"
           }
          ],
          "contour": [
           {
            "colorbar": {
             "outlinewidth": 0,
             "ticks": ""
            },
            "colorscale": [
             [
              0,
              "#0d0887"
             ],
             [
              0.1111111111111111,
              "#46039f"
             ],
             [
              0.2222222222222222,
              "#7201a8"
             ],
             [
              0.3333333333333333,
              "#9c179e"
             ],
             [
              0.4444444444444444,
              "#bd3786"
             ],
             [
              0.5555555555555556,
              "#d8576b"
             ],
             [
              0.6666666666666666,
              "#ed7953"
             ],
             [
              0.7777777777777778,
              "#fb9f3a"
             ],
             [
              0.8888888888888888,
              "#fdca26"
             ],
             [
              1,
              "#f0f921"
             ]
            ],
            "type": "contour"
           }
          ],
          "contourcarpet": [
           {
            "colorbar": {
             "outlinewidth": 0,
             "ticks": ""
            },
            "type": "contourcarpet"
           }
          ],
          "heatmap": [
           {
            "colorbar": {
             "outlinewidth": 0,
             "ticks": ""
            },
            "colorscale": [
             [
              0,
              "#0d0887"
             ],
             [
              0.1111111111111111,
              "#46039f"
             ],
             [
              0.2222222222222222,
              "#7201a8"
             ],
             [
              0.3333333333333333,
              "#9c179e"
             ],
             [
              0.4444444444444444,
              "#bd3786"
             ],
             [
              0.5555555555555556,
              "#d8576b"
             ],
             [
              0.6666666666666666,
              "#ed7953"
             ],
             [
              0.7777777777777778,
              "#fb9f3a"
             ],
             [
              0.8888888888888888,
              "#fdca26"
             ],
             [
              1,
              "#f0f921"
             ]
            ],
            "type": "heatmap"
           }
          ],
          "heatmapgl": [
           {
            "colorbar": {
             "outlinewidth": 0,
             "ticks": ""
            },
            "colorscale": [
             [
              0,
              "#0d0887"
             ],
             [
              0.1111111111111111,
              "#46039f"
             ],
             [
              0.2222222222222222,
              "#7201a8"
             ],
             [
              0.3333333333333333,
              "#9c179e"
             ],
             [
              0.4444444444444444,
              "#bd3786"
             ],
             [
              0.5555555555555556,
              "#d8576b"
             ],
             [
              0.6666666666666666,
              "#ed7953"
             ],
             [
              0.7777777777777778,
              "#fb9f3a"
             ],
             [
              0.8888888888888888,
              "#fdca26"
             ],
             [
              1,
              "#f0f921"
             ]
            ],
            "type": "heatmapgl"
           }
          ],
          "histogram": [
           {
            "marker": {
             "colorbar": {
              "outlinewidth": 0,
              "ticks": ""
             }
            },
            "type": "histogram"
           }
          ],
          "histogram2d": [
           {
            "colorbar": {
             "outlinewidth": 0,
             "ticks": ""
            },
            "colorscale": [
             [
              0,
              "#0d0887"
             ],
             [
              0.1111111111111111,
              "#46039f"
             ],
             [
              0.2222222222222222,
              "#7201a8"
             ],
             [
              0.3333333333333333,
              "#9c179e"
             ],
             [
              0.4444444444444444,
              "#bd3786"
             ],
             [
              0.5555555555555556,
              "#d8576b"
             ],
             [
              0.6666666666666666,
              "#ed7953"
             ],
             [
              0.7777777777777778,
              "#fb9f3a"
             ],
             [
              0.8888888888888888,
              "#fdca26"
             ],
             [
              1,
              "#f0f921"
             ]
            ],
            "type": "histogram2d"
           }
          ],
          "histogram2dcontour": [
           {
            "colorbar": {
             "outlinewidth": 0,
             "ticks": ""
            },
            "colorscale": [
             [
              0,
              "#0d0887"
             ],
             [
              0.1111111111111111,
              "#46039f"
             ],
             [
              0.2222222222222222,
              "#7201a8"
             ],
             [
              0.3333333333333333,
              "#9c179e"
             ],
             [
              0.4444444444444444,
              "#bd3786"
             ],
             [
              0.5555555555555556,
              "#d8576b"
             ],
             [
              0.6666666666666666,
              "#ed7953"
             ],
             [
              0.7777777777777778,
              "#fb9f3a"
             ],
             [
              0.8888888888888888,
              "#fdca26"
             ],
             [
              1,
              "#f0f921"
             ]
            ],
            "type": "histogram2dcontour"
           }
          ],
          "mesh3d": [
           {
            "colorbar": {
             "outlinewidth": 0,
             "ticks": ""
            },
            "type": "mesh3d"
           }
          ],
          "parcoords": [
           {
            "line": {
             "colorbar": {
              "outlinewidth": 0,
              "ticks": ""
             }
            },
            "type": "parcoords"
           }
          ],
          "pie": [
           {
            "automargin": true,
            "type": "pie"
           }
          ],
          "scatter": [
           {
            "marker": {
             "colorbar": {
              "outlinewidth": 0,
              "ticks": ""
             }
            },
            "type": "scatter"
           }
          ],
          "scatter3d": [
           {
            "line": {
             "colorbar": {
              "outlinewidth": 0,
              "ticks": ""
             }
            },
            "marker": {
             "colorbar": {
              "outlinewidth": 0,
              "ticks": ""
             }
            },
            "type": "scatter3d"
           }
          ],
          "scattercarpet": [
           {
            "marker": {
             "colorbar": {
              "outlinewidth": 0,
              "ticks": ""
             }
            },
            "type": "scattercarpet"
           }
          ],
          "scattergeo": [
           {
            "marker": {
             "colorbar": {
              "outlinewidth": 0,
              "ticks": ""
             }
            },
            "type": "scattergeo"
           }
          ],
          "scattergl": [
           {
            "marker": {
             "colorbar": {
              "outlinewidth": 0,
              "ticks": ""
             }
            },
            "type": "scattergl"
           }
          ],
          "scattermapbox": [
           {
            "marker": {
             "colorbar": {
              "outlinewidth": 0,
              "ticks": ""
             }
            },
            "type": "scattermapbox"
           }
          ],
          "scatterpolar": [
           {
            "marker": {
             "colorbar": {
              "outlinewidth": 0,
              "ticks": ""
             }
            },
            "type": "scatterpolar"
           }
          ],
          "scatterpolargl": [
           {
            "marker": {
             "colorbar": {
              "outlinewidth": 0,
              "ticks": ""
             }
            },
            "type": "scatterpolargl"
           }
          ],
          "scatterternary": [
           {
            "marker": {
             "colorbar": {
              "outlinewidth": 0,
              "ticks": ""
             }
            },
            "type": "scatterternary"
           }
          ],
          "surface": [
           {
            "colorbar": {
             "outlinewidth": 0,
             "ticks": ""
            },
            "colorscale": [
             [
              0,
              "#0d0887"
             ],
             [
              0.1111111111111111,
              "#46039f"
             ],
             [
              0.2222222222222222,
              "#7201a8"
             ],
             [
              0.3333333333333333,
              "#9c179e"
             ],
             [
              0.4444444444444444,
              "#bd3786"
             ],
             [
              0.5555555555555556,
              "#d8576b"
             ],
             [
              0.6666666666666666,
              "#ed7953"
             ],
             [
              0.7777777777777778,
              "#fb9f3a"
             ],
             [
              0.8888888888888888,
              "#fdca26"
             ],
             [
              1,
              "#f0f921"
             ]
            ],
            "type": "surface"
           }
          ],
          "table": [
           {
            "cells": {
             "fill": {
              "color": "#EBF0F8"
             },
             "line": {
              "color": "white"
             }
            },
            "header": {
             "fill": {
              "color": "#C8D4E3"
             },
             "line": {
              "color": "white"
             }
            },
            "type": "table"
           }
          ]
         },
         "layout": {
          "annotationdefaults": {
           "arrowcolor": "#2a3f5f",
           "arrowhead": 0,
           "arrowwidth": 1
          },
          "autotypenumbers": "strict",
          "coloraxis": {
           "colorbar": {
            "outlinewidth": 0,
            "ticks": ""
           }
          },
          "colorscale": {
           "diverging": [
            [
             0,
             "#8e0152"
            ],
            [
             0.1,
             "#c51b7d"
            ],
            [
             0.2,
             "#de77ae"
            ],
            [
             0.3,
             "#f1b6da"
            ],
            [
             0.4,
             "#fde0ef"
            ],
            [
             0.5,
             "#f7f7f7"
            ],
            [
             0.6,
             "#e6f5d0"
            ],
            [
             0.7,
             "#b8e186"
            ],
            [
             0.8,
             "#7fbc41"
            ],
            [
             0.9,
             "#4d9221"
            ],
            [
             1,
             "#276419"
            ]
           ],
           "sequential": [
            [
             0,
             "#0d0887"
            ],
            [
             0.1111111111111111,
             "#46039f"
            ],
            [
             0.2222222222222222,
             "#7201a8"
            ],
            [
             0.3333333333333333,
             "#9c179e"
            ],
            [
             0.4444444444444444,
             "#bd3786"
            ],
            [
             0.5555555555555556,
             "#d8576b"
            ],
            [
             0.6666666666666666,
             "#ed7953"
            ],
            [
             0.7777777777777778,
             "#fb9f3a"
            ],
            [
             0.8888888888888888,
             "#fdca26"
            ],
            [
             1,
             "#f0f921"
            ]
           ],
           "sequentialminus": [
            [
             0,
             "#0d0887"
            ],
            [
             0.1111111111111111,
             "#46039f"
            ],
            [
             0.2222222222222222,
             "#7201a8"
            ],
            [
             0.3333333333333333,
             "#9c179e"
            ],
            [
             0.4444444444444444,
             "#bd3786"
            ],
            [
             0.5555555555555556,
             "#d8576b"
            ],
            [
             0.6666666666666666,
             "#ed7953"
            ],
            [
             0.7777777777777778,
             "#fb9f3a"
            ],
            [
             0.8888888888888888,
             "#fdca26"
            ],
            [
             1,
             "#f0f921"
            ]
           ]
          },
          "colorway": [
           "#636efa",
           "#EF553B",
           "#00cc96",
           "#ab63fa",
           "#FFA15A",
           "#19d3f3",
           "#FF6692",
           "#B6E880",
           "#FF97FF",
           "#FECB52"
          ],
          "font": {
           "color": "#2a3f5f"
          },
          "geo": {
           "bgcolor": "white",
           "lakecolor": "white",
           "landcolor": "#E5ECF6",
           "showlakes": true,
           "showland": true,
           "subunitcolor": "white"
          },
          "hoverlabel": {
           "align": "left"
          },
          "hovermode": "closest",
          "mapbox": {
           "style": "light"
          },
          "paper_bgcolor": "white",
          "plot_bgcolor": "#E5ECF6",
          "polar": {
           "angularaxis": {
            "gridcolor": "white",
            "linecolor": "white",
            "ticks": ""
           },
           "bgcolor": "#E5ECF6",
           "radialaxis": {
            "gridcolor": "white",
            "linecolor": "white",
            "ticks": ""
           }
          },
          "scene": {
           "xaxis": {
            "backgroundcolor": "#E5ECF6",
            "gridcolor": "white",
            "gridwidth": 2,
            "linecolor": "white",
            "showbackground": true,
            "ticks": "",
            "zerolinecolor": "white"
           },
           "yaxis": {
            "backgroundcolor": "#E5ECF6",
            "gridcolor": "white",
            "gridwidth": 2,
            "linecolor": "white",
            "showbackground": true,
            "ticks": "",
            "zerolinecolor": "white"
           },
           "zaxis": {
            "backgroundcolor": "#E5ECF6",
            "gridcolor": "white",
            "gridwidth": 2,
            "linecolor": "white",
            "showbackground": true,
            "ticks": "",
            "zerolinecolor": "white"
           }
          },
          "shapedefaults": {
           "line": {
            "color": "#2a3f5f"
           }
          },
          "ternary": {
           "aaxis": {
            "gridcolor": "white",
            "linecolor": "white",
            "ticks": ""
           },
           "baxis": {
            "gridcolor": "white",
            "linecolor": "white",
            "ticks": ""
           },
           "bgcolor": "#E5ECF6",
           "caxis": {
            "gridcolor": "white",
            "linecolor": "white",
            "ticks": ""
           }
          },
          "title": {
           "x": 0.05
          },
          "xaxis": {
           "automargin": true,
           "gridcolor": "white",
           "linecolor": "white",
           "ticks": "",
           "title": {
            "standoff": 15
           },
           "zerolinecolor": "white",
           "zerolinewidth": 2
          },
          "yaxis": {
           "automargin": true,
           "gridcolor": "white",
           "linecolor": "white",
           "ticks": "",
           "title": {
            "standoff": 15
           },
           "zerolinecolor": "white",
           "zerolinewidth": 2
          }
         }
        },
        "title": {
         "text": "Optimization History Plot"
        },
        "xaxis": {
         "title": {
          "text": "#Trials"
         }
        },
        "yaxis": {
         "title": {
          "text": "Objective Value"
         }
        }
       }
      }
     },
     "metadata": {},
     "output_type": "display_data"
    }
   ],
   "source": [
    "plot_optimization_history(study)"
   ]
  },
  {
   "cell_type": "code",
   "execution_count": 16,
   "metadata": {},
   "outputs": [],
   "source": [
    "# from optuna.visualization import plot_param_importances,plot_pareto_front\n",
    "# plotly_config = {\"staticPlot\": True}\n",
    "# fig = plot_param_importances(study,target=lambda t: t.values[0])\n",
    "# fig.show(config=plotly_config)"
   ]
  },
  {
   "cell_type": "code",
   "execution_count": 17,
   "metadata": {},
   "outputs": [],
   "source": [
    "# from optuna.visualization import plot_param_importances,plot_pareto_front\n",
    "# plotly_config = {\"staticPlot\": True}\n",
    "# fig = plot_param_importances(study,target=lambda t: t.values[1])\n",
    "# fig.show(config=plotly_config)"
   ]
  },
  {
   "cell_type": "code",
   "execution_count": null,
   "metadata": {},
   "outputs": [],
   "source": []
  }
 ],
 "metadata": {
  "interpreter": {
   "hash": "a5b7bd06b5a3e4368dd9531fff5bb5ceb47b896458e87cfaf0764c4d69ca71fa"
  },
  "kernelspec": {
   "display_name": "Python 3.6.2 64-bit ('ml_course': conda)",
   "language": "python",
   "name": "python3"
  },
  "language_info": {
   "codemirror_mode": {
    "name": "ipython",
    "version": 3
   },
   "file_extension": ".py",
   "mimetype": "text/x-python",
   "name": "python",
   "nbconvert_exporter": "python",
   "pygments_lexer": "ipython3",
   "version": "3.6.2"
  },
  "orig_nbformat": 2
 },
 "nbformat": 4,
 "nbformat_minor": 2
}
